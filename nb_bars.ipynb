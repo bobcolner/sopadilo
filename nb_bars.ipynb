{
 "cells": [
  {
   "cell_type": "markdown",
   "metadata": {},
   "source": [
    "# Ray start/stop"
   ]
  },
  {
   "cell_type": "code",
   "execution_count": 17,
   "metadata": {
    "execution": {
     "iopub.execute_input": "2021-05-20T07:07:04.199174Z",
     "iopub.status.busy": "2021-05-20T07:07:04.198462Z",
     "iopub.status.idle": "2021-05-20T07:07:04.376806Z",
     "shell.execute_reply": "2021-05-20T07:07:04.374793Z",
     "shell.execute_reply.started": "2021-05-20T07:07:04.199125Z"
    }
   },
   "outputs": [
    {
     "name": "stderr",
     "output_type": "stream",
     "text": [
      "2021-05-20 00:07:04,369\tINFO worker.py:650 -- Calling ray.init() again after it has already been called.\n"
     ]
    }
   ],
   "source": [
    "import ray\n",
    "\n",
    "ray.init(ignore_reinit_error=True)"
   ]
  },
  {
   "cell_type": "code",
   "execution_count": null,
   "metadata": {},
   "outputs": [],
   "source": [
    "ray.shutdown()"
   ]
  },
  {
   "cell_type": "markdown",
   "metadata": {},
   "source": [
    "# Imports"
   ]
  },
  {
   "cell_type": "code",
   "execution_count": 18,
   "metadata": {
    "ExecuteTime": {
     "end_time": "2020-09-30T01:17:28.615776Z",
     "start_time": "2020-09-30T01:17:28.454787Z"
    },
    "execution": {
     "iopub.execute_input": "2021-05-20T07:15:11.690084Z",
     "iopub.status.busy": "2021-05-20T07:15:11.689549Z",
     "iopub.status.idle": "2021-05-20T07:15:11.932799Z",
     "shell.execute_reply": "2021-05-20T07:15:11.930228Z",
     "shell.execute_reply.started": "2021-05-20T07:15:11.690023Z"
    }
   },
   "outputs": [
    {
     "name": "stdout",
     "output_type": "stream",
     "text": [
      "The autoreload extension is already loaded. To reload it, use:\n",
      "  %reload_ext autoreload\n"
     ]
    }
   ],
   "source": [
    "%load_ext autoreload\n",
    "%autoreload 2\n",
    "\n",
    "import datetime as dt\n",
    "import numpy as np\n",
    "import pandas as pd\n",
    "pd.set_option('float_format', '{:f}'.format)\n",
    "pd.set_option('display.max_rows', 40)\n",
    "pd.set_option('display.max_columns', 99)\n",
    "import pandas_bokeh\n",
    "pandas_bokeh.output_file(\"bokeh_output.html\")\n",
    "# import matplotlib.pyplot as plt\n",
    "import matplotlib as mpl\n",
    "from matplotlib import style\n",
    "style.use('fivethirtyeight')\n",
    "mpl.rcParams['figure.figsize'] = [20, 7]\n",
    "\n",
    "# import pdb; pdb.set_trace()\n",
    "# import pudb; pudb.set_trace()\n",
    "\n",
    "# .describe(include='all', datetime_is_numeric=True)\n",
    "# df.style.background_gradient(cmap='coolwarm', axis=None, vmin=-1, vmax=1)  # 'Blues', 'coolwarm', 'RdBu_r' & 'BrBG'\n",
    "# pd.set_option('precision', 2)\n",
    "# .plot_bokeh(sizing_mode=\"scale_height\")\n",
    "# .plot_bokeh(kind='hist', bins=1000, sizing_mode=\"scale_height\", xlim=[0, .1])"
   ]
  },
  {
   "cell_type": "markdown",
   "metadata": {
    "execution": {
     "iopub.execute_input": "2021-01-06T05:21:59.623326Z",
     "iopub.status.busy": "2021-01-06T05:21:59.622898Z",
     "iopub.status.idle": "2021-01-06T05:21:59.777553Z",
     "shell.execute_reply": "2021-01-06T05:21:59.776253Z",
     "shell.execute_reply.started": "2021-01-06T05:21:59.623288Z"
    }
   },
   "source": [
    "# Sample tick dates"
   ]
  },
  {
   "cell_type": "code",
   "execution_count": 3,
   "metadata": {
    "execution": {
     "iopub.execute_input": "2021-05-20T06:41:58.956913Z",
     "iopub.status.busy": "2021-05-20T06:41:58.956432Z",
     "iopub.status.idle": "2021-05-20T06:42:02.431912Z",
     "shell.execute_reply": "2021-05-20T06:42:02.429436Z",
     "shell.execute_reply.started": "2021-05-20T06:41:58.956868Z"
    }
   },
   "outputs": [],
   "source": [
    "from bar_sampler import meta, sampler, stacked\n",
    "\n",
    "\n",
    "thresh = {\n",
    "    # meta params\n",
    "    'symbol': 'GLD',\n",
    "    'start_date': '2020-01-10',\n",
    "    'end_date': '2020-01-15',\n",
    "    # filter\n",
    "    'mad_value_winlen': 22,\n",
    "    'mad_deviation_winlen': 1111,\n",
    "    'mad_k': 11,\n",
    "    'jma_winlen': 7,\n",
    "    'jma_power': 2,\n",
    "    # time batcher\n",
    "    'batch_freq': '3s',\n",
    "    # bar sampler params\n",
    "    'renko_return': 'price_jma_return',\n",
    "    'renko_size': 0.1,\n",
    "    'renko_reveral_multiple': 2,\n",
    "    'renko_range_frac': 22,\n",
    "    'max_duration_td': dt.timedelta(minutes=33),\n",
    "    'min_duration_td': dt.timedelta(seconds=33),\n",
    "    'min_tick_count': 33,\n",
    "    # label params\n",
    "    'add_label': True,\n",
    "    'reward_ratios': list(np.arange(2, 11, 0.5)),\n",
    "}"
   ]
  },
  {
   "cell_type": "code",
   "execution_count": 4,
   "metadata": {
    "execution": {
     "iopub.execute_input": "2021-05-20T06:42:02.435588Z",
     "iopub.status.busy": "2021-05-20T06:42:02.434559Z",
     "iopub.status.idle": "2021-05-20T06:42:26.686876Z",
     "shell.execute_reply": "2021-05-20T06:42:26.685023Z",
     "shell.execute_reply.started": "2021-05-20T06:42:02.435496Z"
    }
   },
   "outputs": [
    {
     "name": "stdout",
     "output_type": "stream",
     "text": [
      "GLD 2019-01-02 trying to get data from local file...\n",
      "False   0.973536\n",
      "True    0.026464\n",
      "Name: mad_outlier, dtype: float64\n"
     ]
    },
    {
     "name": "stderr",
     "output_type": "stream",
     "text": [
      "100%|██████████| 7760/7760 [00:21<00:00, 367.55it/s]\n"
     ]
    }
   ],
   "source": [
    "bd = meta.get_bar_date(thresh, date='2019-01-02')\n",
    "\n",
    "# bds = meta.get_bar_dates(thresh)"
   ]
  },
  {
   "cell_type": "code",
   "execution_count": 5,
   "metadata": {
    "execution": {
     "iopub.execute_input": "2021-05-20T06:42:32.623653Z",
     "iopub.status.busy": "2021-05-20T06:42:32.622659Z",
     "iopub.status.idle": "2021-05-20T06:42:32.755805Z",
     "shell.execute_reply": "2021-05-20T06:42:32.754414Z",
     "shell.execute_reply.started": "2021-05-20T06:42:32.623575Z"
    }
   },
   "outputs": [
    {
     "data": {
      "text/plain": [
       "dict_keys(['symbol', 'date', 'thresh', 'ticks_df_all', 'ticks_df_clean', 'batches_df', 'bars_df', 'bars'])"
      ]
     },
     "execution_count": 5,
     "metadata": {},
     "output_type": "execute_result"
    }
   ],
   "source": [
    "bd.keys()"
   ]
  },
  {
   "cell_type": "code",
   "execution_count": null,
   "metadata": {},
   "outputs": [],
   "source": [
    "# fill daily gaps\n",
    "stacked_df = stacked.fill_gaps_dates(bds, fill_col='price_vwap')\n",
    "\n",
    "stacked_df[['price_high','price_low','price_vwap']].plot_bokeh(sizing_mode=\"scale_height\")"
   ]
  },
  {
   "cell_type": "code",
   "execution_count": null,
   "metadata": {},
   "outputs": [],
   "source": [
    "# stacked stats\n",
    "stats_df = stacked.stacked_df_stats(stacked_df)\n",
    "\n",
    "stats_df\n",
    "\n",
    "stats_df.describe()"
   ]
  },
  {
   "cell_type": "code",
   "execution_count": null,
   "metadata": {},
   "outputs": [],
   "source": [
    "results = []\n",
    "\n",
    "for date in bar_dates:\n",
    "    out = (date['ticks_df'].status.value_counts() / date['ticks_df'].shape[0]).to_dict()\n",
    "    out.update({'date': date['date']})\n",
    "    results.append(out)\n",
    "\n",
    "pd.DataFrame(results)"
   ]
  }
 ],
 "metadata": {
  "kernelspec": {
   "display_name": "Python 3",
   "language": "python",
   "name": "python3"
  },
  "language_info": {
   "codemirror_mode": {
    "name": "ipython",
    "version": 3
   },
   "file_extension": ".py",
   "mimetype": "text/x-python",
   "name": "python",
   "nbconvert_exporter": "python",
   "pygments_lexer": "ipython3",
   "version": "3.8.10"
  },
  "toc-autonumbering": true,
  "toc-showcode": false,
  "toc-showmarkdowntxt": false,
  "toc-showtags": false,
  "varInspector": {
   "cols": {
    "lenName": 16,
    "lenType": 16,
    "lenVar": 40
   },
   "kernels_config": {
    "python": {
     "delete_cmd_postfix": "",
     "delete_cmd_prefix": "del ",
     "library": "var_list.py",
     "varRefreshCmd": "print(var_dic_list())"
    },
    "r": {
     "delete_cmd_postfix": ") ",
     "delete_cmd_prefix": "rm(",
     "library": "var_list.r",
     "varRefreshCmd": "cat(var_dic_list()) "
    }
   },
   "types_to_exclude": [
    "module",
    "function",
    "builtin_function_or_method",
    "instance",
    "_Feature"
   ],
   "window_display": false
  }
 },
 "nbformat": 4,
 "nbformat_minor": 4
}
