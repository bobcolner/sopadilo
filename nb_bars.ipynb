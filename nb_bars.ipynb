{
 "cells": [
  {
   "cell_type": "code",
   "execution_count": null,
   "metadata": {},
   "outputs": [],
   "source": [
    "# import pdb; pdb.set_trace()\n",
    "# import pudb; pudb.set_trace()\n",
    "\n",
    "# df.style.background_gradient(\n",
    "#     cmap='coolwarm', \n",
    "#     axis=None, \n",
    "#     vmin=-1, \n",
    "#     vmax=1\n",
    "# )  # 'Blues', 'coolwarm', 'RdBu_r' & 'BrBG'\n",
    "\n",
    "# pd.set_option('precision', 2)\n",
    "\n",
    "# .plot_bokeh(sizing_mode=\"scale_height\")\n",
    "# .plot_bokeh(kind='hist', bins=1000, sizing_mode=\"scale_height\", xlim=[0, .1])"
   ]
  },
  {
   "cell_type": "markdown",
   "metadata": {},
   "source": [
    "# Imports"
   ]
  },
  {
   "cell_type": "code",
   "execution_count": 1,
   "metadata": {
    "execution": {
     "iopub.execute_input": "2021-06-18T20:41:03.401538Z",
     "iopub.status.busy": "2021-06-18T20:41:03.400711Z",
     "iopub.status.idle": "2021-06-18T20:41:12.607280Z",
     "shell.execute_reply": "2021-06-18T20:41:12.605986Z",
     "shell.execute_reply.started": "2021-06-18T20:41:03.401356Z"
    }
   },
   "outputs": [],
   "source": [
    "%load_ext autoreload\n",
    "%autoreload 2\n",
    "\n",
    "import pandas as pd\n",
    "pd.set_option('float_format', '{:f}'.format)\n",
    "pd.set_option('display.max_rows', 40)\n",
    "pd.set_option('display.max_columns', 99)\n",
    "\n",
    "import matplotlib as mpl\n",
    "from matplotlib import style\n",
    "style.use('fivethirtyeight')\n",
    "mpl.rcParams['figure.figsize'] = [20, 7]\n",
    "\n",
    "import datetime as dt\n",
    "import pickle\n",
    "import numpy as np\n",
    "import pandas as pd\n",
    "import pandas_bokeh\n",
    "pandas_bokeh.output_file(\"tmp/bokeh_output.html\")\n",
    "import ray\n",
    "\n",
    "from data_layer import storage_adaptor, fsspec_factory, data_access, arrow_dataset\n",
    "from tick_filter import streaming_tick_filter\n",
    "from tick_sampler import streaming_tick_sampler, daily_stats\n",
    "from utilities import date_fu, project_globals as g\n",
    "from workflows import sampler_task, sampler_flow, syncbar_flow, syncbar_task\n",
    "from workflows.configs import renko_v1, renko_v2, renko_v3\n",
    "from sample_features import stacked\n",
    "from filters import jma"
   ]
  },
  {
   "cell_type": "code",
   "execution_count": 2,
   "metadata": {
    "execution": {
     "iopub.execute_input": "2021-06-18T20:41:12.611017Z",
     "iopub.status.busy": "2021-06-18T20:41:12.609623Z",
     "iopub.status.idle": "2021-06-18T20:41:50.080321Z",
     "shell.execute_reply": "2021-06-18T20:41:50.079068Z",
     "shell.execute_reply.started": "2021-06-18T20:41:12.610973Z"
    }
   },
   "outputs": [],
   "source": [
    "ds = arrow_dataset.get_dataset('/bars/renko_v2/df')\n",
    "\n",
    "df = ds.to_table().to_pandas()"
   ]
  },
  {
   "cell_type": "code",
   "execution_count": 3,
   "metadata": {
    "execution": {
     "iopub.execute_input": "2021-06-18T20:41:50.082983Z",
     "iopub.status.busy": "2021-06-18T20:41:50.082581Z",
     "iopub.status.idle": "2021-06-18T20:41:50.240538Z",
     "shell.execute_reply": "2021-06-18T20:41:50.239365Z",
     "shell.execute_reply.started": "2021-06-18T20:41:50.082936Z"
    }
   },
   "outputs": [],
   "source": [
    "bdf = df[df.symbol=='SAND']"
   ]
  },
  {
   "cell_type": "markdown",
   "metadata": {},
   "source": [
    "# fracdiff test"
   ]
  },
  {
   "cell_type": "code",
   "execution_count": null,
   "metadata": {},
   "outputs": [],
   "source": [
    "import statsmodels.tsa.stattools as stattools\n",
    "import fracdiff\n",
    "\n",
    "X = bdf.price_close.values.reshape(-1, 1)\n",
    "\n",
    "fs = fracdiff.FracdiffStat(mode=\"valid\")\n",
    "\n",
    "Xdiff = fs.fit_transform(X)\n",
    "\n",
    "_, pvalue, _, _, _, _ = stattools.adfuller(Xdiff)\n",
    "\n",
    "corr = np.corrcoef(X[-Xdiff.size :, 0], Xdiff.reshape(-1))[0][1]\n",
    "\n",
    "print(\"* Order: {:.2f}\".format(fs.d_[0]))\n",
    "print(\"* ADF p-value: {:.2f} %\".format(100 * pvalue))\n",
    "print(\"* Correlation with the original time-series: {:.2f}\".format(corr))"
   ]
  },
  {
   "cell_type": "code",
   "execution_count": null,
   "metadata": {},
   "outputs": [],
   "source": [
    "spx = bdf.price_close"
   ]
  },
  {
   "cell_type": "code",
   "execution_count": null,
   "metadata": {},
   "outputs": [],
   "source": [
    "import matplotlib.pyplot as plt\n",
    "\n",
    "spx_diff = pd.Series(Xdiff.reshape(-1), index=spx.index[-Xdiff.size :])\n",
    "\n",
    "fig, ax_s = plt.subplots(figsize=(24, 6))\n",
    "plt.title(\"S&P 500 and its differentiation preserving memory\")\n",
    "ax_d = ax_s.twinx()\n",
    "\n",
    "plot_s = ax_s.plot(spx, color=\"blue\", linewidth=4, label=\"S&P 500 (left)\")\n",
    "plot_d = ax_d.plot(\n",
    "    spx_diff,\n",
    "    color=\"orange\",\n",
    "    linewidth=4,\n",
    "    label=f\"S&P 500, {fs.d_[0]:.2f} th diff (right)\",\n",
    ")\n",
    "plots = plot_s + plot_d\n",
    "\n",
    "ax_s.legend(plots, [p.get_label() for p in plots], loc=0)\n",
    "plt.show()"
   ]
  },
  {
   "cell_type": "markdown",
   "metadata": {
    "execution": {
     "iopub.execute_input": "2021-06-18T18:51:52.128291Z",
     "iopub.status.busy": "2021-06-18T18:51:52.127939Z",
     "iopub.status.idle": "2021-06-18T18:51:52.244512Z",
     "shell.execute_reply": "2021-06-18T18:51:52.243287Z",
     "shell.execute_reply.started": "2021-06-18T18:51:52.128256Z"
    }
   },
   "source": [
    "# Price gap fill"
   ]
  },
  {
   "cell_type": "code",
   "execution_count": null,
   "metadata": {},
   "outputs": [],
   "source": [
    "ds = arrow_dataset.get_dataset('/bars/renko_v2/sync_bars')\n",
    "\n",
    "df = ds.to_table().to_pandas()\n",
    "\n",
    "sdf = df[(df.clock_symbol=='IAG') & (df.symbol=='GLD')].reset_index(drop=True)"
   ]
  },
  {
   "cell_type": "code",
   "execution_count": null,
   "metadata": {},
   "outputs": [],
   "source": [
    "fdf = stacked.fill_gaps_dates(sdf, 'price_vwap')"
   ]
  },
  {
   "cell_type": "code",
   "execution_count": null,
   "metadata": {},
   "outputs": [],
   "source": [
    "fdf[['price_vwap','price_high','price_low']].plot_bokeh(sizing_mode=\"scale_height\")"
   ]
  },
  {
   "cell_type": "code",
   "execution_count": null,
   "metadata": {},
   "outputs": [],
   "source": [
    "jma.jma_filter_df(fdf, 'price_vwap', winlen=200, power=1).price_vwap_jma.plot()"
   ]
  },
  {
   "cell_type": "code",
   "execution_count": null,
   "metadata": {},
   "outputs": [],
   "source": [
    "jma.jma_filter_df(fdf, 'price_vwap', winlen=2000, power=1).price_vwap_jma.plot()"
   ]
  },
  {
   "cell_type": "code",
   "execution_count": null,
   "metadata": {},
   "outputs": [],
   "source": [
    "jma.jma_filter_df(fdf, 'price_vwap', winlen=2000, power=1).price_vwap_jma.diff().hist(bins=40)"
   ]
  },
  {
   "cell_type": "code",
   "execution_count": null,
   "metadata": {},
   "outputs": [],
   "source": [
    "fdf.date.value_counts().hist(bins=40)"
   ]
  },
  {
   "cell_type": "markdown",
   "metadata": {},
   "source": [
    "# Ray setup"
   ]
  },
  {
   "cell_type": "code",
   "execution_count": null,
   "metadata": {},
   "outputs": [],
   "source": [
    "ray.init(dashboard_host='0.0.0.0', dashboard_port=1111, ignore_reinit_error=True)"
   ]
  },
  {
   "cell_type": "code",
   "execution_count": null,
   "metadata": {},
   "outputs": [],
   "source": [
    "ray.shutdown()"
   ]
  },
  {
   "cell_type": "code",
   "execution_count": null,
   "metadata": {},
   "outputs": [],
   "source": [
    "all_symbols = data_access.list_sd_data(prefix='/bars/renko_v2/df', source='remote')"
   ]
  },
  {
   "cell_type": "code",
   "execution_count": null,
   "metadata": {},
   "outputs": [],
   "source": [
    "large_caps, mid_caps = syncbar_task.segment_symbols(\n",
    "    all_symbols, start_date='2019-01-01', end_date='2021-01-01'\n",
    ")"
   ]
  },
  {
   "cell_type": "code",
   "execution_count": null,
   "metadata": {},
   "outputs": [],
   "source": [
    "large_caps"
   ]
  },
  {
   "cell_type": "code",
   "execution_count": null,
   "metadata": {},
   "outputs": [],
   "source": [
    "mid_caps"
   ]
  },
  {
   "cell_type": "markdown",
   "metadata": {},
   "source": [
    "# sync bars"
   ]
  },
  {
   "cell_type": "code",
   "execution_count": null,
   "metadata": {},
   "outputs": [],
   "source": [
    "config = {\n",
    "    'config_id': 'renko_v2',\n",
    "    'start_date': '2019-01-01',\n",
    "    'end_date': '2021-01-01',\n",
    "    'source': 'remote',\n",
    "    'destination': 'both',\n",
    "    'on_ray': True,\n",
    "}"
   ]
  },
  {
   "cell_type": "code",
   "execution_count": null,
   "metadata": {},
   "outputs": [],
   "source": [
    "syncbar_flow.run(config)"
   ]
  },
  {
   "cell_type": "markdown",
   "metadata": {},
   "source": [
    "# Tick Sampler "
   ]
  },
  {
   "cell_type": "code",
   "execution_count": null,
   "metadata": {},
   "outputs": [],
   "source": [
    "config = renko_v2.config\n",
    "\n",
    "prefix_data = '/data/trades'\n",
    "\n",
    "prefix_meta = f\"/bars/{config['meta']['config_id']}/meta\"\n",
    "\n",
    "prefix_df = f\"/bars/{config['meta']['config_id']}/df\"\n",
    "\n",
    "prefix_sb = f\"/bars/{config['meta']['config_id']}/sync_bars/clock_symbol=MUX\""
   ]
  },
  {
   "cell_type": "code",
   "execution_count": null,
   "metadata": {
    "scrolled": true
   },
   "outputs": [],
   "source": [
    "bds = sampler_flow.run(config)"
   ]
  }
 ],
 "metadata": {
  "kernelspec": {
   "display_name": "Python 3",
   "language": "python",
   "name": "python3"
  },
  "language_info": {
   "codemirror_mode": {
    "name": "ipython",
    "version": 3
   },
   "file_extension": ".py",
   "mimetype": "text/x-python",
   "name": "python",
   "nbconvert_exporter": "python",
   "pygments_lexer": "ipython3",
   "version": "3.8.10"
  },
  "toc-autonumbering": true,
  "toc-showcode": false,
  "toc-showmarkdowntxt": false,
  "toc-showtags": false,
  "varInspector": {
   "cols": {
    "lenName": 16,
    "lenType": 16,
    "lenVar": 40
   },
   "kernels_config": {
    "python": {
     "delete_cmd_postfix": "",
     "delete_cmd_prefix": "del ",
     "library": "var_list.py",
     "varRefreshCmd": "print(var_dic_list())"
    },
    "r": {
     "delete_cmd_postfix": ") ",
     "delete_cmd_prefix": "rm(",
     "library": "var_list.r",
     "varRefreshCmd": "cat(var_dic_list()) "
    }
   },
   "types_to_exclude": [
    "module",
    "function",
    "builtin_function_or_method",
    "instance",
    "_Feature"
   ],
   "window_display": false
  }
 },
 "nbformat": 4,
 "nbformat_minor": 4
}
