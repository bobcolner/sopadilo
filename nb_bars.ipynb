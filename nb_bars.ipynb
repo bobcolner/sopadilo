{
 "cells": [
  {
   "cell_type": "markdown",
   "metadata": {},
   "source": [
    "# Imports"
   ]
  },
  {
   "cell_type": "code",
   "execution_count": 1,
   "metadata": {
    "execution": {
     "iopub.execute_input": "2021-05-27T22:33:38.068068Z",
     "iopub.status.idle": "2021-05-27T22:33:40.287622Z",
     "shell.execute_reply": "2021-05-27T22:33:40.286244Z",
     "shell.execute_reply.started": "2021-05-27T22:33:38.067741Z"
    }
   },
   "outputs": [],
   "source": [
    "%load_ext autoreload\n",
    "%autoreload 2\n",
    "\n",
    "import datetime as dt\n",
    "import numpy as np\n",
    "import pandas as pd\n",
    "pd.set_option('float_format', '{:f}'.format)\n",
    "pd.set_option('display.max_rows', 40)\n",
    "pd.set_option('display.max_columns', 99)\n",
    "import pandas_bokeh\n",
    "pandas_bokeh.output_file(\"tmp/bokeh_output.html\")\n",
    "# import matplotlib.pyplot as plt\n",
    "import matplotlib as mpl\n",
    "from matplotlib import style\n",
    "style.use('fivethirtyeight')\n",
    "mpl.rcParams['figure.figsize'] = [20, 7]\n",
    "import ray\n",
    "\n",
    "# import pdb; pdb.set_trace()\n",
    "# import pudb; pudb.set_trace()\n",
    "\n",
    "# .describe(include='all', datetime_is_numeric=True)\n",
    "# df.style.background_gradient(cmap='coolwarm', axis=None, vmin=-1, vmax=1)  # 'Blues', 'coolwarm', 'RdBu_r' & 'BrBG'\n",
    "# pd.set_option('precision', 2)\n",
    "# .plot_bokeh(sizing_mode=\"scale_height\")\n",
    "# .plot_bokeh(kind='hist', bins=1000, sizing_mode=\"scale_height\", xlim=[0, .1])"
   ]
  },
  {
   "cell_type": "code",
   "execution_count": 4,
   "metadata": {
    "execution": {
     "iopub.execute_input": "2021-05-27T22:34:25.999430Z",
     "iopub.status.busy": "2021-05-27T22:34:25.998981Z",
     "iopub.status.idle": "2021-05-27T22:34:26.140462Z",
     "shell.execute_reply": "2021-05-27T22:34:26.138790Z",
     "shell.execute_reply.started": "2021-05-27T22:34:25.999390Z"
    }
   },
   "outputs": [],
   "source": [
    "from data_model import arrow_dataset, fsspec_storage, db\n",
    "from tick_filter import streaming_tick_filter\n",
    "from tick_sampler import streaming_tick_sampler, stacked, daily_stats\n",
    "from workflows import meta\n",
    "from utilities import date_fu\n",
    "\n",
    "\n",
    "config = {\n",
    "    'meta': {\n",
    "        'symbol': 'GORO',\n",
    "        'start_date': '2016-09-10',\n",
    "        'end_date': '2020-11-16',\n",
    "        'config_id': 'renko_v1',\n",
    "    },\n",
    "    'filter': {\n",
    "        'mad_value_winlen': 22,\n",
    "        'mad_deviation_winlen': 1111,\n",
    "        'mad_k': 17,\n",
    "        'jma_winlen': 7,\n",
    "        'jma_power': 2,\n",
    "    },\n",
    "    'sampler': {\n",
    "        'renko_return': 'price_jma_return',\n",
    "        'renko_size': 0.1,  # for simple runs\n",
    "        'renko_reveral_multiple': 2,\n",
    "        'renko_range_frac': 22,\n",
    "        'renko_range_min_pct_value': 0.03,  # % of symbol value enforced as min renko size\n",
    "        'max_duration_td': dt.timedelta(minutes=33),\n",
    "        'min_duration_td': dt.timedelta(seconds=33),\n",
    "        'min_tick_count': 33,\n",
    "        'add_label': True,\n",
    "        'reward_ratios': list(np.arange(2, 11, 0.5)),\n",
    "    }\n",
    "}"
   ]
  },
  {
   "cell_type": "code",
   "execution_count": 20,
   "metadata": {
    "execution": {
     "iopub.execute_input": "2021-05-27T22:37:39.493039Z",
     "iopub.status.busy": "2021-05-27T22:37:39.492604Z",
     "iopub.status.idle": "2021-05-27T22:37:41.904345Z",
     "shell.execute_reply": "2021-05-27T22:37:41.903129Z",
     "shell.execute_reply.started": "2021-05-27T22:37:39.492999Z"
    }
   },
   "outputs": [],
   "source": [
    "# find open market dates\n",
    "requested_open_dates = date_fu.get_open_market_dates(config['meta']['start_date'], config['meta']['end_date'])\n",
    "# avialiable tick backfill dates\n",
    "backfilled_dates = db.list_symbol_dates(symbol=config['meta']['symbol'], prefix='/data/trades')\n",
    "# requested+avialiable tick dates\n",
    "requested_backfilled_dates = list(set(backfilled_dates).intersection(requested_open_dates))\n",
    "# existing dates from results store\n",
    "existing_config_dates = db.list_symbol_dates(\n",
    "    symbol=config['meta']['symbol'],\n",
    "    prefix=f\"/samples/{config['meta']['config_id']}/bar_date/\"\n",
    "    )\n",
    "# remaining, requested, aviable, dates\n",
    "final_remaining_dates = date_fu.find_remaining_dates(\n",
    "    request_dates=requested_backfilled_dates,\n",
    "    existing_dates=existing_config_dates,\n",
    "    )\n",
    "# get daily stats for symbol (for dynamic sampling)\n",
    "daily_stats_df = daily_stats.get_symbol_stats(\n",
    "    symbol=config['meta']['symbol'],\n",
    "    start_date=final_remaining_dates[0],\n",
    "    end_date=final_remaining_dates[-1],\n",
    "    source='local',\n",
    "    )"
   ]
  },
  {
   "cell_type": "code",
   "execution_count": 26,
   "metadata": {
    "execution": {
     "iopub.execute_input": "2021-05-27T22:38:52.966883Z",
     "iopub.status.busy": "2021-05-27T22:38:52.966450Z",
     "iopub.status.idle": "2021-05-27T22:38:53.127609Z",
     "shell.execute_reply": "2021-05-27T22:38:53.124143Z",
     "shell.execute_reply.started": "2021-05-27T22:38:52.966842Z"
    }
   },
   "outputs": [
    {
     "data": {
      "text/plain": [
       "0     3.957404\n",
       "1     3.986806\n",
       "2     4.018078\n",
       "3     4.052463\n",
       "4     4.097748\n",
       "        ...   \n",
       "467   2.921955\n",
       "468   2.949007\n",
       "469   2.968513\n",
       "470   2.983405\n",
       "471   2.995865\n",
       "Name: vwap_jma_lag, Length: 472, dtype: float64"
      ]
     },
     "execution_count": 26,
     "metadata": {},
     "output_type": "execute_result"
    }
   ],
   "source": [
    "daily_stats_df.vwap_jma_lag"
   ]
  },
  {
   "cell_type": "markdown",
   "metadata": {},
   "source": [
    "# Sample tick dates"
   ]
  },
  {
   "cell_type": "code",
   "execution_count": null,
   "metadata": {},
   "outputs": [],
   "source": [
    "ray.init(dashboard_port=1111, ignore_reinit_error=True)\n",
    "\n",
    "# ray.shutdown()"
   ]
  },
  {
   "cell_type": "code",
   "execution_count": null,
   "metadata": {},
   "outputs": [],
   "source": [
    "meta.tick_sampler_workflow(config)\n"
   ]
  },
  {
   "cell_type": "code",
   "execution_count": null,
   "metadata": {},
   "outputs": [],
   "source": [
    "# fill daily gaps\n",
    "stacked_df = stacked.fill_gaps_dates(bds, fill_col='price_vwap')\n",
    "\n",
    "stacked_df[['price_high','price_low','price_close', 'price_vwap']].plot_bokeh(sizing_mode=\"scale_height\")\n",
    "\n",
    "# stacked_df[['price_high','price_low','price_vwap']].plot()"
   ]
  },
  {
   "cell_type": "code",
   "execution_count": null,
   "metadata": {},
   "outputs": [],
   "source": [
    "# stacked stats\n",
    "stats_df = stacked.stacked_df_stats(stacked_df)\n",
    "\n",
    "stats_df\n",
    "\n",
    "stats_df.describe()"
   ]
  }
 ],
 "metadata": {
  "kernelspec": {
   "display_name": "Python 3",
   "language": "python",
   "name": "python3"
  },
  "language_info": {
   "codemirror_mode": {
    "name": "ipython",
    "version": 3
   },
   "file_extension": ".py",
   "mimetype": "text/x-python",
   "name": "python",
   "nbconvert_exporter": "python",
   "pygments_lexer": "ipython3",
   "version": "3.8.10"
  },
  "toc-autonumbering": true,
  "toc-showcode": false,
  "toc-showmarkdowntxt": false,
  "toc-showtags": false,
  "varInspector": {
   "cols": {
    "lenName": 16,
    "lenType": 16,
    "lenVar": 40
   },
   "kernels_config": {
    "python": {
     "delete_cmd_postfix": "",
     "delete_cmd_prefix": "del ",
     "library": "var_list.py",
     "varRefreshCmd": "print(var_dic_list())"
    },
    "r": {
     "delete_cmd_postfix": ") ",
     "delete_cmd_prefix": "rm(",
     "library": "var_list.r",
     "varRefreshCmd": "cat(var_dic_list()) "
    }
   },
   "types_to_exclude": [
    "module",
    "function",
    "builtin_function_or_method",
    "instance",
    "_Feature"
   ],
   "window_display": false
  }
 },
 "nbformat": 4,
 "nbformat_minor": 4
}
