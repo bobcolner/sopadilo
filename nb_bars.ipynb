{
 "cells": [
  {
   "cell_type": "markdown",
   "metadata": {},
   "source": [
    "# Ray start/stop"
   ]
  },
  {
   "cell_type": "code",
   "execution_count": null,
   "metadata": {},
   "outputs": [],
   "source": [
    "ray.init(ignore_reinit_error=True)"
   ]
  },
  {
   "cell_type": "code",
   "execution_count": null,
   "metadata": {},
   "outputs": [],
   "source": [
    "import ray\n",
    "ray.shutdown()"
   ]
  },
  {
   "cell_type": "markdown",
   "metadata": {},
   "source": [
    "# Imports"
   ]
  },
  {
   "cell_type": "code",
   "execution_count": 1,
   "metadata": {
    "ExecuteTime": {
     "end_time": "2020-09-30T01:17:28.615776Z",
     "start_time": "2020-09-30T01:17:28.454787Z"
    },
    "execution": {
     "iopub.execute_input": "2021-05-18T21:56:59.902677Z",
     "iopub.status.busy": "2021-05-18T21:56:59.901982Z",
     "iopub.status.idle": "2021-05-18T21:57:01.136461Z",
     "shell.execute_reply": "2021-05-18T21:57:01.135167Z",
     "shell.execute_reply.started": "2021-05-18T21:56:59.902559Z"
    }
   },
   "outputs": [],
   "source": [
    "%load_ext autoreload\n",
    "%autoreload 2\n",
    "\n",
    "import datetime as dt\n",
    "import numpy as np\n",
    "import pandas as pd\n",
    "pd.set_option('float_format', '{:f}'.format)\n",
    "pd.set_option('display.max_rows', 70)\n",
    "pd.set_option('display.max_columns', 99)\n",
    "import pandas_bokeh\n",
    "pandas_bokeh.output_file(\"bokeh_output.html\")\n",
    "# import matplotlib.pyplot as plt\n",
    "import matplotlib as mpl\n",
    "from matplotlib import style\n",
    "style.use('fivethirtyeight')\n",
    "mpl.rcParams['figure.figsize'] = [20, 7]\n",
    "\n",
    "# import pdb; pdb.set_trace()\n",
    "# import pudb; pudb.set_trace()\n",
    "\n",
    "# df.style.background_gradient(cmap='coolwarm', axis=None, vmin=-1, vmax=1)  # 'Blues', 'coolwarm', 'RdBu_r' & 'BrBG'\n",
    "# pd.set_option('precision', 2)\n",
    "# .plot_bokeh(sizing_mode=\"scale_height\")\n",
    "# .plot_bokeh(kind='hist', bins=1000, sizing_mode=\"scale_height\", xlim=[0, .1])"
   ]
  },
  {
   "cell_type": "code",
   "execution_count": 7,
   "metadata": {
    "execution": {
     "iopub.execute_input": "2021-05-18T21:58:56.666170Z",
     "iopub.status.busy": "2021-05-18T21:58:56.665700Z",
     "iopub.status.idle": "2021-05-18T21:59:34.104945Z",
     "shell.execute_reply": "2021-05-18T21:59:34.103258Z",
     "shell.execute_reply.started": "2021-05-18T21:58:56.666127Z"
    }
   },
   "outputs": [
    {
     "name": "stdout",
     "output_type": "stream",
     "text": [
      "VTI 2020-01-02 trying to get data from local file...\n",
      "False   0.998945\n",
      "True    0.001055\n",
      "Name: mad_outlier, dtype: float64\n"
     ]
    },
    {
     "name": "stderr",
     "output_type": "stream",
     "text": [
      "100%|██████████| 7760/7760 [00:33<00:00, 232.12it/s]\n"
     ]
    }
   ],
   "source": [
    "# get clean trades\n",
    "from bar_sampler.meta import get_clean_trades\n",
    "\n",
    "tdf, bdf = get_clean_trades('VTI', '2020-01-02', freq='3s')"
   ]
  },
  {
   "cell_type": "code",
   "execution_count": 41,
   "metadata": {
    "execution": {
     "iopub.execute_input": "2021-05-18T21:07:46.206937Z",
     "iopub.status.busy": "2021-05-18T21:07:46.206224Z",
     "iopub.status.idle": "2021-05-18T21:07:46.344198Z",
     "shell.execute_reply": "2021-05-18T21:07:46.342929Z",
     "shell.execute_reply.started": "2021-05-18T21:07:46.206872Z"
    }
   },
   "outputs": [],
   "source": [
    "# tdf.set_index('nyc_dt').price.plot()\n",
    "\n",
    "# tdf[['price', 'price_jma']].plot_bokeh(sizing_mode=\"scale_height\")\n",
    "\n",
    "# bdf.side_volume.plot_bokeh(kind='hist', bins=1000, sizing_mode=\"scale_height\")\n",
    "\n",
    "# tdf[tdf.mad_outlier==False].set_index('nyc_dt').price.plot()\n",
    "\n",
    "# (tdf.nyc_dt.shift(-20) - tdf.nyc_dt).describe(percentiles=[.8, .9, .99, .995])"
   ]
  },
  {
   "cell_type": "markdown",
   "metadata": {
    "execution": {
     "iopub.execute_input": "2021-01-06T05:21:59.623326Z",
     "iopub.status.busy": "2021-01-06T05:21:59.622898Z",
     "iopub.status.idle": "2021-01-06T05:21:59.777553Z",
     "shell.execute_reply": "2021-01-06T05:21:59.776253Z",
     "shell.execute_reply.started": "2021-01-06T05:21:59.623288Z"
    }
   },
   "source": [
    "# Sample tick dates"
   ]
  },
  {
   "cell_type": "code",
   "execution_count": 94,
   "metadata": {
    "execution": {
     "iopub.execute_input": "2021-05-18T21:32:32.636464Z",
     "iopub.status.busy": "2021-05-18T21:32:32.635891Z",
     "iopub.status.idle": "2021-05-18T21:32:32.737156Z",
     "shell.execute_reply": "2021-05-18T21:32:32.735496Z",
     "shell.execute_reply.started": "2021-05-18T21:32:32.636407Z"
    }
   },
   "outputs": [],
   "source": [
    "thresh = {\n",
    "    # meta params\n",
    "    'symbol': 'VTI',\n",
    "    'start_date': '2020-01-02',\n",
    "    'end_date': '2020-01-04',\n",
    "    # bar sampler params\n",
    "    'renko_return': 'price_return',\n",
    "    'renko_size': 0.1,\n",
    "    'renko_reveral_multiple': 2,\n",
    "    'renko_range_frac': 22,\n",
    "    'max_duration_td': dt.timedelta(minutes=33),\n",
    "    'min_duration_td': dt.timedelta(seconds=33),\n",
    "    'min_tick_count': 33,\n",
    "    # label params\n",
    "    'add_label': True,\n",
    "    'reward_ratios': list(np.arange(2.5, 11, 0.5)),\n",
    "    # filter\n",
    "    'mad_value_winlen': 22,\n",
    "    'mad_deviation_winlen': 1111,\n",
    "    'mad_k': 11,\n",
    "    'jma_winlen': 7,\n",
    "    'jma_power': 2,\n",
    "}"
   ]
  },
  {
   "cell_type": "code",
   "execution_count": 98,
   "metadata": {
    "execution": {
     "iopub.execute_input": "2021-05-18T21:37:09.201432Z",
     "iopub.status.busy": "2021-05-18T21:37:09.200933Z",
     "iopub.status.idle": "2021-05-18T21:37:58.875365Z",
     "shell.execute_reply": "2021-05-18T21:37:58.874061Z",
     "shell.execute_reply.started": "2021-05-18T21:37:09.201341Z"
    }
   },
   "outputs": [
    {
     "name": "stdout",
     "output_type": "stream",
     "text": [
      "VTI 2020-01-03 trying to get data from local file...\n",
      "False   0.997034\n",
      "True    0.002966\n",
      "Name: mad_outlier, dtype: float64\n"
     ]
    },
    {
     "name": "stderr",
     "output_type": "stream",
     "text": [
      "100%|██████████| 7760/7760 [00:39<00:00, 196.42it/s]\n"
     ]
    }
   ],
   "source": [
    "from bar_sampler.meta import get_bar_date, get_bar_dates\n",
    "\n",
    "# bd = get_bar_date(thresh, date='2020-01-02')\n",
    "bds = get_bar_dates(thresh)"
   ]
  },
  {
   "cell_type": "code",
   "execution_count": null,
   "metadata": {
    "execution": {
     "iopub.status.busy": "2021-05-18T21:36:00.123490Z",
     "iopub.status.idle": "2021-05-18T21:36:00.124184Z",
     "shell.execute_reply": "2021-05-18T21:36:00.123886Z"
    }
   },
   "outputs": [],
   "source": [
    "bds.keys()"
   ]
  },
  {
   "cell_type": "code",
   "execution_count": 88,
   "metadata": {
    "execution": {
     "iopub.execute_input": "2021-05-18T21:30:25.456801Z",
     "iopub.status.busy": "2021-05-18T21:30:25.456112Z",
     "iopub.status.idle": "2021-05-18T21:30:25.622774Z",
     "shell.execute_reply": "2021-05-18T21:30:25.621506Z",
     "shell.execute_reply.started": "2021-05-18T21:30:25.456739Z"
    }
   },
   "outputs": [
    {
     "data": {
      "text/plain": [
       "0.000000    0.666667\n",
       "-3.000000   0.074074\n",
       "3.500000    0.074074\n",
       "2.500000    0.074074\n",
       "-2.500000   0.037037\n",
       "-5.000000   0.037037\n",
       "-3.500000   0.037037\n",
       "Name: label_rrr, dtype: float64"
      ]
     },
     "execution_count": 88,
     "metadata": {},
     "output_type": "execute_result"
    }
   ],
   "source": [
    "bars_df = bdf['bars_df']\n",
    "\n",
    "bars_df.label_rrr.value_counts() / len(bars_df)"
   ]
  },
  {
   "cell_type": "code",
   "execution_count": null,
   "metadata": {},
   "outputs": [],
   "source": [
    "vol_df.set_index('date')[['range', 'range_jma']].plot()"
   ]
  },
  {
   "cell_type": "code",
   "execution_count": null,
   "metadata": {},
   "outputs": [],
   "source": [
    "bars_df[['price_high','price_low', 'price_vwap']].plot_bokeh(sizing_mode=\"scale_height\")"
   ]
  },
  {
   "cell_type": "code",
   "execution_count": null,
   "metadata": {},
   "outputs": [],
   "source": [
    "# sample ticks\n",
    "bar_dates = bm.bar_dates_workflow(thresh, ray_on=False)\n",
    "\n",
    "# fill daily gaps\n",
    "stacked_df = bm.fill_gaps_dates(bar_dates, fill_col='jma_wmean')\n",
    "\n",
    "# stacked stats\n",
    "stats_df = bm.stacked_df_stats(stacked_df)\n",
    "stats_df.describe()\n",
    "\n",
    "stacked_df[['jma_high','jma_low', 'jma_wmean']].plot_bokeh(sizing_mode=\"scale_height\")"
   ]
  },
  {
   "cell_type": "code",
   "execution_count": null,
   "metadata": {},
   "outputs": [],
   "source": [
    "results = []\n",
    "\n",
    "for date in bar_dates:\n",
    "    out = (date['ft_ticks_df'].status.value_counts() / date['ft_ticks_df'].shape[0]).to_dict()\n",
    "    out.update({'date': date['date']})\n",
    "    results.append(out)\n",
    "\n",
    "pd.DataFrame(results)"
   ]
  }
 ],
 "metadata": {
  "kernelspec": {
   "display_name": "Python 3",
   "language": "python",
   "name": "python3"
  },
  "language_info": {
   "codemirror_mode": {
    "name": "ipython",
    "version": 3
   },
   "file_extension": ".py",
   "mimetype": "text/x-python",
   "name": "python",
   "nbconvert_exporter": "python",
   "pygments_lexer": "ipython3",
   "version": "3.8.10"
  },
  "toc-autonumbering": true,
  "toc-showcode": false,
  "toc-showmarkdowntxt": false,
  "toc-showtags": false,
  "varInspector": {
   "cols": {
    "lenName": 16,
    "lenType": 16,
    "lenVar": 40
   },
   "kernels_config": {
    "python": {
     "delete_cmd_postfix": "",
     "delete_cmd_prefix": "del ",
     "library": "var_list.py",
     "varRefreshCmd": "print(var_dic_list())"
    },
    "r": {
     "delete_cmd_postfix": ") ",
     "delete_cmd_prefix": "rm(",
     "library": "var_list.r",
     "varRefreshCmd": "cat(var_dic_list()) "
    }
   },
   "types_to_exclude": [
    "module",
    "function",
    "builtin_function_or_method",
    "instance",
    "_Feature"
   ],
   "window_display": false
  }
 },
 "nbformat": 4,
 "nbformat_minor": 4
}
