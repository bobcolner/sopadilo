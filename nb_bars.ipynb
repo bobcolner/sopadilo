{
 "cells": [
  {
   "cell_type": "code",
   "execution_count": null,
   "metadata": {},
   "outputs": [],
   "source": [
    "# import pdb; pdb.set_trace()\n",
    "# import pudb; pudb.set_trace()\n",
    "\n",
    "# df.style.background_gradient(\n",
    "#     cmap='coolwarm', \n",
    "#     axis=None, \n",
    "#     vmin=-1, \n",
    "#     vmax=1\n",
    "# )  # 'Blues', 'coolwarm', 'RdBu_r' & 'BrBG'\n",
    "\n",
    "# pd.set_option('precision', 2)\n",
    "\n",
    "# .plot_bokeh(sizing_mode=\"scale_height\")\n",
    "# .plot_bokeh(kind='hist', bins=1000, sizing_mode=\"scale_height\", xlim=[0, .1])"
   ]
  },
  {
   "cell_type": "markdown",
   "metadata": {},
   "source": [
    "# Imports"
   ]
  },
  {
   "cell_type": "code",
   "execution_count": null,
   "metadata": {},
   "outputs": [],
   "source": [
    "%load_ext autoreload\n",
    "%autoreload 2\n",
    "\n",
    "import pandas as pd\n",
    "pd.set_option('float_format', '{:f}'.format)\n",
    "pd.set_option('display.max_rows', 40)\n",
    "pd.set_option('display.max_columns', 99)\n",
    "\n",
    "import matplotlib as mpl\n",
    "from matplotlib import style\n",
    "style.use('fivethirtyeight')\n",
    "mpl.rcParams['figure.figsize'] = [20, 7]\n",
    "\n",
    "import datetime as dt\n",
    "import pickle\n",
    "import numpy as np\n",
    "import pandas as pd\n",
    "import pandas_bokeh\n",
    "pandas_bokeh.output_file(\"tmp/bokeh_output.html\")\n",
    "import ray\n",
    "\n",
    "from data_layer import arrow_dataset, storage_adaptor\n",
    "from tick_filter import streaming_tick_filter\n",
    "from tick_sampler import streaming_tick_sampler, daily_stats\n",
    "from workflows import sampler_task, sampler_flow, syncbar_flow, syncbar_task\n",
    "from workflows.configs import renko_v1, renko_v2\n",
    "from utilities import date_fu, project_globals as g\n",
    "from data_layer import storage_adaptor, fsspec_factory, data_access, arrow_dataset"
   ]
  },
  {
   "cell_type": "code",
   "execution_count": 29,
   "metadata": {
    "execution": {
     "iopub.execute_input": "2021-06-18T02:49:42.557199Z",
     "iopub.status.busy": "2021-06-18T02:49:42.556706Z",
     "iopub.status.idle": "2021-06-18T02:49:42.695238Z",
     "shell.execute_reply": "2021-06-18T02:49:42.692532Z",
     "shell.execute_reply.started": "2021-06-18T02:49:42.557141Z"
    }
   },
   "outputs": [],
   "source": [
    "config = renko_v2.config\n",
    "\n",
    "prefix_data = '/data/trades'\n",
    "\n",
    "prefix_meta = f\"/bars/{config['meta']['config_id']}/meta\"\n",
    "\n",
    "prefix_df = f\"/bars/{config['meta']['config_id']}/df\"\n",
    "\n",
    "prefix_sb = f\"/bars/{config['meta']['config_id']}/sync_bars/clock_symbol=MUX\""
   ]
  },
  {
   "cell_type": "markdown",
   "metadata": {},
   "source": [
    "# Ray setup"
   ]
  },
  {
   "cell_type": "code",
   "execution_count": 32,
   "metadata": {
    "execution": {
     "iopub.execute_input": "2021-06-18T03:08:45.189037Z",
     "iopub.status.busy": "2021-06-18T03:08:45.188444Z",
     "iopub.status.idle": "2021-06-18T03:08:52.927561Z",
     "shell.execute_reply": "2021-06-18T03:08:52.924284Z",
     "shell.execute_reply.started": "2021-06-18T03:08:45.189001Z"
    }
   },
   "outputs": [
    {
     "name": "stderr",
     "output_type": "stream",
     "text": [
      "2021-06-17 20:08:49,462\tINFO services.py:1272 -- View the Ray dashboard at \u001b[1m\u001b[32mhttp://192.168.1.66:1111\u001b[39m\u001b[22m\n"
     ]
    },
    {
     "data": {
      "text/plain": [
       "{'node_ip_address': '192.168.1.66',\n",
       " 'raylet_ip_address': '192.168.1.66',\n",
       " 'redis_address': '192.168.1.66:6379',\n",
       " 'object_store_address': '/tmp/ray/session_2021-06-17_20-08-45_368329_2372/sockets/plasma_store',\n",
       " 'raylet_socket_name': '/tmp/ray/session_2021-06-17_20-08-45_368329_2372/sockets/raylet',\n",
       " 'webui_url': '192.168.1.66:1111',\n",
       " 'session_dir': '/tmp/ray/session_2021-06-17_20-08-45_368329_2372',\n",
       " 'metrics_export_port': 61107,\n",
       " 'node_id': 'ef0d795380a924b9fe297aabbe8ce89eedc8369cc1678207b4d75411'}"
      ]
     },
     "execution_count": 32,
     "metadata": {},
     "output_type": "execute_result"
    }
   ],
   "source": [
    "ray.init(dashboard_host='0.0.0.0', dashboard_port=1111, ignore_reinit_error=True)"
   ]
  },
  {
   "cell_type": "code",
   "execution_count": null,
   "metadata": {},
   "outputs": [],
   "source": [
    "ray.shutdown()"
   ]
  },
  {
   "cell_type": "code",
   "execution_count": null,
   "metadata": {
    "execution": {
     "iopub.execute_input": "2021-06-18T03:10:44.862947Z",
     "iopub.status.busy": "2021-06-18T03:10:44.862223Z",
     "iopub.status.idle": "2021-06-18T03:10:45.838855Z",
     "shell.execute_reply": "2021-06-18T03:10:45.833823Z",
     "shell.execute_reply.started": "2021-06-18T03:10:44.862882Z"
    }
   },
   "outputs": [],
   "source": [
    "all_symbols = data_access.list_sd_data(prefix=f\"/bars/{config['config_id']}/df\", source=config['source'])"
   ]
  },
  {
   "cell_type": "code",
   "execution_count": 38,
   "metadata": {
    "execution": {
     "iopub.execute_input": "2021-06-18T03:11:08.528463Z",
     "iopub.status.busy": "2021-06-18T03:11:08.528120Z",
     "iopub.status.idle": "2021-06-18T03:11:12.432946Z",
     "shell.execute_reply": "2021-06-18T03:11:12.431707Z",
     "shell.execute_reply.started": "2021-06-18T03:11:08.528426Z"
    }
   },
   "outputs": [],
   "source": [
    "large_caps, mid_caps = syncbar_flow.segment_symbols(all_symbols, start_date=config['start_date'], end_date=config['end_date'])"
   ]
  },
  {
   "cell_type": "code",
   "execution_count": 44,
   "metadata": {
    "execution": {
     "iopub.execute_input": "2021-06-18T07:09:28.558989Z",
     "iopub.status.busy": "2021-06-18T07:09:28.558644Z",
     "iopub.status.idle": "2021-06-18T07:09:28.684123Z",
     "shell.execute_reply": "2021-06-18T07:09:28.680705Z",
     "shell.execute_reply.started": "2021-06-18T07:09:28.558951Z"
    }
   },
   "outputs": [
    {
     "data": {
      "text/plain": [
       "['AEM', 'FNV', 'GLD', 'KGC', 'KL', 'NEM', 'VTI', 'WPM']"
      ]
     },
     "execution_count": 44,
     "metadata": {},
     "output_type": "execute_result"
    }
   ],
   "source": [
    "large_caps"
   ]
  },
  {
   "cell_type": "code",
   "execution_count": 43,
   "metadata": {
    "execution": {
     "iopub.execute_input": "2021-06-18T07:09:25.845041Z",
     "iopub.status.busy": "2021-06-18T07:09:25.840638Z",
     "iopub.status.idle": "2021-06-18T07:09:26.946268Z",
     "shell.execute_reply": "2021-06-18T07:09:26.944705Z",
     "shell.execute_reply.started": "2021-06-18T07:09:25.844891Z"
    }
   },
   "outputs": [
    {
     "data": {
      "text/plain": [
       "['AGI', 'BVN', 'EXK', 'FSM', 'IAG', 'NG', 'OR', 'PVG', 'SA', 'SAND', 'SVM']"
      ]
     },
     "execution_count": 43,
     "metadata": {},
     "output_type": "execute_result"
    }
   ],
   "source": [
    "mid_caps"
   ]
  },
  {
   "cell_type": "markdown",
   "metadata": {},
   "source": [
    "# sync bars"
   ]
  },
  {
   "cell_type": "code",
   "execution_count": 33,
   "metadata": {
    "execution": {
     "iopub.execute_input": "2021-06-18T03:08:52.953901Z",
     "iopub.status.busy": "2021-06-18T03:08:52.945900Z",
     "iopub.status.idle": "2021-06-18T03:08:53.177210Z",
     "shell.execute_reply": "2021-06-18T03:08:53.176062Z",
     "shell.execute_reply.started": "2021-06-18T03:08:52.953824Z"
    }
   },
   "outputs": [],
   "source": [
    "config = {\n",
    "    'config_id': 'renko_v2',\n",
    "    'start_date': '2019-01-01',\n",
    "    'end_date': '2021-01-01',\n",
    "    'source': 'remote',\n",
    "    'destination': 'both',\n",
    "    'on_ray': True,\n",
    "}"
   ]
  },
  {
   "cell_type": "code",
   "execution_count": null,
   "metadata": {},
   "outputs": [],
   "source": [
    "syncbar_flow.run(config)"
   ]
  },
  {
   "cell_type": "markdown",
   "metadata": {},
   "source": [
    "# Tick Sampler "
   ]
  },
  {
   "cell_type": "code",
   "execution_count": null,
   "metadata": {
    "scrolled": true
   },
   "outputs": [],
   "source": [
    "bds = sampler_flow.run(config)"
   ]
  },
  {
   "cell_type": "code",
   "execution_count": null,
   "metadata": {},
   "outputs": [],
   "source": [
    "n = 1\n",
    "print(bds[n]['date'])\n",
    "# bds[n]['ticks_df'][['price', 'price_jma']].plot_bokeh(sizing_mode=\"scale_height\")\n",
    "bds[n]['ticks_df'][['price', 'price_jma']].plot()"
   ]
  },
  {
   "cell_type": "code",
   "execution_count": null,
   "metadata": {},
   "outputs": [],
   "source": [
    "bds[n]['ticks_df'][['price_jma']].plot()"
   ]
  },
  {
   "cell_type": "code",
   "execution_count": null,
   "metadata": {},
   "outputs": [],
   "source": [
    "bds[n]['ticks_df'].status.value_counts() / len(bds[n]['ticks_df'])"
   ]
  },
  {
   "cell_type": "code",
   "execution_count": null,
   "metadata": {},
   "outputs": [],
   "source": [
    "bds[n]['bars_df'][['price_low', 'price_high', 'price_close']].plot()"
   ]
  },
  {
   "cell_type": "markdown",
   "metadata": {},
   "source": [
    "# Price gap fill"
   ]
  },
  {
   "cell_type": "code",
   "execution_count": null,
   "metadata": {},
   "outputs": [],
   "source": [
    "from sample_features import stacked\n",
    "# fill daily gaps\n",
    "stacked_df = stacked.fill_gaps_dates(bar_dates, fill_col='price_vwap')\n",
    "\n",
    "# stacked_df[['price_high','price_low','price_close', 'price_vwap']].plot_bokeh(sizing_mode=\"scale_height\")\n",
    "\n",
    "# stacked stats\n",
    "stats_df = stacked.stacked_df_stats(stacked_df)\n"
   ]
  },
  {
   "cell_type": "code",
   "execution_count": null,
   "metadata": {},
   "outputs": [],
   "source": [
    "stats_df.describe()"
   ]
  }
 ],
 "metadata": {
  "kernelspec": {
   "display_name": "Python 3",
   "language": "python",
   "name": "python3"
  },
  "language_info": {
   "codemirror_mode": {
    "name": "ipython",
    "version": 3
   },
   "file_extension": ".py",
   "mimetype": "text/x-python",
   "name": "python",
   "nbconvert_exporter": "python",
   "pygments_lexer": "ipython3",
   "version": "3.8.10"
  },
  "toc-autonumbering": true,
  "toc-showcode": false,
  "toc-showmarkdowntxt": false,
  "toc-showtags": false,
  "varInspector": {
   "cols": {
    "lenName": 16,
    "lenType": 16,
    "lenVar": 40
   },
   "kernels_config": {
    "python": {
     "delete_cmd_postfix": "",
     "delete_cmd_prefix": "del ",
     "library": "var_list.py",
     "varRefreshCmd": "print(var_dic_list())"
    },
    "r": {
     "delete_cmd_postfix": ") ",
     "delete_cmd_prefix": "rm(",
     "library": "var_list.r",
     "varRefreshCmd": "cat(var_dic_list()) "
    }
   },
   "types_to_exclude": [
    "module",
    "function",
    "builtin_function_or_method",
    "instance",
    "_Feature"
   ],
   "window_display": false
  }
 },
 "nbformat": 4,
 "nbformat_minor": 4
}
