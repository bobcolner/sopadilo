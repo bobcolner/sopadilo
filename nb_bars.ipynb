{
 "cells": [
  {
   "cell_type": "markdown",
   "metadata": {},
   "source": [
    "# Imports"
   ]
  },
  {
   "cell_type": "code",
   "execution_count": 5,
   "metadata": {
    "execution": {
     "iopub.execute_input": "2021-05-26T18:41:08.806575Z",
     "iopub.status.busy": "2021-05-26T18:41:08.806129Z",
     "iopub.status.idle": "2021-05-26T18:41:09.022348Z",
     "shell.execute_reply": "2021-05-26T18:41:09.019197Z",
     "shell.execute_reply.started": "2021-05-26T18:41:08.806536Z"
    }
   },
   "outputs": [
    {
     "name": "stdout",
     "output_type": "stream",
     "text": [
      "The autoreload extension is already loaded. To reload it, use:\n",
      "  %reload_ext autoreload\n"
     ]
    }
   ],
   "source": [
    "%load_ext autoreload\n",
    "%autoreload 2\n",
    "\n",
    "import datetime as dt\n",
    "import numpy as np\n",
    "import pandas as pd\n",
    "pd.set_option('float_format', '{:f}'.format)\n",
    "pd.set_option('display.max_rows', 40)\n",
    "pd.set_option('display.max_columns', 99)\n",
    "import pandas_bokeh\n",
    "pandas_bokeh.output_file(\"tmp/bokeh_output.html\")\n",
    "# import matplotlib.pyplot as plt\n",
    "import matplotlib as mpl\n",
    "from matplotlib import style\n",
    "style.use('fivethirtyeight')\n",
    "mpl.rcParams['figure.figsize'] = [20, 7]\n",
    "import ray\n",
    "\n",
    "# import pdb; pdb.set_trace()\n",
    "# import pudb; pudb.set_trace()\n",
    "\n",
    "# .describe(include='all', datetime_is_numeric=True)\n",
    "# df.style.background_gradient(cmap='coolwarm', axis=None, vmin=-1, vmax=1)  # 'Blues', 'coolwarm', 'RdBu_r' & 'BrBG'\n",
    "# pd.set_option('precision', 2)\n",
    "# .plot_bokeh(sizing_mode=\"scale_height\")\n",
    "# .plot_bokeh(kind='hist', bins=1000, sizing_mode=\"scale_height\", xlim=[0, .1])\n",
    "\n",
    "from data_model import arrow_dataset, s3_backend\n",
    "from tick_filter import streaming_tick_filter\n",
    "from tick_sampler import streaming_tick_sampler, stacked, meta, meta_ray, daily_stats\n",
    "import utilities\n",
    "\n",
    "config = {\n",
    "    'meta': {\n",
    "        'symbol': 'GORO',\n",
    "        'start_date': '2020-11-10',\n",
    "        'end_date': '2020-11-16',\n",
    "        'config_id': 'renko_v1',\n",
    "    },\n",
    "    'filter': {\n",
    "        'mad_value_winlen': 22,\n",
    "        'mad_deviation_winlen': 1111,\n",
    "        'mad_k': 17,\n",
    "        'jma_winlen': 7,\n",
    "        'jma_power': 2,\n",
    "        # 'batch_freq': '2s',\n",
    "    },\n",
    "    'sampler': {\n",
    "        'renko_return': 'price_jma_return',\n",
    "        'renko_size': 0.1,  # for simple runs\n",
    "        'renko_reveral_multiple': 2,\n",
    "        'renko_range_frac': 22,\n",
    "        'renko_range_min_pct_value': 0.03,  # X% of symbol value to enforc min renko size\n",
    "        'max_duration_td': dt.timedelta(minutes=33),\n",
    "        'min_duration_td': dt.timedelta(seconds=33),\n",
    "        'min_tick_count': 33,\n",
    "        'add_label': True,\n",
    "        'reward_ratios': list(np.arange(2, 11, 0.5)),\n",
    "    }\n",
    "}"
   ]
  },
  {
   "cell_type": "code",
   "execution_count": null,
   "metadata": {},
   "outputs": [],
   "source": [
    "ray.init(dashboard_port=1111, ignore_reinit_error=True)"
   ]
  },
  {
   "cell_type": "code",
   "execution_count": null,
   "metadata": {},
   "outputs": [],
   "source": [
    "ray.shutdown()"
   ]
  },
  {
   "cell_type": "markdown",
   "metadata": {},
   "source": [
    "# Sample tick dates"
   ]
  },
  {
   "cell_type": "code",
   "execution_count": null,
   "metadata": {},
   "outputs": [],
   "source": [
    "n = 0\n",
    "\n",
    "bds[n]['ticks_df'][['price', 'price_jma']].plot()"
   ]
  },
  {
   "cell_type": "code",
   "execution_count": null,
   "metadata": {},
   "outputs": [],
   "source": [
    "bds[n]['ticks_df'].set_index('nyc_dt')[['price', 'price_jma']].plot()"
   ]
  },
  {
   "cell_type": "code",
   "execution_count": null,
   "metadata": {},
   "outputs": [],
   "source": [
    "bds[n]['ticks_df'].set_index('nyc_dt')['mad'].plot()"
   ]
  },
  {
   "cell_type": "code",
   "execution_count": null,
   "metadata": {},
   "outputs": [],
   "source": [
    "from filters.jma import jma_filter_df\n",
    "\n",
    "jma_filter_df(bds[n]['ticks_df'], 'mad', winlen=int(len(bds[n]['ticks_df'])/77), power=1)[['mad', 'mad_jma']].plot()"
   ]
  },
  {
   "cell_type": "code",
   "execution_count": null,
   "metadata": {},
   "outputs": [],
   "source": [
    "pd.DataFrame(abs(bds[n]['bars_df'].label_rrr)).value_counts() / len(bds[n]['bars_df'])"
   ]
  },
  {
   "cell_type": "code",
   "execution_count": null,
   "metadata": {},
   "outputs": [],
   "source": [
    "bds[n]['bars_df'][['price_high', 'price_low', 'price_close']].plot()"
   ]
  },
  {
   "cell_type": "code",
   "execution_count": null,
   "metadata": {},
   "outputs": [],
   "source": [
    "from utilities import pickle\n",
    "\n",
    "bds = pickle.pickle_load('tmp/bds.pickle')\n",
    "\n",
    "# pickle.pickle_dump(bds, 'tmp/bds.pickle')"
   ]
  },
  {
   "cell_type": "code",
   "execution_count": null,
   "metadata": {},
   "outputs": [],
   "source": [
    "# fill daily gaps\n",
    "stacked_df = stacked.fill_gaps_dates(bds, fill_col='price_vwap')\n",
    "\n",
    "stacked_df[['price_high','price_low','price_close', 'price_vwap']].plot_bokeh(sizing_mode=\"scale_height\")\n",
    "\n",
    "# stacked_df[['price_high','price_low','price_vwap']].plot()"
   ]
  },
  {
   "cell_type": "code",
   "execution_count": null,
   "metadata": {},
   "outputs": [],
   "source": [
    "# stacked stats\n",
    "stats_df = stacked.stacked_df_stats(stacked_df)\n",
    "\n",
    "stats_df\n",
    "\n",
    "stats_df.describe()"
   ]
  },
  {
   "cell_type": "code",
   "execution_count": null,
   "metadata": {},
   "outputs": [],
   "source": []
  }
 ],
 "metadata": {
  "kernelspec": {
   "display_name": "Python 3",
   "language": "python",
   "name": "python3"
  },
  "language_info": {
   "codemirror_mode": {
    "name": "ipython",
    "version": 3
   },
   "file_extension": ".py",
   "mimetype": "text/x-python",
   "name": "python",
   "nbconvert_exporter": "python",
   "pygments_lexer": "ipython3",
   "version": "3.8.10"
  },
  "toc-autonumbering": true,
  "toc-showcode": false,
  "toc-showmarkdowntxt": false,
  "toc-showtags": false,
  "varInspector": {
   "cols": {
    "lenName": 16,
    "lenType": 16,
    "lenVar": 40
   },
   "kernels_config": {
    "python": {
     "delete_cmd_postfix": "",
     "delete_cmd_prefix": "del ",
     "library": "var_list.py",
     "varRefreshCmd": "print(var_dic_list())"
    },
    "r": {
     "delete_cmd_postfix": ") ",
     "delete_cmd_prefix": "rm(",
     "library": "var_list.r",
     "varRefreshCmd": "cat(var_dic_list()) "
    }
   },
   "types_to_exclude": [
    "module",
    "function",
    "builtin_function_or_method",
    "instance",
    "_Feature"
   ],
   "window_display": false
  }
 },
 "nbformat": 4,
 "nbformat_minor": 4
}
