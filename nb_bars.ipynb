{
 "cells": [
  {
   "cell_type": "code",
   "execution_count": 1,
   "metadata": {
    "execution": {
     "iopub.execute_input": "2021-06-03T20:31:19.777055Z",
     "iopub.status.busy": "2021-06-03T20:31:19.776173Z",
     "iopub.status.idle": "2021-06-03T20:31:19.787571Z",
     "shell.execute_reply": "2021-06-03T20:31:19.786060Z",
     "shell.execute_reply.started": "2021-06-03T20:31:19.776941Z"
    }
   },
   "outputs": [],
   "source": [
    "# import pdb; pdb.set_trace()\n",
    "# import pudb; pudb.set_trace()\n",
    "\n",
    "# df.style.background_gradient(\n",
    "#     cmap='coolwarm', \n",
    "#     axis=None, \n",
    "#     vmin=-1, \n",
    "#     vmax=1\n",
    "# )  # 'Blues', 'coolwarm', 'RdBu_r' & 'BrBG'\n",
    "\n",
    "# pd.set_option('precision', 2)\n",
    "\n",
    "# .plot_bokeh(sizing_mode=\"scale_height\")\n",
    "# .plot_bokeh(kind='hist', bins=1000, sizing_mode=\"scale_height\", xlim=[0, .1])"
   ]
  },
  {
   "cell_type": "markdown",
   "metadata": {},
   "source": [
    "# Imports"
   ]
  },
  {
   "cell_type": "code",
   "execution_count": 1,
   "metadata": {
    "execution": {
     "iopub.execute_input": "2021-06-03T20:36:45.917268Z",
     "iopub.status.busy": "2021-06-03T20:36:45.916687Z",
     "iopub.status.idle": "2021-06-03T20:36:46.930070Z",
     "shell.execute_reply": "2021-06-03T20:36:46.928597Z",
     "shell.execute_reply.started": "2021-06-03T20:36:45.917199Z"
    }
   },
   "outputs": [],
   "source": [
    "%load_ext autoreload\n",
    "%autoreload 2\n",
    "\n",
    "import pandas as pd\n",
    "pd.set_option('float_format', '{:f}'.format)\n",
    "pd.set_option('display.max_rows', 40)\n",
    "pd.set_option('display.max_columns', 99)\n",
    "\n",
    "import matplotlib as mpl\n",
    "from matplotlib import style\n",
    "style.use('fivethirtyeight')\n",
    "mpl.rcParams['figure.figsize'] = [20, 7]"
   ]
  },
  {
   "cell_type": "code",
   "execution_count": 3,
   "metadata": {
    "execution": {
     "iopub.execute_input": "2021-06-03T20:36:52.629532Z",
     "iopub.status.busy": "2021-06-03T20:36:52.629052Z",
     "iopub.status.idle": "2021-06-03T20:36:52.745856Z",
     "shell.execute_reply": "2021-06-03T20:36:52.742254Z",
     "shell.execute_reply.started": "2021-06-03T20:36:52.629489Z"
    }
   },
   "outputs": [],
   "source": [
    "import datetime as dt\n",
    "import pickle\n",
    "import numpy as np\n",
    "import pandas as pd\n",
    "import pandas_bokeh\n",
    "pandas_bokeh.output_file(\"tmp/bokeh_output.html\")\n",
    "import ray\n",
    "\n",
    "from data_layer import arrow_dataset, storage_adaptor\n",
    "from tick_filter import streaming_tick_filter\n",
    "from tick_sampler import streaming_tick_sampler, daily_stats\n",
    "from workflows import sampler_task, sampler_flow\n",
    "from utilities import date_fu, project_globals as g\n",
    "from data_layer import storage_adaptor, fsspec_factory, data_access, arrow_dataset\n",
    "\n",
    "\n",
    "config = {\n",
    "    'meta': {\n",
    "        'symbol': 'EGO',\n",
    "        'symbol_list': ['GFI','GLD','GORO','GSS'],\n",
    "        'start_date': '2019-01-01',\n",
    "        'end_date': '2019-04-08',\n",
    "        'config_id': 'renko_v1',\n",
    "        'presist_destination': 'remote',\n",
    "        'ray_on': True,\n",
    "    },\n",
    "    'filter': {\n",
    "        'mad_value_winlen': 22,\n",
    "        'mad_deviation_winlen': 1111,\n",
    "        'mad_k': 17,\n",
    "        'jma_winlen': 7,\n",
    "        'jma_power': 2,\n",
    "    },\n",
    "    'sampler': {\n",
    "        'renko_return': 'price_jma_return',\n",
    "        'renko_size': 0.1,  # for simple runs\n",
    "        'renko_reveral_multiple': 2,\n",
    "        'renko_range_frac': 22,\n",
    "        'renko_range_min_pct_value': 0.03,  # % of symbol value enforced as min renko size\n",
    "        'max_duration_td': dt.timedelta(minutes=33),\n",
    "        'min_duration_td': dt.timedelta(seconds=33),\n",
    "        'min_tick_count': 33,\n",
    "        'add_label': True,\n",
    "        'reward_ratios': list(np.arange(2, 11, 0.5)),\n",
    "    }\n",
    "}\n",
    "\n",
    "prefix_1 = f\"/tick_samples/{config['meta']['config_id']}/bar_date\"\n",
    "\n",
    "prefix_2 = f\"/tick_samples/{config['meta']['config_id']}/bars_df\"\n",
    "\n",
    "prefix_3 = '/data/trades'"
   ]
  },
  {
   "cell_type": "code",
   "execution_count": 5,
   "metadata": {
    "collapsed": true,
    "execution": {
     "iopub.execute_input": "2021-06-03T20:31:56.757974Z",
     "iopub.status.busy": "2021-06-03T20:31:56.757491Z",
     "iopub.status.idle": "2021-06-03T20:31:57.056559Z",
     "shell.execute_reply": "2021-06-03T20:31:57.055358Z",
     "shell.execute_reply.started": "2021-06-03T20:31:56.757931Z"
    },
    "jupyter": {
     "outputs_hidden": true
    }
   },
   "outputs": [
    {
     "data": {
      "text/plain": [
       "['2019-01-02',\n",
       " '2019-01-03',\n",
       " '2019-01-04',\n",
       " '2019-01-07',\n",
       " '2019-01-08',\n",
       " '2019-01-09',\n",
       " '2019-01-10',\n",
       " '2019-01-11',\n",
       " '2019-01-14',\n",
       " '2019-01-15',\n",
       " '2019-01-16',\n",
       " '2019-01-17',\n",
       " '2019-01-18',\n",
       " '2019-01-22',\n",
       " '2019-01-23',\n",
       " '2019-01-24',\n",
       " '2019-01-25',\n",
       " '2019-01-28',\n",
       " '2019-01-29',\n",
       " '2019-01-30',\n",
       " '2019-01-31',\n",
       " '2019-02-01',\n",
       " '2019-02-04',\n",
       " '2019-02-05',\n",
       " '2019-02-06',\n",
       " '2019-02-07',\n",
       " '2019-02-08',\n",
       " '2019-02-11',\n",
       " '2019-02-12',\n",
       " '2019-02-13',\n",
       " '2019-02-14',\n",
       " '2019-02-15',\n",
       " '2019-02-19',\n",
       " '2019-02-20',\n",
       " '2019-02-21',\n",
       " '2019-02-22',\n",
       " '2019-02-25',\n",
       " '2019-02-26',\n",
       " '2019-02-27',\n",
       " '2019-02-28',\n",
       " '2019-03-01',\n",
       " '2019-03-04',\n",
       " '2019-03-05',\n",
       " '2019-03-06',\n",
       " '2019-03-07',\n",
       " '2019-03-08',\n",
       " '2019-03-11',\n",
       " '2019-03-12',\n",
       " '2019-03-13',\n",
       " '2019-03-14',\n",
       " '2019-03-15',\n",
       " '2019-03-18',\n",
       " '2019-03-19',\n",
       " '2019-03-20',\n",
       " '2019-03-21',\n",
       " '2019-03-22',\n",
       " '2019-03-25',\n",
       " '2019-03-26',\n",
       " '2019-03-27',\n",
       " '2019-03-28',\n",
       " '2019-03-29',\n",
       " '2019-04-01']"
      ]
     },
     "execution_count": 5,
     "metadata": {},
     "output_type": "execute_result"
    }
   ],
   "source": [
    "data_access.list(prefix_1, 'GLD')"
   ]
  },
  {
   "cell_type": "markdown",
   "metadata": {},
   "source": [
    "# Sample tick dates"
   ]
  },
  {
   "cell_type": "code",
   "execution_count": 4,
   "metadata": {
    "execution": {
     "iopub.execute_input": "2021-06-03T20:36:56.699044Z",
     "iopub.status.busy": "2021-06-03T20:36:56.698258Z",
     "iopub.status.idle": "2021-06-03T20:37:02.452344Z",
     "shell.execute_reply": "2021-06-03T20:37:02.450935Z",
     "shell.execute_reply.started": "2021-06-03T20:36:56.698980Z"
    }
   },
   "outputs": [
    {
     "name": "stderr",
     "output_type": "stream",
     "text": [
      "2021-06-03 13:36:59,143\tINFO services.py:1267 -- View the Ray dashboard at \u001b[1m\u001b[32mhttp://0.0.0.0:1111\u001b[39m\u001b[22m\n"
     ]
    },
    {
     "data": {
      "text/plain": [
       "{'node_ip_address': '192.168.1.66',\n",
       " 'raylet_ip_address': '192.168.1.66',\n",
       " 'redis_address': '192.168.1.66:6379',\n",
       " 'object_store_address': '/tmp/ray/session_2021-06-03_13-36-56_820659_14676/sockets/plasma_store',\n",
       " 'raylet_socket_name': '/tmp/ray/session_2021-06-03_13-36-56_820659_14676/sockets/raylet',\n",
       " 'webui_url': '0.0.0.0:1111',\n",
       " 'session_dir': '/tmp/ray/session_2021-06-03_13-36-56_820659_14676',\n",
       " 'metrics_export_port': 52270,\n",
       " 'node_id': '597860dcd086d70ad3bfa8c1ece955fec72930afacaa8867cceeb090'}"
      ]
     },
     "execution_count": 4,
     "metadata": {},
     "output_type": "execute_result"
    }
   ],
   "source": [
    "ray.init(dashboard_host='0.0.0.0', dashboard_port=1111, ignore_reinit_error=True)"
   ]
  },
  {
   "cell_type": "code",
   "execution_count": 15,
   "metadata": {
    "execution": {
     "iopub.execute_input": "2021-06-03T20:36:40.383375Z",
     "iopub.status.busy": "2021-06-03T20:36:40.382492Z",
     "iopub.status.idle": "2021-06-03T20:36:42.002616Z",
     "shell.execute_reply": "2021-06-03T20:36:42.001408Z",
     "shell.execute_reply.started": "2021-06-03T20:36:40.383311Z"
    }
   },
   "outputs": [],
   "source": [
    "ray.shutdown()"
   ]
  },
  {
   "cell_type": "code",
   "execution_count": 5,
   "metadata": {
    "execution": {
     "iopub.execute_input": "2021-06-03T20:37:02.455875Z",
     "iopub.status.busy": "2021-06-03T20:37:02.455208Z",
     "iopub.status.idle": "2021-06-03T20:37:53.115423Z",
     "shell.execute_reply": "2021-06-03T20:37:53.113964Z",
     "shell.execute_reply.started": "2021-06-03T20:37:02.455822Z"
    }
   },
   "outputs": [
    {
     "name": "stdout",
     "output_type": "stream",
     "text": [
      "\u001b[2m\u001b[36m(pid=14695)\u001b[0m running GFI 2019-04-08\n",
      "\u001b[2m\u001b[36m(pid=14695)\u001b[0m running GLD 2019-04-08\n",
      "\u001b[2m\u001b[36m(pid=14695)\u001b[0m running GORO 2019-04-08\n",
      "\u001b[2m\u001b[36m(pid=14695)\u001b[0m running GSS 2019-04-08\n"
     ]
    }
   ],
   "source": [
    "out = sampler_flow.run(config)"
   ]
  },
  {
   "cell_type": "code",
   "execution_count": null,
   "metadata": {},
   "outputs": [],
   "source": [
    "n = 1\n",
    "print(bar_dates[n]['date'])\n",
    "# bar_dates[n]['ticks_df'][['price', 'price_jma']].plot_bokeh(sizing_mode=\"scale_height\")\n",
    "bar_dates[n]['ticks_df'][['price', 'price_jma']].plot()"
   ]
  },
  {
   "cell_type": "code",
   "execution_count": null,
   "metadata": {},
   "outputs": [],
   "source": [
    "bar_dates[n]['ticks_df'][['price_jma']].plot()"
   ]
  },
  {
   "cell_type": "code",
   "execution_count": null,
   "metadata": {},
   "outputs": [],
   "source": [
    "bar_dates[n]['ticks_df'].status.value_counts() / len(bar_dates[n]['ticks_df'])"
   ]
  },
  {
   "cell_type": "code",
   "execution_count": null,
   "metadata": {},
   "outputs": [],
   "source": [
    "bar_dates[n]['bars_df'][['price_low', 'price_high', 'price_close']].plot()"
   ]
  },
  {
   "cell_type": "markdown",
   "metadata": {},
   "source": [
    "# Arrow dataset"
   ]
  },
  {
   "cell_type": "code",
   "execution_count": null,
   "metadata": {},
   "outputs": [],
   "source": [
    "ds = arrow_dataset.get_dataset('GLD', prefix_2, fs_type='remote', schema=bar_date_schema)"
   ]
  },
  {
   "cell_type": "code",
   "execution_count": null,
   "metadata": {},
   "outputs": [],
   "source": [
    "ds = arrow_dataset.get_dataset('GLD', prefix_2, fs_type='remote')"
   ]
  },
  {
   "cell_type": "code",
   "execution_count": null,
   "metadata": {},
   "outputs": [],
   "source": [
    "bar_date_schema = ds.schema"
   ]
  },
  {
   "cell_type": "code",
   "execution_count": null,
   "metadata": {},
   "outputs": [],
   "source": [
    "df = ds.to_table().to_pandas()"
   ]
  },
  {
   "cell_type": "code",
   "execution_count": null,
   "metadata": {},
   "outputs": [],
   "source": [
    "df[['price_close','price_vwap']].plot_bokeh(sizing_mode=\"scale_height\")"
   ]
  },
  {
   "cell_type": "code",
   "execution_count": null,
   "metadata": {},
   "outputs": [],
   "source": [
    "abs(df.label_rrr).value_counts() / len(df)"
   ]
  },
  {
   "cell_type": "code",
   "execution_count": null,
   "metadata": {},
   "outputs": [],
   "source": [
    "from sample_features import stacked\n",
    "# fill daily gaps\n",
    "stacked_df = stacked.fill_gaps_dates(bar_dates, fill_col='price_vwap')\n",
    "\n",
    "# stacked_df[['price_high','price_low','price_close', 'price_vwap']].plot_bokeh(sizing_mode=\"scale_height\")\n",
    "\n",
    "# stacked stats\n",
    "stats_df = stacked.stacked_df_stats(stacked_df)\n"
   ]
  },
  {
   "cell_type": "code",
   "execution_count": null,
   "metadata": {},
   "outputs": [],
   "source": [
    "stats_df.describe()"
   ]
  }
 ],
 "metadata": {
  "kernelspec": {
   "display_name": "Python 3",
   "language": "python",
   "name": "python3"
  },
  "language_info": {
   "codemirror_mode": {
    "name": "ipython",
    "version": 3
   },
   "file_extension": ".py",
   "mimetype": "text/x-python",
   "name": "python",
   "nbconvert_exporter": "python",
   "pygments_lexer": "ipython3",
   "version": "3.8.10"
  },
  "toc-autonumbering": true,
  "toc-showcode": false,
  "toc-showmarkdowntxt": false,
  "toc-showtags": false,
  "varInspector": {
   "cols": {
    "lenName": 16,
    "lenType": 16,
    "lenVar": 40
   },
   "kernels_config": {
    "python": {
     "delete_cmd_postfix": "",
     "delete_cmd_prefix": "del ",
     "library": "var_list.py",
     "varRefreshCmd": "print(var_dic_list())"
    },
    "r": {
     "delete_cmd_postfix": ") ",
     "delete_cmd_prefix": "rm(",
     "library": "var_list.r",
     "varRefreshCmd": "cat(var_dic_list()) "
    }
   },
   "types_to_exclude": [
    "module",
    "function",
    "builtin_function_or_method",
    "instance",
    "_Feature"
   ],
   "window_display": false
  }
 },
 "nbformat": 4,
 "nbformat_minor": 4
}
