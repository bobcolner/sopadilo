{
 "cells": [
  {
   "cell_type": "code",
   "execution_count": null,
   "metadata": {},
   "outputs": [],
   "source": [
    "# import pdb; pdb.set_trace()\n",
    "# import pudb; pudb.set_trace()\n",
    "\n",
    "# df.style.background_gradient(\n",
    "#     cmap='coolwarm', \n",
    "#     axis=None, \n",
    "#     vmin=-1, \n",
    "#     vmax=1\n",
    "# )  # 'Blues', 'coolwarm', 'RdBu_r' & 'BrBG'\n",
    "\n",
    "# pd.set_option('precision', 2)\n",
    "\n",
    "# .plot_bokeh(sizing_mode=\"scale_height\")\n",
    "# .plot_bokeh(kind='hist', bins=1000, sizing_mode=\"scale_height\", xlim=[0, .1])"
   ]
  },
  {
   "cell_type": "markdown",
   "metadata": {},
   "source": [
    "# Imports"
   ]
  },
  {
   "cell_type": "code",
   "execution_count": null,
   "metadata": {},
   "outputs": [],
   "source": [
    "%load_ext autoreload\n",
    "%autoreload 2\n",
    "\n",
    "import pandas as pd\n",
    "pd.set_option('float_format', '{:f}'.format)\n",
    "pd.set_option('display.max_rows', 40)\n",
    "pd.set_option('display.max_columns', 99)\n",
    "\n",
    "import matplotlib as mpl\n",
    "from matplotlib import style\n",
    "style.use('fivethirtyeight')\n",
    "mpl.rcParams['figure.figsize'] = [20, 7]\n",
    "\n",
    "import datetime as dt\n",
    "import pickle\n",
    "import numpy as np\n",
    "import pandas as pd\n",
    "import pandas_bokeh\n",
    "pandas_bokeh.output_file(\"tmp/bokeh_output.html\")\n",
    "import ray\n",
    "\n",
    "from data_layer import arrow_dataset, storage_adaptor\n",
    "from tick_filter import streaming_tick_filter\n",
    "from tick_sampler import streaming_tick_sampler, daily_stats\n",
    "from workflows import sampler_task, sampler_flow, syncbar_flow, syncbar_task\n",
    "from workflows.configs import renko_v1, renko_v2\n",
    "from utilities import date_fu, project_globals as g\n",
    "from data_layer import storage_adaptor, fsspec_factory, data_access, arrow_dataset"
   ]
  },
  {
   "cell_type": "code",
   "execution_count": null,
   "metadata": {},
   "outputs": [],
   "source": [
    "config = renko_v2.config\n",
    "\n",
    "prefix_data = '/data/trades'\n",
    "\n",
    "prefix_meta = f\"/bars/{config['meta']['config_id']}/meta\"\n",
    "\n",
    "prefix_df = f\"/bars/{config['meta']['config_id']}/df\""
   ]
  },
  {
   "cell_type": "markdown",
   "metadata": {},
   "source": [
    "# Ray setup"
   ]
  },
  {
   "cell_type": "code",
   "execution_count": null,
   "metadata": {},
   "outputs": [],
   "source": [
    "ray.init(dashboard_host='0.0.0.0', dashboard_port=1111, ignore_reinit_error=True)"
   ]
  },
  {
   "cell_type": "code",
   "execution_count": null,
   "metadata": {},
   "outputs": [],
   "source": [
    "ray.shutdown()"
   ]
  },
  {
   "cell_type": "markdown",
   "metadata": {},
   "source": [
    "# sync bars"
   ]
  },
  {
   "cell_type": "code",
   "execution_count": null,
   "metadata": {},
   "outputs": [],
   "source": [
    "config = {\n",
    "    'config_id': 'renko_v2',\n",
    "    'start_date': '2019-01-01',\n",
    "    'end_date': '2019-02-05',\n",
    "    'source': 'remote',\n",
    "    'destination': 'both',\n",
    "    'on_ray': True,\n",
    "}"
   ]
  },
  {
   "cell_type": "code",
   "execution_count": null,
   "metadata": {
    "scrolled": true
   },
   "outputs": [],
   "source": [
    "syncbar_flow.run(config)"
   ]
  },
  {
   "cell_type": "markdown",
   "metadata": {},
   "source": [
    "# Tick Sampler "
   ]
  },
  {
   "cell_type": "code",
   "execution_count": null,
   "metadata": {
    "scrolled": true
   },
   "outputs": [],
   "source": [
    "bds = sampler_flow.run(config)"
   ]
  },
  {
   "cell_type": "code",
   "execution_count": null,
   "metadata": {},
   "outputs": [],
   "source": [
    "n = 1\n",
    "print(bds[n]['date'])\n",
    "# bds[n]['ticks_df'][['price', 'price_jma']].plot_bokeh(sizing_mode=\"scale_height\")\n",
    "bds[n]['ticks_df'][['price', 'price_jma']].plot()"
   ]
  },
  {
   "cell_type": "code",
   "execution_count": null,
   "metadata": {},
   "outputs": [],
   "source": [
    "bds[n]['ticks_df'][['price_jma']].plot()"
   ]
  },
  {
   "cell_type": "code",
   "execution_count": null,
   "metadata": {},
   "outputs": [],
   "source": [
    "bds[n]['ticks_df'].status.value_counts() / len(bds[n]['ticks_df'])"
   ]
  },
  {
   "cell_type": "code",
   "execution_count": null,
   "metadata": {},
   "outputs": [],
   "source": [
    "bds[n]['bars_df'][['price_low', 'price_high', 'price_close']].plot()"
   ]
  },
  {
   "cell_type": "markdown",
   "metadata": {},
   "source": [
    "# Price gap fill"
   ]
  },
  {
   "cell_type": "code",
   "execution_count": null,
   "metadata": {},
   "outputs": [],
   "source": [
    "from sample_features import stacked\n",
    "# fill daily gaps\n",
    "stacked_df = stacked.fill_gaps_dates(bar_dates, fill_col='price_vwap')\n",
    "\n",
    "# stacked_df[['price_high','price_low','price_close', 'price_vwap']].plot_bokeh(sizing_mode=\"scale_height\")\n",
    "\n",
    "# stacked stats\n",
    "stats_df = stacked.stacked_df_stats(stacked_df)\n"
   ]
  },
  {
   "cell_type": "code",
   "execution_count": null,
   "metadata": {},
   "outputs": [],
   "source": [
    "stats_df.describe()"
   ]
  }
 ],
 "metadata": {
  "kernelspec": {
   "display_name": "Python 3",
   "language": "python",
   "name": "python3"
  },
  "language_info": {
   "codemirror_mode": {
    "name": "ipython",
    "version": 3
   },
   "file_extension": ".py",
   "mimetype": "text/x-python",
   "name": "python",
   "nbconvert_exporter": "python",
   "pygments_lexer": "ipython3",
   "version": "3.8.10"
  },
  "toc-autonumbering": true,
  "toc-showcode": false,
  "toc-showmarkdowntxt": false,
  "toc-showtags": false,
  "varInspector": {
   "cols": {
    "lenName": 16,
    "lenType": 16,
    "lenVar": 40
   },
   "kernels_config": {
    "python": {
     "delete_cmd_postfix": "",
     "delete_cmd_prefix": "del ",
     "library": "var_list.py",
     "varRefreshCmd": "print(var_dic_list())"
    },
    "r": {
     "delete_cmd_postfix": ") ",
     "delete_cmd_prefix": "rm(",
     "library": "var_list.r",
     "varRefreshCmd": "cat(var_dic_list()) "
    }
   },
   "types_to_exclude": [
    "module",
    "function",
    "builtin_function_or_method",
    "instance",
    "_Feature"
   ],
   "window_display": false
  }
 },
 "nbformat": 4,
 "nbformat_minor": 4
}
