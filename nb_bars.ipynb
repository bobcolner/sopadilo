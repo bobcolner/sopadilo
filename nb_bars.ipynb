{
 "cells": [
  {
   "cell_type": "code",
   "execution_count": 21,
   "metadata": {
    "execution": {
     "iopub.execute_input": "2021-09-22T14:21:31.913688Z",
     "iopub.status.busy": "2021-09-22T14:21:31.913234Z",
     "iopub.status.idle": "2021-09-22T14:21:32.425626Z",
     "shell.execute_reply": "2021-09-22T14:21:32.424773Z",
     "shell.execute_reply.started": "2021-09-22T14:21:31.913647Z"
    },
    "tags": []
   },
   "outputs": [],
   "source": [
    "# import pdb; pdb.set_trace()\n",
    "# import pudb; pudb.set_trace()\n",
    "\n",
    "# df.style.background_gradient(\n",
    "#     cmap='coolwarm', \n",
    "#     axis=None, \n",
    "#     vmin=-1, \n",
    "#     vmax=1\n",
    "# )  # 'Blues', 'coolwarm', 'RdBu_r' & 'BrBG'\n",
    "\n",
    "# df.style.set_sticky(axis=\"index\")\n",
    "\n",
    "# pd.set_option('precision', 2)\n",
    "\n",
    "# from pandas_profiling import ProfileReport\n",
    "# profile = ProfileReport(df, title=\"Pandas Profiling Report\", explorative=True)\n",
    "\n",
    "# .plot_bokeh(sizing_mode=\"scale_height\")\n",
    "# .plot_bokeh(kind='hist', bins=1000, sizing_mode=\"scale_height\", xlim=[0, .1])"
   ]
  },
  {
   "cell_type": "markdown",
   "metadata": {
    "tags": []
   },
   "source": [
    "# Imports"
   ]
  },
  {
   "cell_type": "code",
   "execution_count": 51,
   "metadata": {
    "execution": {
     "iopub.execute_input": "2021-09-23T16:16:26.494165Z",
     "iopub.status.busy": "2021-09-23T16:16:26.493488Z",
     "iopub.status.idle": "2021-09-23T16:16:26.653762Z",
     "shell.execute_reply": "2021-09-23T16:16:26.651931Z",
     "shell.execute_reply.started": "2021-09-23T16:16:26.494115Z"
    },
    "tags": []
   },
   "outputs": [
    {
     "name": "stdout",
     "output_type": "stream",
     "text": [
      "The autoreload extension is already loaded. To reload it, use:\n",
      "  %reload_ext autoreload\n"
     ]
    }
   ],
   "source": [
    "%load_ext autoreload\n",
    "%autoreload 2\n",
    "\n",
    "import pandas as pd\n",
    "pd.set_option('float_format', '{:f}'.format)\n",
    "pd.set_option('display.max_rows', 40)\n",
    "\n",
    "pd.set_option('display.max_columns', 99)\n",
    "\n",
    "import matplotlib as mpl\n",
    "from matplotlib import style\n",
    "style.use('fivethirtyeight')\n",
    "mpl.rcParams['figure.figsize'] = [20, 7]\n",
    "\n",
    "import datetime as dt\n",
    "import pickle\n",
    "import numpy as np\n",
    "import pandas as pd\n",
    "import pandas_bokeh\n",
    "pandas_bokeh.output_file(\"tmp/bokeh_output.html\")\n",
    "import ray\n",
    "\n",
    "from data_layer import storage_adaptor, fsspec_factory, data_access, arrow_dataset\n",
    "from tick_filter import streaming_tick_filter\n",
    "from tick_sampler import streaming_tick_sampler, daily_stats\n",
    "from utilities import date_fu, project_globals as g\n",
    "from workflows import sampler_task, sampler_flow, syncbar_flow, syncbar_task\n",
    "from workflows.configs import renko_v1, renko_v2, renko_v3\n",
    "from sample_features import stacked\n",
    "from filters import jma"
   ]
  },
  {
   "cell_type": "code",
   "execution_count": 23,
   "metadata": {
    "execution": {
     "iopub.execute_input": "2021-09-22T14:21:33.980940Z",
     "iopub.status.busy": "2021-09-22T14:21:33.980491Z",
     "iopub.status.idle": "2021-09-22T14:21:34.099347Z",
     "shell.execute_reply": "2021-09-22T14:21:34.096472Z",
     "shell.execute_reply.started": "2021-09-22T14:21:33.980900Z"
    },
    "tags": []
   },
   "outputs": [],
   "source": [
    "config = renko_v2.config\n",
    "\n",
    "prefix_data = '/data/trades'\n",
    "\n",
    "prefix_meta = f\"/bars/{config['meta']['config_id']}/meta\"\n",
    "\n",
    "prefix_df = f\"/bars/{config['meta']['config_id']}/df/symbol=GLD\"\n",
    "\n",
    "prefix_sb = f\"/bars/{config['meta']['config_id']}/sync_bars/clock_symbol=SAND/symbol=GLD\""
   ]
  },
  {
   "cell_type": "code",
   "execution_count": null,
   "metadata": {
    "tags": []
   },
   "outputs": [],
   "source": [
    "df = data_access.fetch_sd_data('AEM', prefix=prefix_df, date='2019-01-03')\n",
    "\n",
    "df"
   ]
  },
  {
   "cell_type": "markdown",
   "metadata": {
    "tags": []
   },
   "source": [
    "# load multi-file dataset"
   ]
  },
  {
   "cell_type": "code",
   "execution_count": 24,
   "metadata": {
    "execution": {
     "iopub.execute_input": "2021-09-22T14:21:37.485568Z",
     "iopub.status.busy": "2021-09-22T14:21:37.484261Z",
     "iopub.status.idle": "2021-09-22T14:21:37.639463Z",
     "shell.execute_reply": "2021-09-22T14:21:37.638264Z",
     "shell.execute_reply.started": "2021-09-22T14:21:37.485517Z"
    },
    "tags": []
   },
   "outputs": [
    {
     "data": {
      "text/plain": [
       "'/bars/renko_v2/df/symbol=GLD'"
      ]
     },
     "execution_count": 24,
     "metadata": {},
     "output_type": "execute_result"
    }
   ],
   "source": [
    "prefix_df"
   ]
  },
  {
   "cell_type": "code",
   "execution_count": 25,
   "metadata": {
    "execution": {
     "iopub.execute_input": "2021-09-22T14:21:38.154483Z",
     "iopub.status.busy": "2021-09-22T14:21:38.153961Z",
     "iopub.status.idle": "2021-09-22T14:21:38.965625Z",
     "shell.execute_reply": "2021-09-22T14:21:38.964106Z",
     "shell.execute_reply.started": "2021-09-22T14:21:38.154434Z"
    },
    "tags": []
   },
   "outputs": [],
   "source": [
    "ds = arrow_dataset.get_dataset(prefix=prefix_df)"
   ]
  },
  {
   "cell_type": "code",
   "execution_count": 26,
   "metadata": {
    "execution": {
     "iopub.execute_input": "2021-09-22T14:21:40.001772Z",
     "iopub.status.busy": "2021-09-22T14:21:40.001449Z",
     "iopub.status.idle": "2021-09-22T14:21:40.942075Z",
     "shell.execute_reply": "2021-09-22T14:21:40.940790Z",
     "shell.execute_reply.started": "2021-09-22T14:21:40.001745Z"
    },
    "tags": []
   },
   "outputs": [],
   "source": [
    "df = ds.to_table().to_pandas()"
   ]
  },
  {
   "cell_type": "markdown",
   "metadata": {
    "tags": []
   },
   "source": [
    "# JMA filter"
   ]
  },
  {
   "cell_type": "code",
   "execution_count": 7,
   "metadata": {
    "execution": {
     "iopub.execute_input": "2021-09-22T02:19:50.181724Z",
     "iopub.status.busy": "2021-09-22T02:19:50.180825Z",
     "iopub.status.idle": "2021-09-22T02:19:50.309908Z",
     "shell.execute_reply": "2021-09-22T02:19:50.308254Z",
     "shell.execute_reply.started": "2021-09-22T02:19:50.181626Z"
    },
    "tags": []
   },
   "outputs": [],
   "source": [
    "def plot_jma(df: pd.DataFrame, col: str, winlen: int, plot_cols: list=[], \n",
    "             fill_gap: bool=False, expand: bool=False) -> pd.DataFrame:\n",
    "\n",
    "    df = df.copy()\n",
    "    if fill_gap:\n",
    "        df = stacked.fill_gaps_dates(df, col)\n",
    "\n",
    "    df = jma.jma_filter_df(df, col, winlen, expand=expand)\n",
    "    df[[col, f\"{col}_jma{winlen}\"]+plot_cols].plot_bokeh(sizing_mode=\"scale_height\")\n",
    "    return df"
   ]
  },
  {
   "cell_type": "code",
   "execution_count": 50,
   "metadata": {
    "execution": {
     "iopub.execute_input": "2021-09-23T16:00:57.308008Z",
     "iopub.status.busy": "2021-09-23T16:00:57.307429Z",
     "iopub.status.idle": "2021-09-23T16:01:04.967735Z",
     "shell.execute_reply": "2021-09-23T16:01:04.964184Z",
     "shell.execute_reply.started": "2021-09-23T16:00:57.307950Z"
    },
    "tags": []
   },
   "outputs": [],
   "source": [
    "out = plot_jma(df, 'price_vwap', winlen=200, plot_cols=[], fill_gap=True, expand=True)"
   ]
  },
  {
   "cell_type": "code",
   "execution_count": 9,
   "metadata": {
    "execution": {
     "iopub.execute_input": "2021-09-22T02:37:19.734520Z",
     "iopub.status.busy": "2021-09-22T02:37:19.733390Z",
     "iopub.status.idle": "2021-09-22T02:37:20.163397Z",
     "shell.execute_reply": "2021-09-22T02:37:20.162809Z",
     "shell.execute_reply.started": "2021-09-22T02:37:19.734445Z"
    },
    "tags": []
   },
   "outputs": [],
   "source": [
    "# bar featureizer\n",
    "def gap_aware_filter(df: pd.DataFrame, col: str, winlens: list[int], fill_gap: bool) -> pd.DataFrame:\n",
    "    jdf = df.copy()\n",
    "    if fill_gap:\n",
    "        jdf = stacked.fill_gaps_dates(jdf, col)\n",
    "\n",
    "    for winlen in winlens:\n",
    "        if winlen > 99:\n",
    "            jdf.loc[:, f\"{col}_jma{winlen}\"] = jma.jma_expanding_filter(\n",
    "                jdf[col], winlen, power=1, phase=0\n",
    "            )\n",
    "        else:\n",
    "            jdf.loc[:, f\"{col}_jma{winlen}\"] = jma.jma_rolling_filter(\n",
    "                jdf[col], winlen, power=1, phase=0\n",
    "            )\n",
    "    \n",
    "        jdf.loc[:, f\"{col}_jma{winlen}_diff\"] = jdf[f\"{col}_jma{winlen}\"].diff()\n",
    "        jdf.loc[:, f\"{col}_jma{winlen}_resid\"] = jdf[col] - jdf[f\"{col}_jma{winlen}\"]\n",
    "    \n",
    "    jdf.loc[:, f\"{col}_diff\"] = jdf[f\"{col}\"].diff()  # add diff for original col\n",
    "    \n",
    "    return jdf[jdf.bar_trigger != 'gap_filler']\n",
    "\n",
    "\n",
    "def filter_cols(df: pd.DataFrame, params: list[dict]) -> pd.DataFrame:\n",
    "    _df = df.copy()\n",
    "    for param in params:\n",
    "        print(param)\n",
    "        _df = gap_aware_filter(\n",
    "            _df, \n",
    "            col=param['col'], \n",
    "            winlens=param['winlens'], \n",
    "            fill_gap=param['fill_gap'],\n",
    "        )\n",
    "\n",
    "    return _df"
   ]
  },
  {
   "cell_type": "markdown",
   "metadata": {},
   "source": [
    "# bar features"
   ]
  },
  {
   "cell_type": "code",
   "execution_count": 48,
   "metadata": {
    "execution": {
     "iopub.execute_input": "2021-09-23T15:59:13.204991Z",
     "iopub.status.busy": "2021-09-23T15:59:13.204500Z",
     "iopub.status.idle": "2021-09-23T15:59:13.353176Z",
     "shell.execute_reply": "2021-09-23T15:59:13.351916Z",
     "shell.execute_reply.started": "2021-09-23T15:59:13.204948Z"
    },
    "tags": []
   },
   "outputs": [],
   "source": [
    "# convert duration\n",
    "df['duration_10s'] = round(df.duration_td.astype('int64')/10**9/10)"
   ]
  },
  {
   "cell_type": "code",
   "execution_count": 106,
   "metadata": {
    "execution": {
     "iopub.execute_input": "2021-09-23T17:26:03.339685Z",
     "iopub.status.busy": "2021-09-23T17:26:03.339253Z",
     "iopub.status.idle": "2021-09-23T17:26:03.508073Z",
     "shell.execute_reply": "2021-09-23T17:26:03.505569Z",
     "shell.execute_reply.started": "2021-09-23T17:26:03.339647Z"
    }
   },
   "outputs": [],
   "source": [
    "# get bar 'min in day'\n",
    "df['min_in_day'] = (df.close_at.dt.hour * 60) + df.close_at.dt.minute"
   ]
  },
  {
   "cell_type": "code",
   "execution_count": null,
   "metadata": {},
   "outputs": [],
   "source": [
    "# get bar 'day of week'\n",
    "df['day_of_week'] = df.close_at.dt.dayofweek"
   ]
  },
  {
   "cell_type": "code",
   "execution_count": 53,
   "metadata": {
    "execution": {
     "iopub.execute_input": "2021-09-23T16:30:31.417864Z",
     "iopub.status.busy": "2021-09-23T16:30:31.416992Z",
     "iopub.status.idle": "2021-09-23T16:30:31.533710Z",
     "shell.execute_reply": "2021-09-23T16:30:31.532556Z",
     "shell.execute_reply.started": "2021-09-23T16:30:31.417812Z"
    }
   },
   "outputs": [],
   "source": [
    "# get weighted IQR\n",
    "df['wiqr'] = df.price_wq95 - df.price_wq05"
   ]
  },
  {
   "cell_type": "code",
   "execution_count": 109,
   "metadata": {
    "execution": {
     "iopub.execute_input": "2021-09-23T18:07:21.518177Z",
     "iopub.status.busy": "2021-09-23T18:07:21.517752Z",
     "iopub.status.idle": "2021-09-23T18:07:21.639600Z",
     "shell.execute_reply": "2021-09-23T18:07:21.638583Z",
     "shell.execute_reply.started": "2021-09-23T18:07:21.518140Z"
    },
    "tags": []
   },
   "outputs": [],
   "source": [
    "# add renko trend/reversal label\n",
    "continue_mask = df.bar_trigger.shift(1) == df.bar_trigger\n",
    "duration_mask = df.bar_trigger.shift(1) == 'duration'\n",
    "df.loc[continue_mask, 'renko_type'] = 'renko_trend'\n",
    "df.loc[~continue_mask, 'renko_type'] = 'renko_reversal'\n",
    "df.loc[duration_mask, 'renko_type'] = 'duration'\n",
    "\n",
    "df[['renko_reversal', 'renko_trend']] = pd.get_dummies(df.renko_type, drop_first=True)"
   ]
  },
  {
   "cell_type": "code",
   "execution_count": 111,
   "metadata": {
    "collapsed": true,
    "execution": {
     "iopub.execute_input": "2021-09-23T18:19:10.821192Z",
     "iopub.status.busy": "2021-09-23T18:19:10.820702Z",
     "iopub.status.idle": "2021-09-23T18:19:12.067908Z",
     "shell.execute_reply": "2021-09-23T18:19:12.062929Z",
     "shell.execute_reply.started": "2021-09-23T18:19:10.821144Z"
    },
    "jupyter": {
     "outputs_hidden": true
    },
    "tags": []
   },
   "outputs": [
    {
     "data": {
      "text/html": [
       "<div>\n",
       "<style scoped>\n",
       "    .dataframe tbody tr th:only-of-type {\n",
       "        vertical-align: middle;\n",
       "    }\n",
       "\n",
       "    .dataframe tbody tr th {\n",
       "        vertical-align: top;\n",
       "    }\n",
       "\n",
       "    .dataframe thead th {\n",
       "        text-align: right;\n",
       "    }\n",
       "</style>\n",
       "<table border=\"1\" class=\"dataframe\">\n",
       "  <thead>\n",
       "    <tr style=\"text-align: right;\">\n",
       "      <th></th>\n",
       "      <th>bar_trigger</th>\n",
       "      <th>open_at</th>\n",
       "      <th>close_at</th>\n",
       "      <th>duration_td</th>\n",
       "      <th>tick_count</th>\n",
       "      <th>volume</th>\n",
       "      <th>dollars</th>\n",
       "      <th>tick_imbalance</th>\n",
       "      <th>volume_imbalance</th>\n",
       "      <th>price_high</th>\n",
       "      <th>price_low</th>\n",
       "      <th>price_open</th>\n",
       "      <th>price_close</th>\n",
       "      <th>price_range</th>\n",
       "      <th>price_return</th>\n",
       "      <th>price_vwap</th>\n",
       "      <th>price_wq05</th>\n",
       "      <th>price_wq25</th>\n",
       "      <th>price_wq50</th>\n",
       "      <th>price_wq75</th>\n",
       "      <th>price_wq95</th>\n",
       "      <th>label_side</th>\n",
       "      <th>label_outcome</th>\n",
       "      <th>label_rrr</th>\n",
       "      <th>label_outcome_at</th>\n",
       "      <th>label_start_at</th>\n",
       "      <th>label_end_at</th>\n",
       "      <th>symbol</th>\n",
       "      <th>date</th>\n",
       "      <th>config_id</th>\n",
       "      <th>renko_size</th>\n",
       "      <th>duration_10s</th>\n",
       "      <th>wiqr</th>\n",
       "      <th>close_min_in_day</th>\n",
       "      <th>renko_type</th>\n",
       "      <th>price_return_jma55</th>\n",
       "    </tr>\n",
       "  </thead>\n",
       "  <tbody>\n",
       "    <tr>\n",
       "      <th>0</th>\n",
       "      <td>renko_up</td>\n",
       "      <td>2019-01-02 09:30:00.131921-05:00</td>\n",
       "      <td>2019-01-02 09:34:46.704074-05:00</td>\n",
       "      <td>0 days 00:04:46.572153</td>\n",
       "      <td>983</td>\n",
       "      <td>334455</td>\n",
       "      <td>40588422.436127</td>\n",
       "      <td>129</td>\n",
       "      <td>176413</td>\n",
       "      <td>121.430000</td>\n",
       "      <td>121.310097</td>\n",
       "      <td>121.349998</td>\n",
       "      <td>121.430000</td>\n",
       "      <td>0.119904</td>\n",
       "      <td>0.080002</td>\n",
       "      <td>121.356901</td>\n",
       "      <td>121.339500</td>\n",
       "      <td>121.349998</td>\n",
       "      <td>121.349998</td>\n",
       "      <td>121.360001</td>\n",
       "      <td>121.400002</td>\n",
       "      <td>short</td>\n",
       "      <td>profit</td>\n",
       "      <td>-2.000000</td>\n",
       "      <td>2019-01-02 09:51:04.624883-05:00</td>\n",
       "      <td>2019-01-02 09:34:46.704074-05:00</td>\n",
       "      <td>2019-01-02 10:07:46.704074-05:00</td>\n",
       "      <td>GLD</td>\n",
       "      <td>2019-01-02</td>\n",
       "      <td>renko_v2</td>\n",
       "      <td>0.083822</td>\n",
       "      <td>29.000000</td>\n",
       "      <td>0.060501</td>\n",
       "      <td>574</td>\n",
       "      <td>renko_reversal</td>\n",
       "      <td>NaN</td>\n",
       "    </tr>\n",
       "    <tr>\n",
       "      <th>1</th>\n",
       "      <td>duration</td>\n",
       "      <td>2019-01-02 09:34:46.704176-05:00</td>\n",
       "      <td>2019-01-02 10:07:48.145198-05:00</td>\n",
       "      <td>0 days 00:33:01.441022</td>\n",
       "      <td>5100</td>\n",
       "      <td>1061484</td>\n",
       "      <td>128845780.745354</td>\n",
       "      <td>-230</td>\n",
       "      <td>-139828</td>\n",
       "      <td>121.480003</td>\n",
       "      <td>121.262497</td>\n",
       "      <td>121.430000</td>\n",
       "      <td>121.440002</td>\n",
       "      <td>0.217506</td>\n",
       "      <td>0.010002</td>\n",
       "      <td>121.382688</td>\n",
       "      <td>121.285004</td>\n",
       "      <td>121.330002</td>\n",
       "      <td>121.389999</td>\n",
       "      <td>121.435501</td>\n",
       "      <td>121.459999</td>\n",
       "      <td>long</td>\n",
       "      <td>profit</td>\n",
       "      <td>2.500000</td>\n",
       "      <td>2019-01-02 10:34:36.104698-05:00</td>\n",
       "      <td>2019-01-02 10:07:48.145198-05:00</td>\n",
       "      <td>2019-01-02 10:40:48.145198-05:00</td>\n",
       "      <td>GLD</td>\n",
       "      <td>2019-01-02</td>\n",
       "      <td>renko_v2</td>\n",
       "      <td>0.083822</td>\n",
       "      <td>198.000000</td>\n",
       "      <td>0.174995</td>\n",
       "      <td>607</td>\n",
       "      <td>renko_reversal</td>\n",
       "      <td>NaN</td>\n",
       "    </tr>\n",
       "    <tr>\n",
       "      <th>2</th>\n",
       "      <td>renko_up</td>\n",
       "      <td>2019-01-02 10:07:50.011431-05:00</td>\n",
       "      <td>2019-01-02 10:08:46.692614-05:00</td>\n",
       "      <td>0 days 00:00:56.681183</td>\n",
       "      <td>507</td>\n",
       "      <td>119142</td>\n",
       "      <td>14474032.090485</td>\n",
       "      <td>81</td>\n",
       "      <td>23112</td>\n",
       "      <td>121.529999</td>\n",
       "      <td>121.440002</td>\n",
       "      <td>121.440002</td>\n",
       "      <td>121.529999</td>\n",
       "      <td>0.089996</td>\n",
       "      <td>0.089996</td>\n",
       "      <td>121.485556</td>\n",
       "      <td>121.449997</td>\n",
       "      <td>121.470001</td>\n",
       "      <td>121.480003</td>\n",
       "      <td>121.510002</td>\n",
       "      <td>121.519997</td>\n",
       "      <td>neutral</td>\n",
       "      <td>neutral</td>\n",
       "      <td>0.000000</td>\n",
       "      <td>2019-01-02 10:34:16.619297-05:00</td>\n",
       "      <td>2019-01-02 10:08:46.692614-05:00</td>\n",
       "      <td>2019-01-02 10:41:46.692614-05:00</td>\n",
       "      <td>GLD</td>\n",
       "      <td>2019-01-02</td>\n",
       "      <td>renko_v2</td>\n",
       "      <td>0.083822</td>\n",
       "      <td>6.000000</td>\n",
       "      <td>0.070000</td>\n",
       "      <td>608</td>\n",
       "      <td>duration</td>\n",
       "      <td>NaN</td>\n",
       "    </tr>\n",
       "    <tr>\n",
       "      <th>3</th>\n",
       "      <td>renko_up</td>\n",
       "      <td>2019-01-02 10:08:46.692640-05:00</td>\n",
       "      <td>2019-01-02 10:15:31.824610-05:00</td>\n",
       "      <td>0 days 00:06:45.131970</td>\n",
       "      <td>1025</td>\n",
       "      <td>194440</td>\n",
       "      <td>23619217.213989</td>\n",
       "      <td>-57</td>\n",
       "      <td>-23746</td>\n",
       "      <td>121.620003</td>\n",
       "      <td>121.370003</td>\n",
       "      <td>121.529999</td>\n",
       "      <td>121.620003</td>\n",
       "      <td>0.250000</td>\n",
       "      <td>0.090004</td>\n",
       "      <td>121.473036</td>\n",
       "      <td>121.379997</td>\n",
       "      <td>121.415001</td>\n",
       "      <td>121.480003</td>\n",
       "      <td>121.519997</td>\n",
       "      <td>121.580002</td>\n",
       "      <td>neutral</td>\n",
       "      <td>neutral</td>\n",
       "      <td>0.000000</td>\n",
       "      <td>2019-01-02 10:35:40.518385-05:00</td>\n",
       "      <td>2019-01-02 10:15:31.824610-05:00</td>\n",
       "      <td>2019-01-02 10:48:31.824610-05:00</td>\n",
       "      <td>GLD</td>\n",
       "      <td>2019-01-02</td>\n",
       "      <td>renko_v2</td>\n",
       "      <td>0.083822</td>\n",
       "      <td>41.000000</td>\n",
       "      <td>0.200005</td>\n",
       "      <td>615</td>\n",
       "      <td>renko_trend</td>\n",
       "      <td>NaN</td>\n",
       "    </tr>\n",
       "    <tr>\n",
       "      <th>4</th>\n",
       "      <td>duration</td>\n",
       "      <td>2019-01-02 10:15:32.138740-05:00</td>\n",
       "      <td>2019-01-02 10:48:35.289868-05:00</td>\n",
       "      <td>0 days 00:33:03.151128</td>\n",
       "      <td>4163</td>\n",
       "      <td>781511</td>\n",
       "      <td>95013515.768280</td>\n",
       "      <td>63</td>\n",
       "      <td>26667</td>\n",
       "      <td>121.690002</td>\n",
       "      <td>121.470001</td>\n",
       "      <td>121.610001</td>\n",
       "      <td>121.620003</td>\n",
       "      <td>0.220001</td>\n",
       "      <td>0.010002</td>\n",
       "      <td>121.576684</td>\n",
       "      <td>121.500000</td>\n",
       "      <td>121.529999</td>\n",
       "      <td>121.550003</td>\n",
       "      <td>121.639999</td>\n",
       "      <td>121.669998</td>\n",
       "      <td>neutral</td>\n",
       "      <td>neutral</td>\n",
       "      <td>0.000000</td>\n",
       "      <td>2019-01-02 11:21:35.289868-05:00</td>\n",
       "      <td>2019-01-02 10:48:35.289868-05:00</td>\n",
       "      <td>2019-01-02 11:21:35.289868-05:00</td>\n",
       "      <td>GLD</td>\n",
       "      <td>2019-01-02</td>\n",
       "      <td>renko_v2</td>\n",
       "      <td>0.083822</td>\n",
       "      <td>198.000000</td>\n",
       "      <td>0.169998</td>\n",
       "      <td>648</td>\n",
       "      <td>renko_reversal</td>\n",
       "      <td>NaN</td>\n",
       "    </tr>\n",
       "    <tr>\n",
       "      <th>...</th>\n",
       "      <td>...</td>\n",
       "      <td>...</td>\n",
       "      <td>...</td>\n",
       "      <td>...</td>\n",
       "      <td>...</td>\n",
       "      <td>...</td>\n",
       "      <td>...</td>\n",
       "      <td>...</td>\n",
       "      <td>...</td>\n",
       "      <td>...</td>\n",
       "      <td>...</td>\n",
       "      <td>...</td>\n",
       "      <td>...</td>\n",
       "      <td>...</td>\n",
       "      <td>...</td>\n",
       "      <td>...</td>\n",
       "      <td>...</td>\n",
       "      <td>...</td>\n",
       "      <td>...</td>\n",
       "      <td>...</td>\n",
       "      <td>...</td>\n",
       "      <td>...</td>\n",
       "      <td>...</td>\n",
       "      <td>...</td>\n",
       "      <td>...</td>\n",
       "      <td>...</td>\n",
       "      <td>...</td>\n",
       "      <td>...</td>\n",
       "      <td>...</td>\n",
       "      <td>...</td>\n",
       "      <td>...</td>\n",
       "      <td>...</td>\n",
       "      <td>...</td>\n",
       "      <td>...</td>\n",
       "      <td>...</td>\n",
       "      <td>...</td>\n",
       "    </tr>\n",
       "    <tr>\n",
       "      <th>17394</th>\n",
       "      <td>renko_up</td>\n",
       "      <td>2021-01-28 14:14:37.985949440-05:00</td>\n",
       "      <td>2021-01-28 14:26:56.701402112-05:00</td>\n",
       "      <td>0 days 00:12:18.715452672</td>\n",
       "      <td>978</td>\n",
       "      <td>124120</td>\n",
       "      <td>21458853.891617</td>\n",
       "      <td>138</td>\n",
       "      <td>41168</td>\n",
       "      <td>172.960007</td>\n",
       "      <td>172.780106</td>\n",
       "      <td>172.839996</td>\n",
       "      <td>172.960007</td>\n",
       "      <td>0.179901</td>\n",
       "      <td>0.120010</td>\n",
       "      <td>172.887962</td>\n",
       "      <td>172.809998</td>\n",
       "      <td>172.869995</td>\n",
       "      <td>172.899994</td>\n",
       "      <td>172.919998</td>\n",
       "      <td>172.929993</td>\n",
       "      <td>short</td>\n",
       "      <td>profit</td>\n",
       "      <td>-2.000000</td>\n",
       "      <td>2021-01-28 14:34:58.088518912-05:00</td>\n",
       "      <td>2021-01-28 14:26:56.701402112-05:00</td>\n",
       "      <td>2021-01-28 14:59:56.701402112-05:00</td>\n",
       "      <td>GLD</td>\n",
       "      <td>2021-01-28</td>\n",
       "      <td>renko_v2</td>\n",
       "      <td>0.121712</td>\n",
       "      <td>74.000000</td>\n",
       "      <td>0.119995</td>\n",
       "      <td>866</td>\n",
       "      <td>renko_trend</td>\n",
       "      <td>-0.035020</td>\n",
       "    </tr>\n",
       "    <tr>\n",
       "      <th>17395</th>\n",
       "      <td>renko_down</td>\n",
       "      <td>2021-01-28 14:27:01.013269248-05:00</td>\n",
       "      <td>2021-01-28 14:34:58.088523776-05:00</td>\n",
       "      <td>0 days 00:07:57.075254528</td>\n",
       "      <td>1462</td>\n",
       "      <td>188245</td>\n",
       "      <td>32542210.181442</td>\n",
       "      <td>-176</td>\n",
       "      <td>-6969</td>\n",
       "      <td>173.000000</td>\n",
       "      <td>172.710007</td>\n",
       "      <td>172.955002</td>\n",
       "      <td>172.710007</td>\n",
       "      <td>0.289993</td>\n",
       "      <td>-0.244995</td>\n",
       "      <td>172.871578</td>\n",
       "      <td>172.740005</td>\n",
       "      <td>172.789993</td>\n",
       "      <td>172.880005</td>\n",
       "      <td>172.960007</td>\n",
       "      <td>172.979996</td>\n",
       "      <td>long</td>\n",
       "      <td>profit</td>\n",
       "      <td>2.000000</td>\n",
       "      <td>2021-01-28 15:01:32.549214464-05:00</td>\n",
       "      <td>2021-01-28 14:34:58.088523776-05:00</td>\n",
       "      <td>2021-01-28 15:07:58.088523776-05:00</td>\n",
       "      <td>GLD</td>\n",
       "      <td>2021-01-28</td>\n",
       "      <td>renko_v2</td>\n",
       "      <td>0.121712</td>\n",
       "      <td>48.000000</td>\n",
       "      <td>0.239990</td>\n",
       "      <td>874</td>\n",
       "      <td>renko_reversal</td>\n",
       "      <td>-0.035627</td>\n",
       "    </tr>\n",
       "    <tr>\n",
       "      <th>17396</th>\n",
       "      <td>renko_up</td>\n",
       "      <td>2021-01-28 14:34:58.088523776-05:00</td>\n",
       "      <td>2021-01-28 15:01:41.155846656-05:00</td>\n",
       "      <td>0 days 00:26:43.067322880</td>\n",
       "      <td>3259</td>\n",
       "      <td>455799</td>\n",
       "      <td>78760666.122864</td>\n",
       "      <td>49</td>\n",
       "      <td>11983</td>\n",
       "      <td>172.960007</td>\n",
       "      <td>172.669998</td>\n",
       "      <td>172.710007</td>\n",
       "      <td>172.960007</td>\n",
       "      <td>0.290009</td>\n",
       "      <td>0.250000</td>\n",
       "      <td>172.796926</td>\n",
       "      <td>172.720001</td>\n",
       "      <td>172.750000</td>\n",
       "      <td>172.800003</td>\n",
       "      <td>172.839996</td>\n",
       "      <td>172.889603</td>\n",
       "      <td>short</td>\n",
       "      <td>profit</td>\n",
       "      <td>-2.500000</td>\n",
       "      <td>2021-01-28 15:33:05.843763200-05:00</td>\n",
       "      <td>2021-01-28 15:01:41.155846656-05:00</td>\n",
       "      <td>2021-01-28 15:34:41.155846656-05:00</td>\n",
       "      <td>GLD</td>\n",
       "      <td>2021-01-28</td>\n",
       "      <td>renko_v2</td>\n",
       "      <td>0.121712</td>\n",
       "      <td>160.000000</td>\n",
       "      <td>0.169601</td>\n",
       "      <td>901</td>\n",
       "      <td>renko_reversal</td>\n",
       "      <td>-0.035959</td>\n",
       "    </tr>\n",
       "    <tr>\n",
       "      <th>17397</th>\n",
       "      <td>renko_down</td>\n",
       "      <td>2021-01-28 15:01:41.296676608-05:00</td>\n",
       "      <td>2021-01-28 15:12:03.711288064-05:00</td>\n",
       "      <td>0 days 00:10:22.414611456</td>\n",
       "      <td>2537</td>\n",
       "      <td>335550</td>\n",
       "      <td>57992792.296890</td>\n",
       "      <td>117</td>\n",
       "      <td>43536</td>\n",
       "      <td>172.970001</td>\n",
       "      <td>172.710007</td>\n",
       "      <td>172.970001</td>\n",
       "      <td>172.710007</td>\n",
       "      <td>0.259995</td>\n",
       "      <td>-0.259995</td>\n",
       "      <td>172.829064</td>\n",
       "      <td>172.770004</td>\n",
       "      <td>172.800003</td>\n",
       "      <td>172.820007</td>\n",
       "      <td>172.869995</td>\n",
       "      <td>172.889999</td>\n",
       "      <td>neutral</td>\n",
       "      <td>neutral</td>\n",
       "      <td>0.000000</td>\n",
       "      <td>2021-01-28 15:40:23.319988224-05:00</td>\n",
       "      <td>2021-01-28 15:12:03.711288064-05:00</td>\n",
       "      <td>2021-01-28 15:45:03.711288064-05:00</td>\n",
       "      <td>GLD</td>\n",
       "      <td>2021-01-28</td>\n",
       "      <td>renko_v2</td>\n",
       "      <td>0.121712</td>\n",
       "      <td>62.000000</td>\n",
       "      <td>0.119995</td>\n",
       "      <td>912</td>\n",
       "      <td>renko_reversal</td>\n",
       "      <td>-0.036167</td>\n",
       "    </tr>\n",
       "    <tr>\n",
       "      <th>17398</th>\n",
       "      <td>duration</td>\n",
       "      <td>2021-01-28 15:12:03.711298048-05:00</td>\n",
       "      <td>2021-01-28 15:45:05.072281344-05:00</td>\n",
       "      <td>0 days 00:33:01.360983296</td>\n",
       "      <td>4298</td>\n",
       "      <td>459025</td>\n",
       "      <td>79287939.100616</td>\n",
       "      <td>16</td>\n",
       "      <td>12747</td>\n",
       "      <td>172.889893</td>\n",
       "      <td>172.600006</td>\n",
       "      <td>172.710007</td>\n",
       "      <td>172.750000</td>\n",
       "      <td>0.289886</td>\n",
       "      <td>0.039993</td>\n",
       "      <td>172.731200</td>\n",
       "      <td>172.637497</td>\n",
       "      <td>172.690002</td>\n",
       "      <td>172.729996</td>\n",
       "      <td>172.759995</td>\n",
       "      <td>172.839996</td>\n",
       "      <td>neutral</td>\n",
       "      <td>neutral</td>\n",
       "      <td>0.000000</td>\n",
       "      <td>2021-01-28 16:18:05.072281344-05:00</td>\n",
       "      <td>2021-01-28 15:45:05.072281344-05:00</td>\n",
       "      <td>2021-01-28 16:18:05.072281344-05:00</td>\n",
       "      <td>GLD</td>\n",
       "      <td>2021-01-28</td>\n",
       "      <td>renko_v2</td>\n",
       "      <td>0.121712</td>\n",
       "      <td>198.000000</td>\n",
       "      <td>0.202499</td>\n",
       "      <td>945</td>\n",
       "      <td>renko_reversal</td>\n",
       "      <td>-0.036241</td>\n",
       "    </tr>\n",
       "  </tbody>\n",
       "</table>\n",
       "<p>17399 rows × 36 columns</p>\n",
       "</div>"
      ],
      "text/plain": [
       "      bar_trigger                             open_at  \\\n",
       "0        renko_up    2019-01-02 09:30:00.131921-05:00   \n",
       "1        duration    2019-01-02 09:34:46.704176-05:00   \n",
       "2        renko_up    2019-01-02 10:07:50.011431-05:00   \n",
       "3        renko_up    2019-01-02 10:08:46.692640-05:00   \n",
       "4        duration    2019-01-02 10:15:32.138740-05:00   \n",
       "...           ...                                 ...   \n",
       "17394    renko_up 2021-01-28 14:14:37.985949440-05:00   \n",
       "17395  renko_down 2021-01-28 14:27:01.013269248-05:00   \n",
       "17396    renko_up 2021-01-28 14:34:58.088523776-05:00   \n",
       "17397  renko_down 2021-01-28 15:01:41.296676608-05:00   \n",
       "17398    duration 2021-01-28 15:12:03.711298048-05:00   \n",
       "\n",
       "                                 close_at               duration_td  \\\n",
       "0        2019-01-02 09:34:46.704074-05:00    0 days 00:04:46.572153   \n",
       "1        2019-01-02 10:07:48.145198-05:00    0 days 00:33:01.441022   \n",
       "2        2019-01-02 10:08:46.692614-05:00    0 days 00:00:56.681183   \n",
       "3        2019-01-02 10:15:31.824610-05:00    0 days 00:06:45.131970   \n",
       "4        2019-01-02 10:48:35.289868-05:00    0 days 00:33:03.151128   \n",
       "...                                   ...                       ...   \n",
       "17394 2021-01-28 14:26:56.701402112-05:00 0 days 00:12:18.715452672   \n",
       "17395 2021-01-28 14:34:58.088523776-05:00 0 days 00:07:57.075254528   \n",
       "17396 2021-01-28 15:01:41.155846656-05:00 0 days 00:26:43.067322880   \n",
       "17397 2021-01-28 15:12:03.711288064-05:00 0 days 00:10:22.414611456   \n",
       "17398 2021-01-28 15:45:05.072281344-05:00 0 days 00:33:01.360983296   \n",
       "\n",
       "       tick_count   volume          dollars  tick_imbalance  volume_imbalance  \\\n",
       "0             983   334455  40588422.436127             129            176413   \n",
       "1            5100  1061484 128845780.745354            -230           -139828   \n",
       "2             507   119142  14474032.090485              81             23112   \n",
       "3            1025   194440  23619217.213989             -57            -23746   \n",
       "4            4163   781511  95013515.768280              63             26667   \n",
       "...           ...      ...              ...             ...               ...   \n",
       "17394         978   124120  21458853.891617             138             41168   \n",
       "17395        1462   188245  32542210.181442            -176             -6969   \n",
       "17396        3259   455799  78760666.122864              49             11983   \n",
       "17397        2537   335550  57992792.296890             117             43536   \n",
       "17398        4298   459025  79287939.100616              16             12747   \n",
       "\n",
       "       price_high  price_low  price_open  price_close  price_range  \\\n",
       "0      121.430000 121.310097  121.349998   121.430000     0.119904   \n",
       "1      121.480003 121.262497  121.430000   121.440002     0.217506   \n",
       "2      121.529999 121.440002  121.440002   121.529999     0.089996   \n",
       "3      121.620003 121.370003  121.529999   121.620003     0.250000   \n",
       "4      121.690002 121.470001  121.610001   121.620003     0.220001   \n",
       "...           ...        ...         ...          ...          ...   \n",
       "17394  172.960007 172.780106  172.839996   172.960007     0.179901   \n",
       "17395  173.000000 172.710007  172.955002   172.710007     0.289993   \n",
       "17396  172.960007 172.669998  172.710007   172.960007     0.290009   \n",
       "17397  172.970001 172.710007  172.970001   172.710007     0.259995   \n",
       "17398  172.889893 172.600006  172.710007   172.750000     0.289886   \n",
       "\n",
       "       price_return  price_vwap  price_wq05  price_wq25  price_wq50  \\\n",
       "0          0.080002  121.356901  121.339500  121.349998  121.349998   \n",
       "1          0.010002  121.382688  121.285004  121.330002  121.389999   \n",
       "2          0.089996  121.485556  121.449997  121.470001  121.480003   \n",
       "3          0.090004  121.473036  121.379997  121.415001  121.480003   \n",
       "4          0.010002  121.576684  121.500000  121.529999  121.550003   \n",
       "...             ...         ...         ...         ...         ...   \n",
       "17394      0.120010  172.887962  172.809998  172.869995  172.899994   \n",
       "17395     -0.244995  172.871578  172.740005  172.789993  172.880005   \n",
       "17396      0.250000  172.796926  172.720001  172.750000  172.800003   \n",
       "17397     -0.259995  172.829064  172.770004  172.800003  172.820007   \n",
       "17398      0.039993  172.731200  172.637497  172.690002  172.729996   \n",
       "\n",
       "       price_wq75  price_wq95 label_side label_outcome  label_rrr  \\\n",
       "0      121.360001  121.400002      short        profit  -2.000000   \n",
       "1      121.435501  121.459999       long        profit   2.500000   \n",
       "2      121.510002  121.519997    neutral       neutral   0.000000   \n",
       "3      121.519997  121.580002    neutral       neutral   0.000000   \n",
       "4      121.639999  121.669998    neutral       neutral   0.000000   \n",
       "...           ...         ...        ...           ...        ...   \n",
       "17394  172.919998  172.929993      short        profit  -2.000000   \n",
       "17395  172.960007  172.979996       long        profit   2.000000   \n",
       "17396  172.839996  172.889603      short        profit  -2.500000   \n",
       "17397  172.869995  172.889999    neutral       neutral   0.000000   \n",
       "17398  172.759995  172.839996    neutral       neutral   0.000000   \n",
       "\n",
       "                         label_outcome_at                      label_start_at  \\\n",
       "0        2019-01-02 09:51:04.624883-05:00    2019-01-02 09:34:46.704074-05:00   \n",
       "1        2019-01-02 10:34:36.104698-05:00    2019-01-02 10:07:48.145198-05:00   \n",
       "2        2019-01-02 10:34:16.619297-05:00    2019-01-02 10:08:46.692614-05:00   \n",
       "3        2019-01-02 10:35:40.518385-05:00    2019-01-02 10:15:31.824610-05:00   \n",
       "4        2019-01-02 11:21:35.289868-05:00    2019-01-02 10:48:35.289868-05:00   \n",
       "...                                   ...                                 ...   \n",
       "17394 2021-01-28 14:34:58.088518912-05:00 2021-01-28 14:26:56.701402112-05:00   \n",
       "17395 2021-01-28 15:01:32.549214464-05:00 2021-01-28 14:34:58.088523776-05:00   \n",
       "17396 2021-01-28 15:33:05.843763200-05:00 2021-01-28 15:01:41.155846656-05:00   \n",
       "17397 2021-01-28 15:40:23.319988224-05:00 2021-01-28 15:12:03.711288064-05:00   \n",
       "17398 2021-01-28 16:18:05.072281344-05:00 2021-01-28 15:45:05.072281344-05:00   \n",
       "\n",
       "                             label_end_at symbol        date config_id  \\\n",
       "0        2019-01-02 10:07:46.704074-05:00    GLD  2019-01-02  renko_v2   \n",
       "1        2019-01-02 10:40:48.145198-05:00    GLD  2019-01-02  renko_v2   \n",
       "2        2019-01-02 10:41:46.692614-05:00    GLD  2019-01-02  renko_v2   \n",
       "3        2019-01-02 10:48:31.824610-05:00    GLD  2019-01-02  renko_v2   \n",
       "4        2019-01-02 11:21:35.289868-05:00    GLD  2019-01-02  renko_v2   \n",
       "...                                   ...    ...         ...       ...   \n",
       "17394 2021-01-28 14:59:56.701402112-05:00    GLD  2021-01-28  renko_v2   \n",
       "17395 2021-01-28 15:07:58.088523776-05:00    GLD  2021-01-28  renko_v2   \n",
       "17396 2021-01-28 15:34:41.155846656-05:00    GLD  2021-01-28  renko_v2   \n",
       "17397 2021-01-28 15:45:03.711288064-05:00    GLD  2021-01-28  renko_v2   \n",
       "17398 2021-01-28 16:18:05.072281344-05:00    GLD  2021-01-28  renko_v2   \n",
       "\n",
       "       renko_size  duration_10s     wiqr  close_min_in_day      renko_type  \\\n",
       "0        0.083822     29.000000 0.060501               574  renko_reversal   \n",
       "1        0.083822    198.000000 0.174995               607  renko_reversal   \n",
       "2        0.083822      6.000000 0.070000               608        duration   \n",
       "3        0.083822     41.000000 0.200005               615     renko_trend   \n",
       "4        0.083822    198.000000 0.169998               648  renko_reversal   \n",
       "...           ...           ...      ...               ...             ...   \n",
       "17394    0.121712     74.000000 0.119995               866     renko_trend   \n",
       "17395    0.121712     48.000000 0.239990               874  renko_reversal   \n",
       "17396    0.121712    160.000000 0.169601               901  renko_reversal   \n",
       "17397    0.121712     62.000000 0.119995               912  renko_reversal   \n",
       "17398    0.121712    198.000000 0.202499               945  renko_reversal   \n",
       "\n",
       "       price_return_jma55  \n",
       "0                     NaN  \n",
       "1                     NaN  \n",
       "2                     NaN  \n",
       "3                     NaN  \n",
       "4                     NaN  \n",
       "...                   ...  \n",
       "17394           -0.035020  \n",
       "17395           -0.035627  \n",
       "17396           -0.035959  \n",
       "17397           -0.036167  \n",
       "17398           -0.036241  \n",
       "\n",
       "[17399 rows x 36 columns]"
      ]
     },
     "execution_count": 111,
     "metadata": {},
     "output_type": "execute_result"
    }
   ],
   "source": [
    "plot_jma(df, 'price_return', 55)"
   ]
  },
  {
   "cell_type": "code",
   "execution_count": 115,
   "metadata": {
    "execution": {
     "iopub.execute_input": "2021-09-23T19:36:05.324739Z",
     "iopub.status.busy": "2021-09-23T19:36:05.324359Z",
     "iopub.status.idle": "2021-09-23T19:36:41.221445Z",
     "shell.execute_reply": "2021-09-23T19:36:41.214367Z",
     "shell.execute_reply.started": "2021-09-23T19:36:05.324705Z"
    }
   },
   "outputs": [
    {
     "name": "stdout",
     "output_type": "stream",
     "text": [
      "{'col': 'price_low', 'winlens': [5], 'fill_gap': True}\n",
      "{'col': 'price_high', 'winlens': [5], 'fill_gap': True}\n",
      "{'col': 'price_close', 'winlens': [5], 'fill_gap': True}\n",
      "{'col': 'price_vwap', 'winlens': [5, 50, 200, 500], 'fill_gap': True}\n",
      "{'col': 'tick_count', 'winlens': [5], 'fill_gap': False}\n",
      "{'col': 'dollars', 'winlens': [5], 'fill_gap': False}\n",
      "{'col': 'volume_imbalance', 'winlens': [5], 'fill_gap': False}\n",
      "{'col': 'duration_10s', 'winlens': [5], 'fill_gap': False}\n",
      "{'col': 'wiqr', 'winlens': [5], 'fill_gap': False}\n",
      "{'col': 'duration_10s', 'winlens': [5], 'fill_gap': False}\n"
     ]
    }
   ],
   "source": [
    "# filter & diff & resid bars/cols\n",
    "params = [\n",
    "    {'col': 'price_open', 'winlens': [5], 'fill_gap': True},\n",
    "    {'col': 'price_low', 'winlens': [5], 'fill_gap': True},\n",
    "    {'col': 'price_high', 'winlens': [5], 'fill_gap': True},\n",
    "    {'col': 'price_close', 'winlens': [5], 'fill_gap': True},\n",
    "    {'col': 'price_vwap', 'winlens': [5, 50, 200, 500], 'fill_gap': True},\n",
    "    {'col': 'tick_count', 'winlens': [5], 'fill_gap': False},\n",
    "    {'col': 'dollars', 'winlens': [5], 'fill_gap': False},\n",
    "    {'col': 'volume_imbalance', 'winlens': [5], 'fill_gap': False},\n",
    "    {'col': 'duration_10s', 'winlens': [5], 'fill_gap': False},\n",
    "    {'col': 'wiqr', 'winlens': [5], 'fill_gap': False},\n",
    "    {'col': 'duration_10s', 'winlens': [5], 'fill_gap': False},    \n",
    "]\n",
    "\n",
    "df2 = filter_cols(df, params)"
   ]
  },
  {
   "cell_type": "code",
   "execution_count": 137,
   "metadata": {
    "execution": {
     "iopub.execute_input": "2021-09-24T01:20:43.173335Z",
     "iopub.status.busy": "2021-09-24T01:20:43.172687Z",
     "iopub.status.idle": "2021-09-24T01:20:43.271029Z",
     "shell.execute_reply": "2021-09-24T01:20:43.269645Z",
     "shell.execute_reply.started": "2021-09-24T01:20:43.173297Z"
    },
    "tags": []
   },
   "outputs": [],
   "source": [
    "drop_cols = [\n",
    "    'bar_trigger',\n",
    "    'renko_type',\n",
    "    'open_at',\n",
    "    'close_at',\n",
    "    'duration_td',\n",
    "    'price_high',\n",
    "    'price_low',\n",
    "    'price_open',\n",
    "    'price_close',\n",
    "    'price_range',\n",
    "    'price_return',\n",
    "    'price_vwap',\n",
    "    'price_wq05',\n",
    "    'price_wq25',\n",
    "    'price_wq50',\n",
    "    'price_wq75',\n",
    "    'price_wq95',\n",
    "    'label_side',\n",
    "    'label_outcome',\n",
    "    'label_rrr',\n",
    "    'label_outcome_at',\n",
    "    'label_start_at',\n",
    "    'label_end_at',\n",
    "    'symbol',\n",
    "    'date',\n",
    "    'config_id',\n",
    "    'renko_size',\n",
    "    'price_low_jma5',\n",
    "    'price_high_jma5',\n",
    "    'price_close_jma5',\n",
    "    'price_vwap_jma5',\n",
    "    'price_vwap_jma50',\n",
    "    'price_vwap_jma200',\n",
    "    'price_vwap_jma500',\n",
    "    'tick_count_jma5',\n",
    "    'dollars_jma5',\n",
    "    'volume_imbalance_jma5',\n",
    "    'duration_10s_jma5',\n",
    "    'wiqr_jma5',\n",
    "    ]"
   ]
  },
  {
   "cell_type": "code",
   "execution_count": 128,
   "metadata": {
    "execution": {
     "iopub.execute_input": "2021-09-24T01:10:41.807456Z",
     "iopub.status.busy": "2021-09-24T01:10:41.806740Z",
     "iopub.status.idle": "2021-09-24T01:10:41.913441Z",
     "shell.execute_reply": "2021-09-24T01:10:41.912074Z",
     "shell.execute_reply.started": "2021-09-24T01:10:41.807418Z"
    },
    "tags": []
   },
   "outputs": [],
   "source": [
    "df3 = df2.drop(columns=drop_cols)"
   ]
  },
  {
   "cell_type": "code",
   "execution_count": 132,
   "metadata": {
    "execution": {
     "iopub.execute_input": "2021-09-24T01:17:41.398093Z",
     "iopub.status.busy": "2021-09-24T01:17:41.397689Z",
     "iopub.status.idle": "2021-09-24T01:17:41.580259Z",
     "shell.execute_reply": "2021-09-24T01:17:41.574496Z",
     "shell.execute_reply.started": "2021-09-24T01:17:41.398055Z"
    },
    "tags": []
   },
   "outputs": [
    {
     "data": {
      "text/html": [
       "<div>\n",
       "<style scoped>\n",
       "    .dataframe tbody tr th:only-of-type {\n",
       "        vertical-align: middle;\n",
       "    }\n",
       "\n",
       "    .dataframe tbody tr th {\n",
       "        vertical-align: top;\n",
       "    }\n",
       "\n",
       "    .dataframe thead th {\n",
       "        text-align: right;\n",
       "    }\n",
       "</style>\n",
       "<table border=\"1\" class=\"dataframe\">\n",
       "  <thead>\n",
       "    <tr style=\"text-align: right;\">\n",
       "      <th></th>\n",
       "      <th>renko_reversal</th>\n",
       "      <th>renko_trend</th>\n",
       "    </tr>\n",
       "  </thead>\n",
       "  <tbody>\n",
       "    <tr>\n",
       "      <th>0</th>\n",
       "      <td>1</td>\n",
       "      <td>0</td>\n",
       "    </tr>\n",
       "    <tr>\n",
       "      <th>1</th>\n",
       "      <td>1</td>\n",
       "      <td>0</td>\n",
       "    </tr>\n",
       "    <tr>\n",
       "      <th>2</th>\n",
       "      <td>0</td>\n",
       "      <td>0</td>\n",
       "    </tr>\n",
       "    <tr>\n",
       "      <th>3</th>\n",
       "      <td>0</td>\n",
       "      <td>1</td>\n",
       "    </tr>\n",
       "    <tr>\n",
       "      <th>4</th>\n",
       "      <td>1</td>\n",
       "      <td>0</td>\n",
       "    </tr>\n",
       "    <tr>\n",
       "      <th>...</th>\n",
       "      <td>...</td>\n",
       "      <td>...</td>\n",
       "    </tr>\n",
       "    <tr>\n",
       "      <th>24718</th>\n",
       "      <td>0</td>\n",
       "      <td>1</td>\n",
       "    </tr>\n",
       "    <tr>\n",
       "      <th>24719</th>\n",
       "      <td>1</td>\n",
       "      <td>0</td>\n",
       "    </tr>\n",
       "    <tr>\n",
       "      <th>24720</th>\n",
       "      <td>1</td>\n",
       "      <td>0</td>\n",
       "    </tr>\n",
       "    <tr>\n",
       "      <th>24721</th>\n",
       "      <td>1</td>\n",
       "      <td>0</td>\n",
       "    </tr>\n",
       "    <tr>\n",
       "      <th>24722</th>\n",
       "      <td>1</td>\n",
       "      <td>0</td>\n",
       "    </tr>\n",
       "  </tbody>\n",
       "</table>\n",
       "<p>17399 rows × 2 columns</p>\n",
       "</div>"
      ],
      "text/plain": [
       "       renko_reversal  renko_trend\n",
       "0                   1            0\n",
       "1                   1            0\n",
       "2                   0            0\n",
       "3                   0            1\n",
       "4                   1            0\n",
       "...               ...          ...\n",
       "24718               0            1\n",
       "24719               1            0\n",
       "24720               1            0\n",
       "24721               1            0\n",
       "24722               1            0\n",
       "\n",
       "[17399 rows x 2 columns]"
      ]
     },
     "execution_count": 132,
     "metadata": {},
     "output_type": "execute_result"
    }
   ],
   "source": [
    "pd.get_dummies(df3.renko_type, drop_first=True)"
   ]
  },
  {
   "cell_type": "code",
   "execution_count": 126,
   "metadata": {
    "execution": {
     "iopub.execute_input": "2021-09-24T01:08:05.845927Z",
     "iopub.status.busy": "2021-09-24T01:08:05.845386Z",
     "iopub.status.idle": "2021-09-24T01:08:06.048264Z",
     "shell.execute_reply": "2021-09-24T01:08:06.046160Z",
     "shell.execute_reply.started": "2021-09-24T01:08:05.845870Z"
    },
    "tags": []
   },
   "outputs": [
    {
     "data": {
      "text/plain": [
       "renko_trend       9043\n",
       "renko_reversal    5772\n",
       "duration          2584\n",
       "Name: renko_type, dtype: int64"
      ]
     },
     "execution_count": 126,
     "metadata": {},
     "output_type": "execute_result"
    }
   ],
   "source": [
    "train.renko_type.value_counts()"
   ]
  },
  {
   "cell_type": "markdown",
   "metadata": {
    "tags": []
   },
   "source": [
    "# Ray setup"
   ]
  },
  {
   "cell_type": "code",
   "execution_count": null,
   "metadata": {},
   "outputs": [],
   "source": [
    "ray.init(dashboard_host='0.0.0.0', dashboard_port=1111, ignore_reinit_error=True)"
   ]
  },
  {
   "cell_type": "code",
   "execution_count": null,
   "metadata": {},
   "outputs": [],
   "source": [
    "ray.shutdown()"
   ]
  },
  {
   "cell_type": "code",
   "execution_count": null,
   "metadata": {},
   "outputs": [],
   "source": [
    "all_symbols = data_access.list_sd_data(prefix='/bars/renko_v2/df', source='remote')"
   ]
  },
  {
   "cell_type": "code",
   "execution_count": null,
   "metadata": {},
   "outputs": [],
   "source": [
    "large_caps, mid_caps = syncbar_task.segment_symbols(\n",
    "    all_symbols, start_date='2019-01-01', end_date='2021-01-01'\n",
    ")"
   ]
  },
  {
   "cell_type": "code",
   "execution_count": null,
   "metadata": {},
   "outputs": [],
   "source": [
    "large_caps"
   ]
  },
  {
   "cell_type": "code",
   "execution_count": null,
   "metadata": {},
   "outputs": [],
   "source": [
    "mid_caps"
   ]
  },
  {
   "cell_type": "markdown",
   "metadata": {
    "tags": []
   },
   "source": [
    "# sync bars"
   ]
  },
  {
   "cell_type": "code",
   "execution_count": null,
   "metadata": {},
   "outputs": [],
   "source": [
    "config = {\n",
    "    'config_id': 'renko_v2',\n",
    "    'start_date': '2019-01-01',\n",
    "    'end_date': '2021-01-01',\n",
    "    'source': 'remote',\n",
    "    'destination': 'both',\n",
    "    'on_ray': True,\n",
    "}"
   ]
  },
  {
   "cell_type": "code",
   "execution_count": null,
   "metadata": {},
   "outputs": [],
   "source": [
    "syncbar_flow.run(config)"
   ]
  },
  {
   "cell_type": "markdown",
   "metadata": {
    "tags": []
   },
   "source": [
    "# Tick Sampler "
   ]
  },
  {
   "cell_type": "code",
   "execution_count": null,
   "metadata": {
    "scrolled": true
   },
   "outputs": [],
   "source": [
    "bds = sampler_flow.run(config)"
   ]
  },
  {
   "cell_type": "markdown",
   "metadata": {
    "execution": {
     "iopub.execute_input": "2021-06-19T05:01:49.049331Z",
     "iopub.status.busy": "2021-06-19T05:01:49.048773Z",
     "iopub.status.idle": "2021-06-19T05:01:49.172619Z",
     "shell.execute_reply": "2021-06-19T05:01:49.171495Z",
     "shell.execute_reply.started": "2021-06-19T05:01:49.049270Z"
    },
    "tags": []
   },
   "source": [
    "# fracdiff test"
   ]
  },
  {
   "cell_type": "code",
   "execution_count": null,
   "metadata": {},
   "outputs": [],
   "source": [
    "import statsmodels.tsa.stattools as stattools\n",
    "import fracdiff\n",
    "\n",
    "X = bdf.price_close.values.reshape(-1, 1)\n",
    "\n",
    "fs = fracdiff.FracdiffStat(mode=\"valid\")\n",
    "\n",
    "Xdiff = fs.fit_transform(X)\n",
    "\n",
    "_, pvalue, _, _, _, _ = stattools.adfuller(Xdiff)\n",
    "\n",
    "corr = np.corrcoef(X[-Xdiff.size :, 0], Xdiff.reshape(-1))[0][1]\n",
    "\n",
    "print(\"* Order: {:.2f}\".format(fs.d_[0]))\n",
    "print(\"* ADF p-value: {:.2f} %\".format(100 * pvalue))\n",
    "print(\"* Correlation with the original time-series: {:.2f}\".format(corr))\n",
    "\n",
    "spx = bdf.price_close\n",
    "\n",
    "import matplotlib.pyplot as plt\n",
    "\n",
    "spx_diff = pd.Series(Xdiff.reshape(-1), index=spx.index[-Xdiff.size :])\n",
    "\n",
    "fig, ax_s = plt.subplots(figsize=(24, 6))\n",
    "plt.title(\"S&P 500 and its differentiation preserving memory\")\n",
    "ax_d = ax_s.twinx()\n",
    "\n",
    "plot_s = ax_s.plot(spx, color=\"blue\", linewidth=4, label=\"S&P 500 (left)\")\n",
    "plot_d = ax_d.plot(\n",
    "    spx_diff,\n",
    "    color=\"orange\",\n",
    "    linewidth=4,\n",
    "    label=f\"S&P 500, {fs.d_[0]:.2f} th diff (right)\",\n",
    ")\n",
    "plots = plot_s + plot_d\n",
    "\n",
    "ax_s.legend(plots, [p.get_label() for p in plots], loc=0)\n",
    "plt.show()"
   ]
  }
 ],
 "metadata": {
  "kernelspec": {
   "display_name": "Python 3 (ipykernel)",
   "language": "python",
   "name": "python3"
  },
  "language_info": {
   "codemirror_mode": {
    "name": "ipython",
    "version": 3
   },
   "file_extension": ".py",
   "mimetype": "text/x-python",
   "name": "python",
   "nbconvert_exporter": "python",
   "pygments_lexer": "ipython3",
   "version": "3.9.7"
  },
  "toc-autonumbering": true,
  "toc-showcode": false,
  "toc-showmarkdowntxt": false,
  "toc-showtags": false,
  "varInspector": {
   "cols": {
    "lenName": 16,
    "lenType": 16,
    "lenVar": 40
   },
   "kernels_config": {
    "python": {
     "delete_cmd_postfix": "",
     "delete_cmd_prefix": "del ",
     "library": "var_list.py",
     "varRefreshCmd": "print(var_dic_list())"
    },
    "r": {
     "delete_cmd_postfix": ") ",
     "delete_cmd_prefix": "rm(",
     "library": "var_list.r",
     "varRefreshCmd": "cat(var_dic_list()) "
    }
   },
   "types_to_exclude": [
    "module",
    "function",
    "builtin_function_or_method",
    "instance",
    "_Feature"
   ],
   "window_display": false
  }
 },
 "nbformat": 4,
 "nbformat_minor": 4
}
