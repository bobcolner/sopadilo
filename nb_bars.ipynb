{
 "cells": [
  {
   "cell_type": "markdown",
   "metadata": {},
   "source": [
    "# Ray start/stop"
   ]
  },
  {
   "cell_type": "code",
   "execution_count": null,
   "metadata": {},
   "outputs": [],
   "source": [
    "ray.init(ignore_reinit_error=True)"
   ]
  },
  {
   "cell_type": "code",
   "execution_count": null,
   "metadata": {},
   "outputs": [],
   "source": [
    "import ray\n",
    "ray.shutdown()"
   ]
  },
  {
   "cell_type": "markdown",
   "metadata": {},
   "source": [
    "# Imports"
   ]
  },
  {
   "cell_type": "code",
   "execution_count": 1,
   "metadata": {
    "ExecuteTime": {
     "end_time": "2020-09-30T01:17:28.615776Z",
     "start_time": "2020-09-30T01:17:28.454787Z"
    },
    "execution": {
     "iopub.execute_input": "2021-05-19T19:39:35.498181Z",
     "iopub.status.busy": "2021-05-19T19:39:35.496102Z",
     "iopub.status.idle": "2021-05-19T19:39:37.331348Z",
     "shell.execute_reply": "2021-05-19T19:39:37.329157Z",
     "shell.execute_reply.started": "2021-05-19T19:39:35.498003Z"
    }
   },
   "outputs": [],
   "source": [
    "%load_ext autoreload\n",
    "%autoreload 2\n",
    "\n",
    "import datetime as dt\n",
    "import numpy as np\n",
    "import pandas as pd\n",
    "pd.set_option('float_format', '{:f}'.format)\n",
    "pd.set_option('display.max_rows', 40)\n",
    "pd.set_option('display.max_columns', 99)\n",
    "import pandas_bokeh\n",
    "pandas_bokeh.output_file(\"bokeh_output.html\")\n",
    "# import matplotlib.pyplot as plt\n",
    "import matplotlib as mpl\n",
    "from matplotlib import style\n",
    "style.use('fivethirtyeight')\n",
    "mpl.rcParams['figure.figsize'] = [20, 7]\n",
    "\n",
    "# import pdb; pdb.set_trace()\n",
    "# import pudb; pudb.set_trace()\n",
    "\n",
    "# .describe(include='all', datetime_is_numeric=True)\n",
    "# df.style.background_gradient(cmap='coolwarm', axis=None, vmin=-1, vmax=1)  # 'Blues', 'coolwarm', 'RdBu_r' & 'BrBG'\n",
    "# pd.set_option('precision', 2)\n",
    "# .plot_bokeh(sizing_mode=\"scale_height\")\n",
    "# .plot_bokeh(kind='hist', bins=1000, sizing_mode=\"scale_height\", xlim=[0, .1])"
   ]
  },
  {
   "cell_type": "markdown",
   "metadata": {},
   "source": [
    "# filter/batch trades"
   ]
  },
  {
   "cell_type": "code",
   "execution_count": 35,
   "metadata": {
    "execution": {
     "iopub.execute_input": "2021-05-19T19:52:31.766935Z",
     "iopub.status.busy": "2021-05-19T19:52:31.766206Z",
     "iopub.status.idle": "2021-05-19T19:52:31.973231Z",
     "shell.execute_reply": "2021-05-19T19:52:31.971090Z",
     "shell.execute_reply.started": "2021-05-19T19:52:31.766844Z"
    }
   },
   "outputs": [
    {
     "name": "stdout",
     "output_type": "stream",
     "text": [
      "VTI 2020-01-02 trying to get data from local file...\n"
     ]
    }
   ],
   "source": [
    "from data_model import s3_backend\n",
    "from bar_sampler import meta\n",
    "# get raw ticks\n",
    "tdf1 = s3_backend.fetch_date_df('VTI', '2020-01-02', tick_type='trades')"
   ]
  },
  {
   "cell_type": "code",
   "execution_count": 36,
   "metadata": {
    "execution": {
     "iopub.execute_input": "2021-05-19T19:52:36.937474Z",
     "iopub.status.busy": "2021-05-19T19:52:36.936874Z",
     "iopub.status.idle": "2021-05-19T19:52:37.242294Z",
     "shell.execute_reply": "2021-05-19T19:52:37.241019Z",
     "shell.execute_reply.started": "2021-05-19T19:52:36.937428Z"
    }
   },
   "outputs": [
    {
     "name": "stdout",
     "output_type": "stream",
     "text": [
      "False   0.995907\n",
      "True    0.004093\n",
      "Name: mad_outlier, dtype: float64\n"
     ]
    }
   ],
   "source": [
    "# filter ticks\n",
    "tdf2 = meta.filter_trades(tdf1)"
   ]
  },
  {
   "cell_type": "code",
   "execution_count": 54,
   "metadata": {
    "execution": {
     "iopub.execute_input": "2021-05-19T20:12:59.475553Z",
     "iopub.status.busy": "2021-05-19T20:12:59.474726Z",
     "iopub.status.idle": "2021-05-19T20:13:00.229880Z",
     "shell.execute_reply": "2021-05-19T20:13:00.228701Z",
     "shell.execute_reply.started": "2021-05-19T20:12:59.475493Z"
    }
   },
   "outputs": [],
   "source": [
    "# enrich ticks\n",
    "tdf3 = meta.enrich_tick(tdf2)"
   ]
  },
  {
   "cell_type": "code",
   "execution_count": 61,
   "metadata": {
    "execution": {
     "iopub.execute_input": "2021-05-19T20:13:58.366330Z",
     "iopub.status.busy": "2021-05-19T20:13:58.365939Z",
     "iopub.status.idle": "2021-05-19T20:13:58.551185Z",
     "shell.execute_reply": "2021-05-19T20:13:58.549477Z",
     "shell.execute_reply.started": "2021-05-19T20:13:58.366294Z"
    }
   },
   "outputs": [
    {
     "data": {
      "text/plain": [
       "clean                             30468\n",
       "filtered: irregular conditions      145\n",
       "filtered: MAD outlier               126\n",
       "filtered: ts diff                    44\n",
       "filtered: zero volume                 1\n",
       "Name: status, dtype: int64"
      ]
     },
     "execution_count": 61,
     "metadata": {},
     "output_type": "execute_result"
    }
   ],
   "source": [
    "tdf3.status.value_counts()"
   ]
  },
  {
   "cell_type": "code",
   "execution_count": null,
   "metadata": {},
   "outputs": [],
   "source": [
    "# tdf.set_index('nyc_dt').price.plot()\n",
    "\n",
    "# tdf[['price', 'price_jma']].plot_bokeh(sizing_mode=\"scale_height\")\n",
    "\n",
    "# bdf.volume.plot_bokeh(kind='hist', bins=1000, sizing_mode=\"scale_height\")\n",
    "\n",
    "tdf[tdf.mad_outlier==False].set_index('nyc_dt').price.plot()\n",
    "\n",
    "# (tdf.nyc_dt.shift(-20) - tdf.nyc_dt).describe(percentiles=[.8, .9, .99, .995])"
   ]
  },
  {
   "cell_type": "markdown",
   "metadata": {
    "execution": {
     "iopub.execute_input": "2021-01-06T05:21:59.623326Z",
     "iopub.status.busy": "2021-01-06T05:21:59.622898Z",
     "iopub.status.idle": "2021-01-06T05:21:59.777553Z",
     "shell.execute_reply": "2021-01-06T05:21:59.776253Z",
     "shell.execute_reply.started": "2021-01-06T05:21:59.623288Z"
    }
   },
   "source": [
    "# Sample tick dates"
   ]
  },
  {
   "cell_type": "code",
   "execution_count": 66,
   "metadata": {
    "execution": {
     "iopub.execute_input": "2021-05-19T20:18:58.650808Z",
     "iopub.status.busy": "2021-05-19T20:18:58.650384Z",
     "iopub.status.idle": "2021-05-19T20:18:58.790509Z",
     "shell.execute_reply": "2021-05-19T20:18:58.788728Z",
     "shell.execute_reply.started": "2021-05-19T20:18:58.650769Z"
    }
   },
   "outputs": [],
   "source": [
    "thresh = {\n",
    "    # meta params\n",
    "    'symbol': 'VTI',\n",
    "    'start_date': '2020-01-09',\n",
    "    'end_date': '2020-01-12',\n",
    "    # filter\n",
    "    'mad_value_winlen': 22,\n",
    "    'mad_deviation_winlen': 1111,\n",
    "    'mad_k': 11,\n",
    "    'jma_winlen': 7,\n",
    "    'jma_power': 2,\n",
    "    # time batcher\n",
    "    'batch_freq': '3s',\n",
    "    # bar sampler params\n",
    "    'renko_return': 'price_jma_return',\n",
    "    'renko_size': 0.1,\n",
    "    'renko_reveral_multiple': 2,\n",
    "    'renko_range_frac': 22,\n",
    "    'max_duration_td': dt.timedelta(minutes=33),\n",
    "    'min_duration_td': dt.timedelta(seconds=33),\n",
    "    'min_tick_count': 33,\n",
    "    # label params\n",
    "    'add_label': True,\n",
    "    'reward_ratios': list(np.arange(2, 11, 0.5)),\n",
    "}"
   ]
  },
  {
   "cell_type": "code",
   "execution_count": 5,
   "metadata": {
    "execution": {
     "iopub.execute_input": "2021-05-19T18:36:43.045508Z",
     "iopub.status.busy": "2021-05-19T18:36:43.045006Z",
     "iopub.status.idle": "2021-05-19T18:37:13.937620Z",
     "shell.execute_reply": "2021-05-19T18:37:13.936369Z",
     "shell.execute_reply.started": "2021-05-19T18:36:43.045461Z"
    }
   },
   "outputs": [
    {
     "name": "stdout",
     "output_type": "stream",
     "text": [
      "VTI 2020-01-02 trying to get data from local file...\n",
      "False   0.998945\n",
      "True    0.001055\n",
      "Name: mad_outlier, dtype: float64\n"
     ]
    },
    {
     "name": "stderr",
     "output_type": "stream",
     "text": [
      "100%|██████████| 7760/7760 [00:26<00:00, 289.70it/s]\n"
     ]
    }
   ],
   "source": [
    "from bar_sampler.meta import get_bar_date, get_bar_dates\n",
    "\n",
    "bd = get_bar_date(thresh, date='2020-01-02')\n",
    "# bds = get_bar_dates(thresh)"
   ]
  },
  {
   "cell_type": "code",
   "execution_count": 7,
   "metadata": {
    "execution": {
     "iopub.execute_input": "2021-05-19T03:29:05.430821Z",
     "iopub.status.busy": "2021-05-19T03:29:05.430112Z",
     "iopub.status.idle": "2021-05-19T03:29:05.563956Z",
     "shell.execute_reply": "2021-05-19T03:29:05.562290Z",
     "shell.execute_reply.started": "2021-05-19T03:29:05.430760Z"
    }
   },
   "outputs": [],
   "source": [
    "from utilities.pickle import pickle_dump, pickle_load\n",
    "\n",
    "# bds = pickle_load('/data_tmp/bds_v2.plk')\n",
    "\n",
    "# bds = pickle_dump('/data_tmp/bds_v2.plk')"
   ]
  },
  {
   "cell_type": "code",
   "execution_count": 111,
   "metadata": {
    "execution": {
     "iopub.execute_input": "2021-05-19T06:07:19.760223Z",
     "iopub.status.busy": "2021-05-19T06:07:19.759731Z",
     "iopub.status.idle": "2021-05-19T06:07:20.288181Z",
     "shell.execute_reply": "2021-05-19T06:07:20.282094Z",
     "shell.execute_reply.started": "2021-05-19T06:07:19.760180Z"
    }
   },
   "outputs": [
    {
     "name": "stdout",
     "output_type": "stream",
     "text": [
      "35\n",
      "neutral   0.714286\n",
      "profit    0.285714\n",
      "Name: label_outcome, dtype: float64\n"
     ]
    },
    {
     "data": {
      "text/plain": [
       "<AxesSubplot:>"
      ]
     },
     "execution_count": 111,
     "metadata": {},
     "output_type": "execute_result"
    },
    {
     "data": {
      "image/png": "[encoded data removed]",
      "text/plain": [
       "<Figure size 1440x504 with 1 Axes>"
      ]
     },
     "metadata": {},
     "output_type": "display_data"
    }
   ],
   "source": [
    "bars_df = bds[5]['bars_df']\n",
    "print(len(bars_df))\n",
    "print(bars_df.label_outcome.value_counts()/len(bars_df))\n",
    "bars_df.label_rrr.hist(bins=30)"
   ]
  },
  {
   "cell_type": "code",
   "execution_count": null,
   "metadata": {},
   "outputs": [],
   "source": [
    "bars_df[['price_high','price_low', 'price_vwap']].plot_bokeh(sizing_mode=\"scale_height\")"
   ]
  },
  {
   "cell_type": "code",
   "execution_count": 114,
   "metadata": {
    "execution": {
     "iopub.execute_input": "2021-05-19T06:14:09.116055Z",
     "iopub.status.busy": "2021-05-19T06:14:09.115556Z",
     "iopub.status.idle": "2021-05-19T06:14:09.283439Z",
     "shell.execute_reply": "2021-05-19T06:14:09.281664Z",
     "shell.execute_reply.started": "2021-05-19T06:14:09.116009Z"
    }
   },
   "outputs": [],
   "source": [
    "from bar_sampler.stacked import fill_gaps_dates, stacked_df_stats"
   ]
  },
  {
   "cell_type": "code",
   "execution_count": 107,
   "metadata": {
    "execution": {
     "iopub.execute_input": "2021-05-19T06:03:01.033219Z",
     "iopub.status.busy": "2021-05-19T06:03:01.031982Z",
     "iopub.status.idle": "2021-05-19T06:03:01.984840Z",
     "shell.execute_reply": "2021-05-19T06:03:01.982085Z",
     "shell.execute_reply.started": "2021-05-19T06:03:01.033138Z"
    }
   },
   "outputs": [
    {
     "data": {
      "text/html": [
       "<div style=\"display: table;\"><div style=\"display: table-row;\"><div style=\"display: table-cell;\"><b title=\"bokeh.plotting.figure.Figure\">Figure</b>(</div><div style=\"display: table-cell;\">id&nbsp;=&nbsp;'3352', <span id=\"3591\" style=\"cursor: pointer;\">&hellip;)</span></div></div><div class=\"3590\" style=\"display: none;\"><div style=\"display: table-cell;\"></div><div style=\"display: table-cell;\">above&nbsp;=&nbsp;[],</div></div><div class=\"3590\" style=\"display: none;\"><div style=\"display: table-cell;\"></div><div style=\"display: table-cell;\">align&nbsp;=&nbsp;'start',</div></div><div class=\"3590\" style=\"display: none;\"><div style=\"display: table-cell;\"></div><div style=\"display: table-cell;\">aspect_ratio&nbsp;=&nbsp;None,</div></div><div class=\"3590\" style=\"display: none;\"><div style=\"display: table-cell;\"></div><div style=\"display: table-cell;\">aspect_scale&nbsp;=&nbsp;1,</div></div><div class=\"3590\" style=\"display: none;\"><div style=\"display: table-cell;\"></div><div style=\"display: table-cell;\">background&nbsp;=&nbsp;None,</div></div><div class=\"3590\" style=\"display: none;\"><div style=\"display: table-cell;\"></div><div style=\"display: table-cell;\">background_fill_alpha&nbsp;=&nbsp;1.0,</div></div><div class=\"3590\" style=\"display: none;\"><div style=\"display: table-cell;\"></div><div style=\"display: table-cell;\">background_fill_color&nbsp;=&nbsp;'#ffffff',</div></div><div class=\"3590\" style=\"display: none;\"><div style=\"display: table-cell;\"></div><div style=\"display: table-cell;\">below&nbsp;=&nbsp;[LinearAxis(id='3363', ...)],</div></div><div class=\"3590\" style=\"display: none;\"><div style=\"display: table-cell;\"></div><div style=\"display: table-cell;\">border_fill_alpha&nbsp;=&nbsp;1.0,</div></div><div class=\"3590\" style=\"display: none;\"><div style=\"display: table-cell;\"></div><div style=\"display: table-cell;\">border_fill_color&nbsp;=&nbsp;'#ffffff',</div></div><div class=\"3590\" style=\"display: none;\"><div style=\"display: table-cell;\"></div><div style=\"display: table-cell;\">center&nbsp;=&nbsp;[Grid(id='3366', ...), Grid(id='3370', ...), Legend(id='3401', ...)],</div></div><div class=\"3590\" style=\"display: none;\"><div style=\"display: table-cell;\"></div><div style=\"display: table-cell;\">css_classes&nbsp;=&nbsp;[],</div></div><div class=\"3590\" style=\"display: none;\"><div style=\"display: table-cell;\"></div><div style=\"display: table-cell;\">disabled&nbsp;=&nbsp;False,</div></div><div class=\"3590\" style=\"display: none;\"><div style=\"display: table-cell;\"></div><div style=\"display: table-cell;\">extra_x_ranges&nbsp;=&nbsp;{},</div></div><div class=\"3590\" style=\"display: none;\"><div style=\"display: table-cell;\"></div><div style=\"display: table-cell;\">extra_y_ranges&nbsp;=&nbsp;{},</div></div><div class=\"3590\" style=\"display: none;\"><div style=\"display: table-cell;\"></div><div style=\"display: table-cell;\">frame_height&nbsp;=&nbsp;None,</div></div><div class=\"3590\" style=\"display: none;\"><div style=\"display: table-cell;\"></div><div style=\"display: table-cell;\">frame_width&nbsp;=&nbsp;None,</div></div><div class=\"3590\" style=\"display: none;\"><div style=\"display: table-cell;\"></div><div style=\"display: table-cell;\">height&nbsp;=&nbsp;400,</div></div><div class=\"3590\" style=\"display: none;\"><div style=\"display: table-cell;\"></div><div style=\"display: table-cell;\">height_policy&nbsp;=&nbsp;'auto',</div></div><div class=\"3590\" style=\"display: none;\"><div style=\"display: table-cell;\"></div><div style=\"display: table-cell;\">hidpi&nbsp;=&nbsp;True,</div></div><div class=\"3590\" style=\"display: none;\"><div style=\"display: table-cell;\"></div><div style=\"display: table-cell;\">inner_height&nbsp;=&nbsp;0,</div></div><div class=\"3590\" style=\"display: none;\"><div style=\"display: table-cell;\"></div><div style=\"display: table-cell;\">inner_width&nbsp;=&nbsp;0,</div></div><div class=\"3590\" style=\"display: none;\"><div style=\"display: table-cell;\"></div><div style=\"display: table-cell;\">js_event_callbacks&nbsp;=&nbsp;{},</div></div><div class=\"3590\" style=\"display: none;\"><div style=\"display: table-cell;\"></div><div style=\"display: table-cell;\">js_property_callbacks&nbsp;=&nbsp;{},</div></div><div class=\"3590\" style=\"display: none;\"><div style=\"display: table-cell;\"></div><div style=\"display: table-cell;\">left&nbsp;=&nbsp;[LinearAxis(id='3367', ...)],</div></div><div class=\"3590\" style=\"display: none;\"><div style=\"display: table-cell;\"></div><div style=\"display: table-cell;\">lod_factor&nbsp;=&nbsp;10,</div></div><div class=\"3590\" style=\"display: none;\"><div style=\"display: table-cell;\"></div><div style=\"display: table-cell;\">lod_interval&nbsp;=&nbsp;300,</div></div><div class=\"3590\" style=\"display: none;\"><div style=\"display: table-cell;\"></div><div style=\"display: table-cell;\">lod_threshold&nbsp;=&nbsp;2000,</div></div><div class=\"3590\" style=\"display: none;\"><div style=\"display: table-cell;\"></div><div style=\"display: table-cell;\">lod_timeout&nbsp;=&nbsp;500,</div></div><div class=\"3590\" style=\"display: none;\"><div style=\"display: table-cell;\"></div><div style=\"display: table-cell;\">margin&nbsp;=&nbsp;(0, 0, 0, 0),</div></div><div class=\"3590\" style=\"display: none;\"><div style=\"display: table-cell;\"></div><div style=\"display: table-cell;\">match_aspect&nbsp;=&nbsp;False,</div></div><div class=\"3590\" style=\"display: none;\"><div style=\"display: table-cell;\"></div><div style=\"display: table-cell;\">max_height&nbsp;=&nbsp;None,</div></div><div class=\"3590\" style=\"display: none;\"><div style=\"display: table-cell;\"></div><div style=\"display: table-cell;\">max_width&nbsp;=&nbsp;None,</div></div><div class=\"3590\" style=\"display: none;\"><div style=\"display: table-cell;\"></div><div style=\"display: table-cell;\">min_border&nbsp;=&nbsp;5,</div></div><div class=\"3590\" style=\"display: none;\"><div style=\"display: table-cell;\"></div><div style=\"display: table-cell;\">min_border_bottom&nbsp;=&nbsp;None,</div></div><div class=\"3590\" style=\"display: none;\"><div style=\"display: table-cell;\"></div><div style=\"display: table-cell;\">min_border_left&nbsp;=&nbsp;None,</div></div><div class=\"3590\" style=\"display: none;\"><div style=\"display: table-cell;\"></div><div style=\"display: table-cell;\">min_border_right&nbsp;=&nbsp;None,</div></div><div class=\"3590\" style=\"display: none;\"><div style=\"display: table-cell;\"></div><div style=\"display: table-cell;\">min_border_top&nbsp;=&nbsp;None,</div></div><div class=\"3590\" style=\"display: none;\"><div style=\"display: table-cell;\"></div><div style=\"display: table-cell;\">min_height&nbsp;=&nbsp;None,</div></div><div class=\"3590\" style=\"display: none;\"><div style=\"display: table-cell;\"></div><div style=\"display: table-cell;\">min_width&nbsp;=&nbsp;None,</div></div><div class=\"3590\" style=\"display: none;\"><div style=\"display: table-cell;\"></div><div style=\"display: table-cell;\">name&nbsp;=&nbsp;None,</div></div><div class=\"3590\" style=\"display: none;\"><div style=\"display: table-cell;\"></div><div style=\"display: table-cell;\">outer_height&nbsp;=&nbsp;0,</div></div><div class=\"3590\" style=\"display: none;\"><div style=\"display: table-cell;\"></div><div style=\"display: table-cell;\">outer_width&nbsp;=&nbsp;0,</div></div><div class=\"3590\" style=\"display: none;\"><div style=\"display: table-cell;\"></div><div style=\"display: table-cell;\">outline_line_alpha&nbsp;=&nbsp;1.0,</div></div><div class=\"3590\" style=\"display: none;\"><div style=\"display: table-cell;\"></div><div style=\"display: table-cell;\">outline_line_cap&nbsp;=&nbsp;'butt',</div></div><div class=\"3590\" style=\"display: none;\"><div style=\"display: table-cell;\"></div><div style=\"display: table-cell;\">outline_line_color&nbsp;=&nbsp;'#e5e5e5',</div></div><div class=\"3590\" style=\"display: none;\"><div style=\"display: table-cell;\"></div><div style=\"display: table-cell;\">outline_line_dash&nbsp;=&nbsp;[],</div></div><div class=\"3590\" style=\"display: none;\"><div style=\"display: table-cell;\"></div><div style=\"display: table-cell;\">outline_line_dash_offset&nbsp;=&nbsp;0,</div></div><div class=\"3590\" style=\"display: none;\"><div style=\"display: table-cell;\"></div><div style=\"display: table-cell;\">outline_line_join&nbsp;=&nbsp;'bevel',</div></div><div class=\"3590\" style=\"display: none;\"><div style=\"display: table-cell;\"></div><div style=\"display: table-cell;\">outline_line_width&nbsp;=&nbsp;1,</div></div><div class=\"3590\" style=\"display: none;\"><div style=\"display: table-cell;\"></div><div style=\"display: table-cell;\">output_backend&nbsp;=&nbsp;'webgl',</div></div><div class=\"3590\" style=\"display: none;\"><div style=\"display: table-cell;\"></div><div style=\"display: table-cell;\">renderers&nbsp;=&nbsp;[GlyphRenderer(id='3389', ...), GlyphRenderer(id='3409', ...), GlyphRenderer(id='3430', ...)],</div></div><div class=\"3590\" style=\"display: none;\"><div style=\"display: table-cell;\"></div><div style=\"display: table-cell;\">reset_policy&nbsp;=&nbsp;'standard',</div></div><div class=\"3590\" style=\"display: none;\"><div style=\"display: table-cell;\"></div><div style=\"display: table-cell;\">right&nbsp;=&nbsp;[],</div></div><div class=\"3590\" style=\"display: none;\"><div style=\"display: table-cell;\"></div><div style=\"display: table-cell;\">sizing_mode&nbsp;=&nbsp;'scale_height',</div></div><div class=\"3590\" style=\"display: none;\"><div style=\"display: table-cell;\"></div><div style=\"display: table-cell;\">subscribed_events&nbsp;=&nbsp;[],</div></div><div class=\"3590\" style=\"display: none;\"><div style=\"display: table-cell;\"></div><div style=\"display: table-cell;\">syncable&nbsp;=&nbsp;True,</div></div><div class=\"3590\" style=\"display: none;\"><div style=\"display: table-cell;\"></div><div style=\"display: table-cell;\">tags&nbsp;=&nbsp;[],</div></div><div class=\"3590\" style=\"display: none;\"><div style=\"display: table-cell;\"></div><div style=\"display: table-cell;\">title&nbsp;=&nbsp;Title(id='3353', ...),</div></div><div class=\"3590\" style=\"display: none;\"><div style=\"display: table-cell;\"></div><div style=\"display: table-cell;\">title_location&nbsp;=&nbsp;'above',</div></div><div class=\"3590\" style=\"display: none;\"><div style=\"display: table-cell;\"></div><div style=\"display: table-cell;\">toolbar&nbsp;=&nbsp;Toolbar(id='3378', ...),</div></div><div class=\"3590\" style=\"display: none;\"><div style=\"display: table-cell;\"></div><div style=\"display: table-cell;\">toolbar_location&nbsp;=&nbsp;'right',</div></div><div class=\"3590\" style=\"display: none;\"><div style=\"display: table-cell;\"></div><div style=\"display: table-cell;\">toolbar_sticky&nbsp;=&nbsp;True,</div></div><div class=\"3590\" style=\"display: none;\"><div style=\"display: table-cell;\"></div><div style=\"display: table-cell;\">visible&nbsp;=&nbsp;True,</div></div><div class=\"3590\" style=\"display: none;\"><div style=\"display: table-cell;\"></div><div style=\"display: table-cell;\">width&nbsp;=&nbsp;600,</div></div><div class=\"3590\" style=\"display: none;\"><div style=\"display: table-cell;\"></div><div style=\"display: table-cell;\">width_policy&nbsp;=&nbsp;'auto',</div></div><div class=\"3590\" style=\"display: none;\"><div style=\"display: table-cell;\"></div><div style=\"display: table-cell;\">x_range&nbsp;=&nbsp;DataRange1d(id='3355', ...),</div></div><div class=\"3590\" style=\"display: none;\"><div style=\"display: table-cell;\"></div><div style=\"display: table-cell;\">x_scale&nbsp;=&nbsp;LinearScale(id='3359', ...),</div></div><div class=\"3590\" style=\"display: none;\"><div style=\"display: table-cell;\"></div><div style=\"display: table-cell;\">y_range&nbsp;=&nbsp;DataRange1d(id='3357', ...),</div></div><div class=\"3590\" style=\"display: none;\"><div style=\"display: table-cell;\"></div><div style=\"display: table-cell;\">y_scale&nbsp;=&nbsp;LinearScale(id='3361', ...))</div></div></div>\n",
       "<script>\n",
       "(function() {\n",
       "  var expanded = false;\n",
       "  var ellipsis = document.getElementById(\"3591\");\n",
       "  ellipsis.addEventListener(\"click\", function() {\n",
       "    var rows = document.getElementsByClassName(\"3590\");\n",
       "    for (var i = 0; i < rows.length; i++) {\n",
       "      var el = rows[i];\n",
       "      el.style.display = expanded ? \"none\" : \"table-row\";\n",
       "    }\n",
       "    ellipsis.innerHTML = expanded ? \"&hellip;)\" : \"&lsaquo;&lsaquo;&lsaquo;\";\n",
       "    expanded = !expanded;\n",
       "  });\n",
       "})();\n",
       "</script>\n"
      ],
      "text/plain": [
       "Figure(id='3352', ...)"
      ]
     },
     "execution_count": 107,
     "metadata": {},
     "output_type": "execute_result"
    }
   ],
   "source": [
    "# fill daily gaps\n",
    "stacked_df = fill_gaps_dates(bds, fill_col='price_vwap')\n",
    "\n",
    "stacked_df[['price_high','price_low','price_vwap']].plot_bokeh(sizing_mode=\"scale_height\")"
   ]
  },
  {
   "cell_type": "code",
   "execution_count": 118,
   "metadata": {
    "execution": {
     "iopub.execute_input": "2021-05-19T06:15:37.368658Z",
     "iopub.status.busy": "2021-05-19T06:15:37.367541Z",
     "iopub.status.idle": "2021-05-19T06:15:37.572894Z",
     "shell.execute_reply": "2021-05-19T06:15:37.567028Z",
     "shell.execute_reply.started": "2021-05-19T06:15:37.368561Z"
    }
   },
   "outputs": [
    {
     "data": {
      "text/html": [
       "<div>\n",
       "<style scoped>\n",
       "    .dataframe tbody tr th:only-of-type {\n",
       "        vertical-align: middle;\n",
       "    }\n",
       "\n",
       "    .dataframe tbody tr th {\n",
       "        vertical-align: top;\n",
       "    }\n",
       "\n",
       "    .dataframe thead th {\n",
       "        text-align: right;\n",
       "    }\n",
       "</style>\n",
       "<table border=\"1\" class=\"dataframe\">\n",
       "  <thead>\n",
       "    <tr style=\"text-align: right;\">\n",
       "      <th></th>\n",
       "      <th>bar_count</th>\n",
       "      <th>duration_min_median</th>\n",
       "      <th>price_range_mean</th>\n",
       "    </tr>\n",
       "  </thead>\n",
       "  <tbody>\n",
       "    <tr>\n",
       "      <th>count</th>\n",
       "      <td>6.000000</td>\n",
       "      <td>6.000000</td>\n",
       "      <td>6.000000</td>\n",
       "    </tr>\n",
       "    <tr>\n",
       "      <th>mean</th>\n",
       "      <td>35.333333</td>\n",
       "      <td>7.070833</td>\n",
       "      <td>0.162252</td>\n",
       "    </tr>\n",
       "    <tr>\n",
       "      <th>std</th>\n",
       "      <td>10.366613</td>\n",
       "      <td>2.330258</td>\n",
       "      <td>0.011726</td>\n",
       "    </tr>\n",
       "    <tr>\n",
       "      <th>min</th>\n",
       "      <td>25.000000</td>\n",
       "      <td>4.600000</td>\n",
       "      <td>0.147699</td>\n",
       "    </tr>\n",
       "    <tr>\n",
       "      <th>25%</th>\n",
       "      <td>28.250000</td>\n",
       "      <td>5.031250</td>\n",
       "      <td>0.154042</td>\n",
       "    </tr>\n",
       "    <tr>\n",
       "      <th>50%</th>\n",
       "      <td>32.000000</td>\n",
       "      <td>6.950000</td>\n",
       "      <td>0.163475</td>\n",
       "    </tr>\n",
       "    <tr>\n",
       "      <th>75%</th>\n",
       "      <td>41.000000</td>\n",
       "      <td>8.737500</td>\n",
       "      <td>0.166543</td>\n",
       "    </tr>\n",
       "    <tr>\n",
       "      <th>max</th>\n",
       "      <td>52.000000</td>\n",
       "      <td>10.200000</td>\n",
       "      <td>0.180400</td>\n",
       "    </tr>\n",
       "  </tbody>\n",
       "</table>\n",
       "</div>"
      ],
      "text/plain": [
       "       bar_count  duration_min_median  price_range_mean\n",
       "count   6.000000             6.000000          6.000000\n",
       "mean   35.333333             7.070833          0.162252\n",
       "std    10.366613             2.330258          0.011726\n",
       "min    25.000000             4.600000          0.147699\n",
       "25%    28.250000             5.031250          0.154042\n",
       "50%    32.000000             6.950000          0.163475\n",
       "75%    41.000000             8.737500          0.166543\n",
       "max    52.000000            10.200000          0.180400"
      ]
     },
     "execution_count": 118,
     "metadata": {},
     "output_type": "execute_result"
    }
   ],
   "source": [
    "# stacked stats\n",
    "stats_df = stacked_df_stats(stacked_df)\n",
    "stats_df.describe()"
   ]
  },
  {
   "cell_type": "code",
   "execution_count": 119,
   "metadata": {
    "execution": {
     "iopub.execute_input": "2021-05-19T06:15:49.286360Z",
     "iopub.status.busy": "2021-05-19T06:15:49.285638Z",
     "iopub.status.idle": "2021-05-19T06:15:49.438243Z",
     "shell.execute_reply": "2021-05-19T06:15:49.437142Z",
     "shell.execute_reply.started": "2021-05-19T06:15:49.286290Z"
    }
   },
   "outputs": [
    {
     "data": {
      "text/html": [
       "<div>\n",
       "<style scoped>\n",
       "    .dataframe tbody tr th:only-of-type {\n",
       "        vertical-align: middle;\n",
       "    }\n",
       "\n",
       "    .dataframe tbody tr th {\n",
       "        vertical-align: top;\n",
       "    }\n",
       "\n",
       "    .dataframe thead th {\n",
       "        text-align: right;\n",
       "    }\n",
       "</style>\n",
       "<table border=\"1\" class=\"dataframe\">\n",
       "  <thead>\n",
       "    <tr style=\"text-align: right;\">\n",
       "      <th></th>\n",
       "      <th>date</th>\n",
       "      <th>bar_count</th>\n",
       "      <th>duration_min_median</th>\n",
       "      <th>price_range_mean</th>\n",
       "      <th>first_bar_open</th>\n",
       "      <th>last_bar_close</th>\n",
       "    </tr>\n",
       "  </thead>\n",
       "  <tbody>\n",
       "    <tr>\n",
       "      <th>0</th>\n",
       "      <td>2020-01-03</td>\n",
       "      <td>52</td>\n",
       "      <td>4.725000</td>\n",
       "      <td>0.166801</td>\n",
       "      <td>2020-01-03 09:31:03-05:00</td>\n",
       "      <td>2020-01-03 15:51:51-05:00</td>\n",
       "    </tr>\n",
       "    <tr>\n",
       "      <th>1</th>\n",
       "      <td>2020-01-06</td>\n",
       "      <td>25</td>\n",
       "      <td>10.200000</td>\n",
       "      <td>0.165768</td>\n",
       "      <td>2020-01-06 09:31:03-05:00</td>\n",
       "      <td>2020-01-06 15:53:27-05:00</td>\n",
       "    </tr>\n",
       "    <tr>\n",
       "      <th>2</th>\n",
       "      <td>2020-01-07</td>\n",
       "      <td>29</td>\n",
       "      <td>9.000000</td>\n",
       "      <td>0.161181</td>\n",
       "      <td>2020-01-07 09:31:03-05:00</td>\n",
       "      <td>2020-01-07 15:53:00-05:00</td>\n",
       "    </tr>\n",
       "    <tr>\n",
       "      <th>3</th>\n",
       "      <td>2020-01-08</td>\n",
       "      <td>43</td>\n",
       "      <td>4.600000</td>\n",
       "      <td>0.180400</td>\n",
       "      <td>2020-01-08 09:31:03-05:00</td>\n",
       "      <td>2020-01-08 15:56:54-05:00</td>\n",
       "    </tr>\n",
       "    <tr>\n",
       "      <th>4</th>\n",
       "      <td>2020-01-09</td>\n",
       "      <td>28</td>\n",
       "      <td>7.950000</td>\n",
       "      <td>0.151663</td>\n",
       "      <td>2020-01-09 09:31:03-05:00</td>\n",
       "      <td>2020-01-09 15:55:45-05:00</td>\n",
       "    </tr>\n",
       "    <tr>\n",
       "      <th>5</th>\n",
       "      <td>2020-01-10</td>\n",
       "      <td>35</td>\n",
       "      <td>5.950000</td>\n",
       "      <td>0.147699</td>\n",
       "      <td>2020-01-10 09:31:03-05:00</td>\n",
       "      <td>2020-01-10 15:54:00-05:00</td>\n",
       "    </tr>\n",
       "  </tbody>\n",
       "</table>\n",
       "</div>"
      ],
      "text/plain": [
       "         date  bar_count  duration_min_median  price_range_mean  \\\n",
       "0  2020-01-03         52             4.725000          0.166801   \n",
       "1  2020-01-06         25            10.200000          0.165768   \n",
       "2  2020-01-07         29             9.000000          0.161181   \n",
       "3  2020-01-08         43             4.600000          0.180400   \n",
       "4  2020-01-09         28             7.950000          0.151663   \n",
       "5  2020-01-10         35             5.950000          0.147699   \n",
       "\n",
       "             first_bar_open            last_bar_close  \n",
       "0 2020-01-03 09:31:03-05:00 2020-01-03 15:51:51-05:00  \n",
       "1 2020-01-06 09:31:03-05:00 2020-01-06 15:53:27-05:00  \n",
       "2 2020-01-07 09:31:03-05:00 2020-01-07 15:53:00-05:00  \n",
       "3 2020-01-08 09:31:03-05:00 2020-01-08 15:56:54-05:00  \n",
       "4 2020-01-09 09:31:03-05:00 2020-01-09 15:55:45-05:00  \n",
       "5 2020-01-10 09:31:03-05:00 2020-01-10 15:54:00-05:00  "
      ]
     },
     "execution_count": 119,
     "metadata": {},
     "output_type": "execute_result"
    }
   ],
   "source": [
    "stats_df"
   ]
  },
  {
   "cell_type": "code",
   "execution_count": null,
   "metadata": {},
   "outputs": [],
   "source": [
    "results = []\n",
    "\n",
    "for date in bar_dates:\n",
    "    out = (date['ticks_df'].status.value_counts() / date['ticks_df'].shape[0]).to_dict()\n",
    "    out.update({'date': date['date']})\n",
    "    results.append(out)\n",
    "\n",
    "pd.DataFrame(results)"
   ]
  }
 ],
 "metadata": {
  "kernelspec": {
   "display_name": "Python 3",
   "language": "python",
   "name": "python3"
  },
  "language_info": {
   "codemirror_mode": {
    "name": "ipython",
    "version": 3
   },
   "file_extension": ".py",
   "mimetype": "text/x-python",
   "name": "python",
   "nbconvert_exporter": "python",
   "pygments_lexer": "ipython3",
   "version": "3.8.10"
  },
  "toc-autonumbering": true,
  "toc-showcode": false,
  "toc-showmarkdowntxt": false,
  "toc-showtags": false,
  "varInspector": {
   "cols": {
    "lenName": 16,
    "lenType": 16,
    "lenVar": 40
   },
   "kernels_config": {
    "python": {
     "delete_cmd_postfix": "",
     "delete_cmd_prefix": "del ",
     "library": "var_list.py",
     "varRefreshCmd": "print(var_dic_list())"
    },
    "r": {
     "delete_cmd_postfix": ") ",
     "delete_cmd_prefix": "rm(",
     "library": "var_list.r",
     "varRefreshCmd": "cat(var_dic_list()) "
    }
   },
   "types_to_exclude": [
    "module",
    "function",
    "builtin_function_or_method",
    "instance",
    "_Feature"
   ],
   "window_display": false
  }
 },
 "nbformat": 4,
 "nbformat_minor": 4
}
