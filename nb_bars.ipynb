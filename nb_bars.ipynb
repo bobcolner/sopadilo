{
 "cells": [
  {
   "cell_type": "code",
   "execution_count": null,
   "metadata": {},
   "outputs": [],
   "source": [
    "# import pdb; pdb.set_trace()\n",
    "# import pudb; pudb.set_trace()\n",
    "\n",
    "# df.style.background_gradient(\n",
    "#     cmap='coolwarm', \n",
    "#     axis=None, \n",
    "#     vmin=-1, \n",
    "#     vmax=1\n",
    "# )  # 'Blues', 'coolwarm', 'RdBu_r' & 'BrBG'\n",
    "\n",
    "# pd.set_option('precision', 2)\n",
    "\n",
    "# .plot_bokeh(sizing_mode=\"scale_height\")\n",
    "# .plot_bokeh(kind='hist', bins=1000, sizing_mode=\"scale_height\", xlim=[0, .1])"
   ]
  },
  {
   "cell_type": "markdown",
   "metadata": {},
   "source": [
    "# Imports"
   ]
  },
  {
   "cell_type": "code",
   "execution_count": 75,
   "metadata": {
    "execution": {
     "iopub.execute_input": "2021-06-10T05:01:48.494443Z",
     "iopub.status.busy": "2021-06-10T05:01:48.494120Z",
     "iopub.status.idle": "2021-06-10T05:01:48.647561Z",
     "shell.execute_reply": "2021-06-10T05:01:48.645333Z",
     "shell.execute_reply.started": "2021-06-10T05:01:48.494411Z"
    }
   },
   "outputs": [
    {
     "name": "stdout",
     "output_type": "stream",
     "text": [
      "The autoreload extension is already loaded. To reload it, use:\n",
      "  %reload_ext autoreload\n"
     ]
    }
   ],
   "source": [
    "%load_ext autoreload\n",
    "%autoreload 2\n",
    "\n",
    "import pandas as pd\n",
    "pd.set_option('float_format', '{:f}'.format)\n",
    "pd.set_option('display.max_rows', 40)\n",
    "pd.set_option('display.max_columns', 99)\n",
    "\n",
    "import matplotlib as mpl\n",
    "from matplotlib import style\n",
    "style.use('fivethirtyeight')\n",
    "mpl.rcParams['figure.figsize'] = [20, 7]\n",
    "\n",
    "import datetime as dt\n",
    "import pickle\n",
    "import numpy as np\n",
    "import pandas as pd\n",
    "import pandas_bokeh\n",
    "pandas_bokeh.output_file(\"tmp/bokeh_output.html\")\n",
    "import ray\n",
    "\n",
    "from data_layer import arrow_dataset, storage_adaptor\n",
    "from tick_filter import streaming_tick_filter\n",
    "from tick_sampler import streaming_tick_sampler, daily_stats\n",
    "from workflows import sampler_task, sampler_flow, syncbar_flow, syncbar_task\n",
    "from workflows.configs import renko_v1, renko_v2\n",
    "from utilities import date_fu, project_globals as g\n",
    "from data_layer import storage_adaptor, fsspec_factory, data_access, arrow_dataset"
   ]
  },
  {
   "cell_type": "code",
   "execution_count": 2,
   "metadata": {
    "execution": {
     "iopub.execute_input": "2021-06-10T01:32:18.659331Z",
     "iopub.status.busy": "2021-06-10T01:32:18.658827Z",
     "iopub.status.idle": "2021-06-10T01:32:18.758965Z",
     "shell.execute_reply": "2021-06-10T01:32:18.757249Z",
     "shell.execute_reply.started": "2021-06-10T01:32:18.659283Z"
    }
   },
   "outputs": [],
   "source": [
    "config = renko_v2.config\n",
    "\n",
    "prefix_data = '/data/trades'\n",
    "\n",
    "prefix_meta = f\"/bars/{config['meta']['config_id']}/meta\"\n",
    "\n",
    "prefix_df = f\"/bars/{config['meta']['config_id']}/df\""
   ]
  },
  {
   "cell_type": "markdown",
   "metadata": {},
   "source": [
    "# Ray setup"
   ]
  },
  {
   "cell_type": "code",
   "execution_count": 76,
   "metadata": {
    "execution": {
     "iopub.execute_input": "2021-06-10T05:02:35.127897Z",
     "iopub.status.busy": "2021-06-10T05:02:35.126686Z",
     "iopub.status.idle": "2021-06-10T05:02:42.164184Z",
     "shell.execute_reply": "2021-06-10T05:02:42.160946Z",
     "shell.execute_reply.started": "2021-06-10T05:02:35.127819Z"
    }
   },
   "outputs": [
    {
     "name": "stderr",
     "output_type": "stream",
     "text": [
      "2021-06-09 22:02:39,233\tINFO services.py:1272 -- View the Ray dashboard at \u001b[1m\u001b[32mhttp://192.168.1.66:1111\u001b[39m\u001b[22m\n"
     ]
    },
    {
     "data": {
      "text/plain": [
       "{'node_ip_address': '192.168.1.66',\n",
       " 'raylet_ip_address': '192.168.1.66',\n",
       " 'redis_address': '192.168.1.66:6379',\n",
       " 'object_store_address': '/tmp/ray/session_2021-06-09_22-02-35_238975_40298/sockets/plasma_store',\n",
       " 'raylet_socket_name': '/tmp/ray/session_2021-06-09_22-02-35_238975_40298/sockets/raylet',\n",
       " 'webui_url': '192.168.1.66:1111',\n",
       " 'session_dir': '/tmp/ray/session_2021-06-09_22-02-35_238975_40298',\n",
       " 'metrics_export_port': 59387,\n",
       " 'node_id': 'cadc0bca39dd8c310e36eb958df840fb2e82902be51fccd1967d419c'}"
      ]
     },
     "execution_count": 76,
     "metadata": {},
     "output_type": "execute_result"
    }
   ],
   "source": [
    "ray.init(dashboard_host='0.0.0.0', dashboard_port=1111, ignore_reinit_error=True)"
   ]
  },
  {
   "cell_type": "code",
   "execution_count": null,
   "metadata": {},
   "outputs": [],
   "source": [
    "ray.shutdown()"
   ]
  },
  {
   "cell_type": "markdown",
   "metadata": {},
   "source": [
    "# sync bars"
   ]
  },
  {
   "cell_type": "code",
   "execution_count": null,
   "metadata": {},
   "outputs": [
    {
     "name": "stdout",
     "output_type": "stream",
     "text": [
      "\u001b[2m\u001b[36m(pid=41034)\u001b[0m HMY AEM 2019-02-05 zero tick syncbar\n",
      "\u001b[2m\u001b[36m(pid=41034)\u001b[0m clock: HMY sync: AEM 2019-02-05\n",
      "\u001b[2m\u001b[36m(pid=41034)\u001b[0m HMY AEM 2019-02-08 zero tick syncbar\n",
      "\u001b[2m\u001b[36m(pid=41033)\u001b[0m clock: HMY sync: AEM 2019-02-04\n",
      "\u001b[2m\u001b[36m(pid=41033)\u001b[0m HMY AEM 2019-02-11 zero tick syncbar\n",
      "\u001b[2m\u001b[36m(pid=41035)\u001b[0m clock: HMY sync: AEM 2019-02-06\n",
      "\u001b[2m\u001b[36m(pid=41036)\u001b[0m clock: HMY sync: AEM 2019-02-07\n",
      "\u001b[2m\u001b[36m(pid=41034)\u001b[0m clock: HMY sync: AEM 2019-02-08\n",
      "\u001b[2m\u001b[36m(pid=41033)\u001b[0m clock: HMY sync: AEM 2019-02-11\n",
      "\u001b[2m\u001b[36m(pid=41034)\u001b[0m clock: HMY sync: AEM 2019-02-14\n",
      "\u001b[2m\u001b[36m(pid=41033)\u001b[0m clock: HMY sync: AEM 2019-02-15\n",
      "\u001b[2m\u001b[36m(pid=41036)\u001b[0m clock: HMY sync: AEM 2019-02-13\n",
      "\u001b[2m\u001b[36m(pid=41035)\u001b[0m clock: HMY sync: AEM 2019-02-12\n",
      "\u001b[2m\u001b[36m(pid=41036)\u001b[0m clock: HMY sync: AEM 2019-02-21\n",
      "\u001b[2m\u001b[36m(pid=41034)\u001b[0m clock: HMY sync: AEM 2019-02-19\n",
      "\u001b[2m\u001b[36m(pid=41033)\u001b[0m clock: HMY sync: AEM 2019-02-20\n",
      "\u001b[2m\u001b[36m(pid=41035)\u001b[0m clock: HMY sync: AEM 2019-02-22\n",
      "\u001b[2m\u001b[36m(pid=41036)\u001b[0m clock: HMY sync: AEM 2019-02-25\n",
      "\u001b[2m\u001b[36m(pid=41035)\u001b[0m clock: HMY sync: AEM 2019-02-28\n",
      "\u001b[2m\u001b[36m(pid=41033)\u001b[0m clock: HMY sync: AEM 2019-02-27\n",
      "\u001b[2m\u001b[36m(pid=41034)\u001b[0m clock: HMY sync: AEM 2019-02-26\n",
      "\u001b[2m\u001b[36m(pid=41033)\u001b[0m clock: HMY sync: AU 2019-02-05\n",
      "\u001b[2m\u001b[36m(pid=41035)\u001b[0m clock: HMY sync: AU 2019-02-04\n",
      "\u001b[2m\u001b[36m(pid=41036)\u001b[0m clock: HMY sync: AEM 2019-03-01\n",
      "\u001b[2m\u001b[36m(pid=41034)\u001b[0m clock: HMY sync: AU 2019-02-06\n",
      "\u001b[2m\u001b[36m(pid=41035)\u001b[0m clock: HMY sync: AU 2019-02-08\n",
      "\u001b[2m\u001b[36m(pid=41033)\u001b[0m clock: HMY sync: AU 2019-02-07\n",
      "\u001b[2m\u001b[36m(pid=41036)\u001b[0m clock: HMY sync: AU 2019-02-11\n",
      "\u001b[2m\u001b[36m(pid=41034)\u001b[0m clock: HMY sync: AU 2019-02-12\n",
      "\u001b[2m\u001b[36m(pid=41035)\u001b[0m clock: HMY sync: AU 2019-02-14\n",
      "\u001b[2m\u001b[36m(pid=41036)\u001b[0m clock: HMY sync: AU 2019-02-15\n",
      "\u001b[2m\u001b[36m(pid=41033)\u001b[0m clock: HMY sync: AU 2019-02-13\n",
      "\u001b[2m\u001b[36m(pid=41034)\u001b[0m clock: HMY sync: AU 2019-02-19\n",
      "\u001b[2m\u001b[36m(pid=41036)\u001b[0m clock: HMY sync: AU 2019-02-21\n",
      "\u001b[2m\u001b[36m(pid=41035)\u001b[0m clock: HMY sync: AU 2019-02-20\n",
      "\u001b[2m\u001b[36m(pid=41033)\u001b[0m clock: HMY sync: AU 2019-02-22\n",
      "\u001b[2m\u001b[36m(pid=41034)\u001b[0m clock: HMY sync: AU 2019-02-25\n",
      "\u001b[2m\u001b[36m(pid=41036)\u001b[0m clock: HMY sync: AU 2019-02-26\n",
      "\u001b[2m\u001b[36m(pid=41035)\u001b[0m clock: HMY sync: AU 2019-02-28\n",
      "\u001b[2m\u001b[36m(pid=41033)\u001b[0m clock: HMY sync: AU 2019-02-27\n",
      "\u001b[2m\u001b[36m(pid=41034)\u001b[0m clock: HMY sync: \n",
      "\u001b[2m\u001b[36m(pid=41034)\u001b[0m AU\n",
      "\u001b[2m\u001b[36m(pid=41034)\u001b[0m  \n",
      "\u001b[2m\u001b[36m(pid=41034)\u001b[0m 2019-03-01\n",
      "\u001b[2m\u001b[36m(pid=41034)\u001b[0m \n",
      "\u001b[2m\u001b[36m(pid=41035)\u001b[0m clock: HMY sync: GLD 2019-02-05\n",
      "\u001b[2m\u001b[36m(pid=41036)\u001b[0m clock: HMY sync: GLD 2019-02-04\n",
      "\u001b[2m\u001b[36m(pid=41033)\u001b[0m clock: HMY sync: GLD 2019-02-06\n",
      "\u001b[2m\u001b[36m(pid=41034)\u001b[0m clock: HMY sync: GLD 2019-02-07\n",
      "\u001b[2m\u001b[36m(pid=41035)\u001b[0m clock: HMY sync: GLD 2019-02-08\n",
      "\u001b[2m\u001b[36m(pid=41036)\u001b[0m clock: HMY sync: GLD 2019-02-11\n",
      "\u001b[2m\u001b[36m(pid=41033)\u001b[0m clock: HMY sync: GLD 2019-02-12\n",
      "\u001b[2m\u001b[36m(pid=41035)\u001b[0m clock: HMY sync: GLD 2019-02-14\n",
      "\u001b[2m\u001b[36m(pid=41036)\u001b[0m clock: HMY sync: GLD 2019-02-15\n",
      "\u001b[2m\u001b[36m(pid=41034)\u001b[0m clock: HMY sync: GLD 2019-02-13\n",
      "\u001b[2m\u001b[36m(pid=41033)\u001b[0m clock: HMY sync: GLD 2019-02-19\n",
      "\u001b[2m\u001b[36m(pid=41036)\u001b[0m clock: HMY sync: GLD 2019-02-21\n",
      "\u001b[2m\u001b[36m(pid=41035)\u001b[0m clock: HMY sync: GLD 2019-02-20\n",
      "\u001b[2m\u001b[36m(pid=41034)\u001b[0m clock: HMY sync: GLD 2019-02-22\n",
      "\u001b[2m\u001b[36m(pid=41033)\u001b[0m clock: HMY sync: GLD 2019-02-25\n",
      "\u001b[2m\u001b[36m(pid=41036)\u001b[0m clock: HMY sync: GLD 2019-02-26\n",
      "\u001b[2m\u001b[36m(pid=41034)\u001b[0m clock: HMY sync: GLD 2019-02-28\n",
      "\u001b[2m\u001b[36m(pid=41035)\u001b[0m clock: HMY sync: GLD 2019-02-27\n",
      "\u001b[2m\u001b[36m(pid=41034)\u001b[0m clock: HMY sync: KGC 2019-02-05\n",
      "\u001b[2m\u001b[36m(pid=41036)\u001b[0m clock: HMY sync: KGC 2019-02-04\n",
      "\u001b[2m\u001b[36m(pid=41035)\u001b[0m clock: HMY sync: KGC 2019-02-06\n",
      "\u001b[2m\u001b[36m(pid=41033)\u001b[0m clock: HMY sync: GLD 2019-03-01\n",
      "\u001b[2m\u001b[36m(pid=41035)\u001b[0m HMY KGC 2019-02-11 zero tick syncbar\n",
      "\u001b[2m\u001b[36m(pid=41034)\u001b[0m clock: HMY sync: KGC 2019-02-07\n",
      "\u001b[2m\u001b[36m(pid=41036)\u001b[0m clock: HMY sync: KGC 2019-02-08\n",
      "\u001b[2m\u001b[36m(pid=41035)\u001b[0m clock: HMY sync: KGC 2019-02-11\n",
      "\u001b[2m\u001b[36m(pid=41033)\u001b[0m clock: HMY sync: KGC 2019-02-12\n",
      "\u001b[2m\u001b[36m(pid=41036)\u001b[0m clock: HMY sync: KGC 2019-02-14\n",
      "\u001b[2m\u001b[36m(pid=41035)\u001b[0m clock: HMY sync: KGC 2019-02-15\n",
      "\u001b[2m\u001b[36m(pid=41034)\u001b[0m clock: HMY sync: KGC 2019-02-13\n",
      "\u001b[2m\u001b[36m(pid=41033)\u001b[0m clock: HMY sync: KGC 2019-02-19\n",
      "\u001b[2m\u001b[36m(pid=41035)\u001b[0m clock: HMY sync: KGC 2019-02-21\n",
      "\u001b[2m\u001b[36m(pid=41036)\u001b[0m clock: HMY sync: KGC 2019-02-20\n",
      "\u001b[2m\u001b[36m(pid=41034)\u001b[0m clock: HMY sync: KGC 2019-02-22\n",
      "\u001b[2m\u001b[36m(pid=41033)\u001b[0m clock: HMY sync: KGC 2019-02-25\n",
      "\u001b[2m\u001b[36m(pid=41036)\u001b[0m HMY KGC 2019-02-27 zero tick syncbar\n",
      "\u001b[2m\u001b[36m(pid=41034)\u001b[0m clock: HMY sync: KGC 2019-02-28\n"
     ]
    }
   ],
   "source": [
    "syncbar_flow.syncbar_flow('renko_v2', on_ray='True')"
   ]
  },
  {
   "cell_type": "markdown",
   "metadata": {},
   "source": [
    "# Tick Sampler "
   ]
  },
  {
   "cell_type": "code",
   "execution_count": null,
   "metadata": {
    "scrolled": true
   },
   "outputs": [],
   "source": [
    "bds = sampler_flow.run(config)"
   ]
  },
  {
   "cell_type": "code",
   "execution_count": null,
   "metadata": {},
   "outputs": [],
   "source": [
    "n = 1\n",
    "print(bds[n]['date'])\n",
    "# bds[n]['ticks_df'][['price', 'price_jma']].plot_bokeh(sizing_mode=\"scale_height\")\n",
    "bds[n]['ticks_df'][['price', 'price_jma']].plot()"
   ]
  },
  {
   "cell_type": "code",
   "execution_count": null,
   "metadata": {},
   "outputs": [],
   "source": [
    "bds[n]['ticks_df'][['price_jma']].plot()"
   ]
  },
  {
   "cell_type": "code",
   "execution_count": null,
   "metadata": {},
   "outputs": [],
   "source": [
    "bds[n]['ticks_df'].status.value_counts() / len(bds[n]['ticks_df'])"
   ]
  },
  {
   "cell_type": "code",
   "execution_count": null,
   "metadata": {},
   "outputs": [],
   "source": [
    "bds[n]['bars_df'][['price_low', 'price_high', 'price_close']].plot()"
   ]
  },
  {
   "cell_type": "markdown",
   "metadata": {},
   "source": [
    "# Price gap fill"
   ]
  },
  {
   "cell_type": "code",
   "execution_count": null,
   "metadata": {},
   "outputs": [],
   "source": [
    "from sample_features import stacked\n",
    "# fill daily gaps\n",
    "stacked_df = stacked.fill_gaps_dates(bar_dates, fill_col='price_vwap')\n",
    "\n",
    "# stacked_df[['price_high','price_low','price_close', 'price_vwap']].plot_bokeh(sizing_mode=\"scale_height\")\n",
    "\n",
    "# stacked stats\n",
    "stats_df = stacked.stacked_df_stats(stacked_df)\n"
   ]
  },
  {
   "cell_type": "code",
   "execution_count": null,
   "metadata": {},
   "outputs": [],
   "source": [
    "stats_df.describe()"
   ]
  }
 ],
 "metadata": {
  "kernelspec": {
   "display_name": "Python 3",
   "language": "python",
   "name": "python3"
  },
  "language_info": {
   "codemirror_mode": {
    "name": "ipython",
    "version": 3
   },
   "file_extension": ".py",
   "mimetype": "text/x-python",
   "name": "python",
   "nbconvert_exporter": "python",
   "pygments_lexer": "ipython3",
   "version": "3.8.10"
  },
  "toc-autonumbering": true,
  "toc-showcode": false,
  "toc-showmarkdowntxt": false,
  "toc-showtags": false,
  "varInspector": {
   "cols": {
    "lenName": 16,
    "lenType": 16,
    "lenVar": 40
   },
   "kernels_config": {
    "python": {
     "delete_cmd_postfix": "",
     "delete_cmd_prefix": "del ",
     "library": "var_list.py",
     "varRefreshCmd": "print(var_dic_list())"
    },
    "r": {
     "delete_cmd_postfix": ") ",
     "delete_cmd_prefix": "rm(",
     "library": "var_list.r",
     "varRefreshCmd": "cat(var_dic_list()) "
    }
   },
   "types_to_exclude": [
    "module",
    "function",
    "builtin_function_or_method",
    "instance",
    "_Feature"
   ],
   "window_display": false
  }
 },
 "nbformat": 4,
 "nbformat_minor": 4
}
