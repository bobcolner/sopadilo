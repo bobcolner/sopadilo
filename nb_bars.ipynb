{
 "cells": [
  {
   "cell_type": "code",
   "execution_count": 2,
   "metadata": {
    "execution": {
     "iopub.execute_input": "2021-07-08T05:13:18.498512Z",
     "iopub.status.busy": "2021-07-08T05:13:18.492667Z",
     "iopub.status.idle": "2021-07-08T05:13:18.531987Z",
     "shell.execute_reply": "2021-07-08T05:13:18.530141Z",
     "shell.execute_reply.started": "2021-07-08T05:13:18.498421Z"
    }
   },
   "outputs": [],
   "source": [
    "# import pdb; pdb.set_trace()\n",
    "# import pudb; pudb.set_trace()\n",
    "\n",
    "# df.style.background_gradient(\n",
    "#     cmap='coolwarm', \n",
    "#     axis=None, \n",
    "#     vmin=-1, \n",
    "#     vmax=1\n",
    "# )  # 'Blues', 'coolwarm', 'RdBu_r' & 'BrBG'\n",
    "\n",
    "# df.style.set_sticky(axis=\"index\")\n",
    "\n",
    "# pd.set_option('precision', 2)\n",
    "\n",
    "# from pandas_profiling import ProfileReport\n",
    "# profile = ProfileReport(df, title=\"Pandas Profiling Report\", explorative=True)\n",
    "\n",
    "# .plot_bokeh(sizing_mode=\"scale_height\")\n",
    "# .plot_bokeh(kind='hist', bins=1000, sizing_mode=\"scale_height\", xlim=[0, .1])"
   ]
  },
  {
   "cell_type": "markdown",
   "metadata": {},
   "source": [
    "# Imports"
   ]
  },
  {
   "cell_type": "code",
   "execution_count": 3,
   "metadata": {
    "execution": {
     "iopub.execute_input": "2021-07-08T05:13:18.538504Z",
     "iopub.status.busy": "2021-07-08T05:13:18.536505Z",
     "iopub.status.idle": "2021-07-08T05:14:14.495724Z",
     "shell.execute_reply": "2021-07-08T05:14:14.494619Z",
     "shell.execute_reply.started": "2021-07-08T05:13:18.538435Z"
    }
   },
   "outputs": [],
   "source": [
    "%load_ext autoreload\n",
    "%autoreload 2\n",
    "\n",
    "import pandas as pd\n",
    "pd.set_option('float_format', '{:f}'.format)\n",
    "pd.set_option('display.max_rows', 40)\n",
    "pd.set_option('display.max_columns', 99)\n",
    "\n",
    "import matplotlib as mpl\n",
    "from matplotlib import style\n",
    "style.use('fivethirtyeight')\n",
    "mpl.rcParams['figure.figsize'] = [20, 7]\n",
    "\n",
    "import datetime as dt\n",
    "import pickle\n",
    "import numpy as np\n",
    "import pandas as pd\n",
    "import pandas_bokeh\n",
    "pandas_bokeh.output_file(\"tmp/bokeh_output.html\")\n",
    "import ray\n",
    "\n",
    "from data_layer import storage_adaptor, fsspec_factory, data_access, arrow_dataset\n",
    "from tick_filter import streaming_tick_filter\n",
    "from tick_sampler import streaming_tick_sampler, daily_stats\n",
    "from utilities import date_fu, project_globals as g\n",
    "from workflows import sampler_task, sampler_flow, syncbar_flow, syncbar_task\n",
    "from workflows.configs import renko_v1, renko_v2, renko_v3\n",
    "from sample_features import stacked\n",
    "from filters import jma"
   ]
  },
  {
   "cell_type": "code",
   "execution_count": 4,
   "metadata": {
    "execution": {
     "iopub.execute_input": "2021-07-08T05:14:14.497686Z",
     "iopub.status.busy": "2021-07-08T05:14:14.497192Z",
     "iopub.status.idle": "2021-07-08T05:14:14.580057Z",
     "shell.execute_reply": "2021-07-08T05:14:14.578535Z",
     "shell.execute_reply.started": "2021-07-08T05:14:14.497652Z"
    }
   },
   "outputs": [],
   "source": [
    "config = renko_v2.config\n",
    "\n",
    "prefix_data = '/data/trades'\n",
    "\n",
    "prefix_meta = f\"/bars/{config['meta']['config_id']}/meta\"\n",
    "\n",
    "prefix_df = f\"/bars/{config['meta']['config_id']}/df\"\n",
    "\n",
    "prefix_sb = f\"/bars/{config['meta']['config_id']}/sync_bars/clock_symbol=MUX\""
   ]
  },
  {
   "cell_type": "code",
   "execution_count": 5,
   "metadata": {
    "execution": {
     "iopub.execute_input": "2021-07-08T06:34:45.475343Z",
     "iopub.status.busy": "2021-07-08T06:34:45.475031Z",
     "iopub.status.idle": "2021-07-08T06:34:46.033035Z",
     "shell.execute_reply": "2021-07-08T06:34:46.032090Z",
     "shell.execute_reply.started": "2021-07-08T06:34:45.475316Z"
    }
   },
   "outputs": [],
   "source": [
    "df = data_access.fetch_sd_data('AEM', prefix=prefix_df, date='2019-01-03')"
   ]
  },
  {
   "cell_type": "code",
   "execution_count": 6,
   "metadata": {
    "execution": {
     "iopub.execute_input": "2021-07-08T06:34:46.626286Z",
     "iopub.status.busy": "2021-07-08T06:34:46.625686Z",
     "iopub.status.idle": "2021-07-08T06:34:46.752067Z",
     "shell.execute_reply": "2021-07-08T06:34:46.750617Z",
     "shell.execute_reply.started": "2021-07-08T06:34:46.626230Z"
    }
   },
   "outputs": [
    {
     "data": {
      "text/plain": [
       "0.38"
      ]
     },
     "execution_count": 6,
     "metadata": {},
     "output_type": "execute_result"
    }
   ],
   "source": [
    "sum(abs(df.label_rrr)>=3) / df.shape[0]"
   ]
  },
  {
   "cell_type": "code",
   "execution_count": null,
   "metadata": {},
   "outputs": [],
   "source": [
    "abs(df.label_rrr).hist(bins=30)"
   ]
  },
  {
   "cell_type": "markdown",
   "metadata": {},
   "source": [
    "# load multi-file dataset"
   ]
  },
  {
   "cell_type": "code",
   "execution_count": 4,
   "metadata": {
    "execution": {
     "iopub.execute_input": "2021-07-06T06:04:40.939653Z",
     "iopub.status.busy": "2021-07-06T06:04:40.939016Z",
     "iopub.status.idle": "2021-07-06T06:05:27.579127Z",
     "shell.execute_reply": "2021-07-06T06:05:27.578460Z",
     "shell.execute_reply.started": "2021-07-06T06:04:40.939614Z"
    }
   },
   "outputs": [],
   "source": [
    "ds = arrow_dataset.get_dataset('/bars/renko_v2/df')\n",
    "\n",
    "df = ds.to_table().to_pandas()\n",
    "\n",
    "sdf = df[df.symbol=='SAND']"
   ]
  },
  {
   "cell_type": "code",
   "execution_count": 7,
   "metadata": {
    "execution": {
     "iopub.execute_input": "2021-07-06T06:10:56.794566Z",
     "iopub.status.busy": "2021-07-06T06:10:56.794117Z",
     "iopub.status.idle": "2021-07-06T06:12:09.585174Z",
     "shell.execute_reply": "2021-07-06T06:12:09.584012Z",
     "shell.execute_reply.started": "2021-07-06T06:10:56.794534Z"
    }
   },
   "outputs": [],
   "source": [
    "ds = arrow_dataset.get_dataset('/bars/renko_v2/sync_bars')\n",
    "\n",
    "df2 = ds.to_table().to_pandas()\n",
    "\n",
    "sdf2 = df2[(df2.clock_symbol=='IAG') & (df2.symbol=='GLD')].reset_index(drop=True)"
   ]
  },
  {
   "cell_type": "markdown",
   "metadata": {
    "execution": {
     "iopub.execute_input": "2021-06-18T18:51:52.128291Z",
     "iopub.status.busy": "2021-06-18T18:51:52.127939Z",
     "iopub.status.idle": "2021-06-18T18:51:52.244512Z",
     "shell.execute_reply": "2021-06-18T18:51:52.243287Z",
     "shell.execute_reply.started": "2021-06-18T18:51:52.128256Z"
    }
   },
   "source": [
    "# Price gap fill"
   ]
  },
  {
   "cell_type": "code",
   "execution_count": 22,
   "metadata": {
    "execution": {
     "iopub.execute_input": "2021-07-06T06:26:20.567878Z",
     "iopub.status.busy": "2021-07-06T06:26:20.567418Z",
     "iopub.status.idle": "2021-07-06T06:26:27.064458Z",
     "shell.execute_reply": "2021-07-06T06:26:27.062887Z",
     "shell.execute_reply.started": "2021-07-06T06:26:20.567845Z"
    }
   },
   "outputs": [],
   "source": [
    "fdf = stacked.fill_gaps_dates(sdf, 'price_vwap')"
   ]
  },
  {
   "cell_type": "code",
   "execution_count": 23,
   "metadata": {
    "execution": {
     "iopub.execute_input": "2021-07-06T06:26:27.067696Z",
     "iopub.status.busy": "2021-07-06T06:26:27.066757Z",
     "iopub.status.idle": "2021-07-06T06:26:28.548091Z",
     "shell.execute_reply": "2021-07-06T06:26:28.545013Z",
     "shell.execute_reply.started": "2021-07-06T06:26:27.067637Z"
    }
   },
   "outputs": [
    {
     "data": {
      "text/html": [
       "<div style=\"display: table;\"><div style=\"display: table-row;\"><div style=\"display: table-cell;\"><b title=\"bokeh.plotting.figure.Figure\">Figure</b>(</div><div style=\"display: table-cell;\">id&nbsp;=&nbsp;'1725', <span id=\"1964\" style=\"cursor: pointer;\">&hellip;)</span></div></div><div class=\"1963\" style=\"display: none;\"><div style=\"display: table-cell;\"></div><div style=\"display: table-cell;\">above&nbsp;=&nbsp;[],</div></div><div class=\"1963\" style=\"display: none;\"><div style=\"display: table-cell;\"></div><div style=\"display: table-cell;\">align&nbsp;=&nbsp;'start',</div></div><div class=\"1963\" style=\"display: none;\"><div style=\"display: table-cell;\"></div><div style=\"display: table-cell;\">aspect_ratio&nbsp;=&nbsp;None,</div></div><div class=\"1963\" style=\"display: none;\"><div style=\"display: table-cell;\"></div><div style=\"display: table-cell;\">aspect_scale&nbsp;=&nbsp;1,</div></div><div class=\"1963\" style=\"display: none;\"><div style=\"display: table-cell;\"></div><div style=\"display: table-cell;\">background&nbsp;=&nbsp;None,</div></div><div class=\"1963\" style=\"display: none;\"><div style=\"display: table-cell;\"></div><div style=\"display: table-cell;\">background_fill_alpha&nbsp;=&nbsp;1.0,</div></div><div class=\"1963\" style=\"display: none;\"><div style=\"display: table-cell;\"></div><div style=\"display: table-cell;\">background_fill_color&nbsp;=&nbsp;'#ffffff',</div></div><div class=\"1963\" style=\"display: none;\"><div style=\"display: table-cell;\"></div><div style=\"display: table-cell;\">below&nbsp;=&nbsp;[LinearAxis(id='1736', ...)],</div></div><div class=\"1963\" style=\"display: none;\"><div style=\"display: table-cell;\"></div><div style=\"display: table-cell;\">border_fill_alpha&nbsp;=&nbsp;1.0,</div></div><div class=\"1963\" style=\"display: none;\"><div style=\"display: table-cell;\"></div><div style=\"display: table-cell;\">border_fill_color&nbsp;=&nbsp;'#ffffff',</div></div><div class=\"1963\" style=\"display: none;\"><div style=\"display: table-cell;\"></div><div style=\"display: table-cell;\">center&nbsp;=&nbsp;[Grid(id='1739', ...), Grid(id='1743', ...), Legend(id='1774', ...)],</div></div><div class=\"1963\" style=\"display: none;\"><div style=\"display: table-cell;\"></div><div style=\"display: table-cell;\">css_classes&nbsp;=&nbsp;[],</div></div><div class=\"1963\" style=\"display: none;\"><div style=\"display: table-cell;\"></div><div style=\"display: table-cell;\">disabled&nbsp;=&nbsp;False,</div></div><div class=\"1963\" style=\"display: none;\"><div style=\"display: table-cell;\"></div><div style=\"display: table-cell;\">extra_x_ranges&nbsp;=&nbsp;{},</div></div><div class=\"1963\" style=\"display: none;\"><div style=\"display: table-cell;\"></div><div style=\"display: table-cell;\">extra_y_ranges&nbsp;=&nbsp;{},</div></div><div class=\"1963\" style=\"display: none;\"><div style=\"display: table-cell;\"></div><div style=\"display: table-cell;\">frame_height&nbsp;=&nbsp;None,</div></div><div class=\"1963\" style=\"display: none;\"><div style=\"display: table-cell;\"></div><div style=\"display: table-cell;\">frame_width&nbsp;=&nbsp;None,</div></div><div class=\"1963\" style=\"display: none;\"><div style=\"display: table-cell;\"></div><div style=\"display: table-cell;\">height&nbsp;=&nbsp;400,</div></div><div class=\"1963\" style=\"display: none;\"><div style=\"display: table-cell;\"></div><div style=\"display: table-cell;\">height_policy&nbsp;=&nbsp;'auto',</div></div><div class=\"1963\" style=\"display: none;\"><div style=\"display: table-cell;\"></div><div style=\"display: table-cell;\">hidpi&nbsp;=&nbsp;True,</div></div><div class=\"1963\" style=\"display: none;\"><div style=\"display: table-cell;\"></div><div style=\"display: table-cell;\">inner_height&nbsp;=&nbsp;0,</div></div><div class=\"1963\" style=\"display: none;\"><div style=\"display: table-cell;\"></div><div style=\"display: table-cell;\">inner_width&nbsp;=&nbsp;0,</div></div><div class=\"1963\" style=\"display: none;\"><div style=\"display: table-cell;\"></div><div style=\"display: table-cell;\">js_event_callbacks&nbsp;=&nbsp;{},</div></div><div class=\"1963\" style=\"display: none;\"><div style=\"display: table-cell;\"></div><div style=\"display: table-cell;\">js_property_callbacks&nbsp;=&nbsp;{},</div></div><div class=\"1963\" style=\"display: none;\"><div style=\"display: table-cell;\"></div><div style=\"display: table-cell;\">left&nbsp;=&nbsp;[LinearAxis(id='1740', ...)],</div></div><div class=\"1963\" style=\"display: none;\"><div style=\"display: table-cell;\"></div><div style=\"display: table-cell;\">lod_factor&nbsp;=&nbsp;10,</div></div><div class=\"1963\" style=\"display: none;\"><div style=\"display: table-cell;\"></div><div style=\"display: table-cell;\">lod_interval&nbsp;=&nbsp;300,</div></div><div class=\"1963\" style=\"display: none;\"><div style=\"display: table-cell;\"></div><div style=\"display: table-cell;\">lod_threshold&nbsp;=&nbsp;2000,</div></div><div class=\"1963\" style=\"display: none;\"><div style=\"display: table-cell;\"></div><div style=\"display: table-cell;\">lod_timeout&nbsp;=&nbsp;500,</div></div><div class=\"1963\" style=\"display: none;\"><div style=\"display: table-cell;\"></div><div style=\"display: table-cell;\">margin&nbsp;=&nbsp;(0, 0, 0, 0),</div></div><div class=\"1963\" style=\"display: none;\"><div style=\"display: table-cell;\"></div><div style=\"display: table-cell;\">match_aspect&nbsp;=&nbsp;False,</div></div><div class=\"1963\" style=\"display: none;\"><div style=\"display: table-cell;\"></div><div style=\"display: table-cell;\">max_height&nbsp;=&nbsp;None,</div></div><div class=\"1963\" style=\"display: none;\"><div style=\"display: table-cell;\"></div><div style=\"display: table-cell;\">max_width&nbsp;=&nbsp;None,</div></div><div class=\"1963\" style=\"display: none;\"><div style=\"display: table-cell;\"></div><div style=\"display: table-cell;\">min_border&nbsp;=&nbsp;5,</div></div><div class=\"1963\" style=\"display: none;\"><div style=\"display: table-cell;\"></div><div style=\"display: table-cell;\">min_border_bottom&nbsp;=&nbsp;None,</div></div><div class=\"1963\" style=\"display: none;\"><div style=\"display: table-cell;\"></div><div style=\"display: table-cell;\">min_border_left&nbsp;=&nbsp;None,</div></div><div class=\"1963\" style=\"display: none;\"><div style=\"display: table-cell;\"></div><div style=\"display: table-cell;\">min_border_right&nbsp;=&nbsp;None,</div></div><div class=\"1963\" style=\"display: none;\"><div style=\"display: table-cell;\"></div><div style=\"display: table-cell;\">min_border_top&nbsp;=&nbsp;None,</div></div><div class=\"1963\" style=\"display: none;\"><div style=\"display: table-cell;\"></div><div style=\"display: table-cell;\">min_height&nbsp;=&nbsp;None,</div></div><div class=\"1963\" style=\"display: none;\"><div style=\"display: table-cell;\"></div><div style=\"display: table-cell;\">min_width&nbsp;=&nbsp;None,</div></div><div class=\"1963\" style=\"display: none;\"><div style=\"display: table-cell;\"></div><div style=\"display: table-cell;\">name&nbsp;=&nbsp;None,</div></div><div class=\"1963\" style=\"display: none;\"><div style=\"display: table-cell;\"></div><div style=\"display: table-cell;\">outer_height&nbsp;=&nbsp;0,</div></div><div class=\"1963\" style=\"display: none;\"><div style=\"display: table-cell;\"></div><div style=\"display: table-cell;\">outer_width&nbsp;=&nbsp;0,</div></div><div class=\"1963\" style=\"display: none;\"><div style=\"display: table-cell;\"></div><div style=\"display: table-cell;\">outline_line_alpha&nbsp;=&nbsp;1.0,</div></div><div class=\"1963\" style=\"display: none;\"><div style=\"display: table-cell;\"></div><div style=\"display: table-cell;\">outline_line_cap&nbsp;=&nbsp;'butt',</div></div><div class=\"1963\" style=\"display: none;\"><div style=\"display: table-cell;\"></div><div style=\"display: table-cell;\">outline_line_color&nbsp;=&nbsp;'#e5e5e5',</div></div><div class=\"1963\" style=\"display: none;\"><div style=\"display: table-cell;\"></div><div style=\"display: table-cell;\">outline_line_dash&nbsp;=&nbsp;[],</div></div><div class=\"1963\" style=\"display: none;\"><div style=\"display: table-cell;\"></div><div style=\"display: table-cell;\">outline_line_dash_offset&nbsp;=&nbsp;0,</div></div><div class=\"1963\" style=\"display: none;\"><div style=\"display: table-cell;\"></div><div style=\"display: table-cell;\">outline_line_join&nbsp;=&nbsp;'bevel',</div></div><div class=\"1963\" style=\"display: none;\"><div style=\"display: table-cell;\"></div><div style=\"display: table-cell;\">outline_line_width&nbsp;=&nbsp;1,</div></div><div class=\"1963\" style=\"display: none;\"><div style=\"display: table-cell;\"></div><div style=\"display: table-cell;\">output_backend&nbsp;=&nbsp;'webgl',</div></div><div class=\"1963\" style=\"display: none;\"><div style=\"display: table-cell;\"></div><div style=\"display: table-cell;\">renderers&nbsp;=&nbsp;[GlyphRenderer(id='1762', ...), GlyphRenderer(id='1782', ...), GlyphRenderer(id='1803', ...)],</div></div><div class=\"1963\" style=\"display: none;\"><div style=\"display: table-cell;\"></div><div style=\"display: table-cell;\">reset_policy&nbsp;=&nbsp;'standard',</div></div><div class=\"1963\" style=\"display: none;\"><div style=\"display: table-cell;\"></div><div style=\"display: table-cell;\">right&nbsp;=&nbsp;[],</div></div><div class=\"1963\" style=\"display: none;\"><div style=\"display: table-cell;\"></div><div style=\"display: table-cell;\">sizing_mode&nbsp;=&nbsp;'scale_height',</div></div><div class=\"1963\" style=\"display: none;\"><div style=\"display: table-cell;\"></div><div style=\"display: table-cell;\">subscribed_events&nbsp;=&nbsp;[],</div></div><div class=\"1963\" style=\"display: none;\"><div style=\"display: table-cell;\"></div><div style=\"display: table-cell;\">syncable&nbsp;=&nbsp;True,</div></div><div class=\"1963\" style=\"display: none;\"><div style=\"display: table-cell;\"></div><div style=\"display: table-cell;\">tags&nbsp;=&nbsp;[],</div></div><div class=\"1963\" style=\"display: none;\"><div style=\"display: table-cell;\"></div><div style=\"display: table-cell;\">title&nbsp;=&nbsp;Title(id='1726', ...),</div></div><div class=\"1963\" style=\"display: none;\"><div style=\"display: table-cell;\"></div><div style=\"display: table-cell;\">title_location&nbsp;=&nbsp;'above',</div></div><div class=\"1963\" style=\"display: none;\"><div style=\"display: table-cell;\"></div><div style=\"display: table-cell;\">toolbar&nbsp;=&nbsp;Toolbar(id='1751', ...),</div></div><div class=\"1963\" style=\"display: none;\"><div style=\"display: table-cell;\"></div><div style=\"display: table-cell;\">toolbar_location&nbsp;=&nbsp;'right',</div></div><div class=\"1963\" style=\"display: none;\"><div style=\"display: table-cell;\"></div><div style=\"display: table-cell;\">toolbar_sticky&nbsp;=&nbsp;True,</div></div><div class=\"1963\" style=\"display: none;\"><div style=\"display: table-cell;\"></div><div style=\"display: table-cell;\">visible&nbsp;=&nbsp;True,</div></div><div class=\"1963\" style=\"display: none;\"><div style=\"display: table-cell;\"></div><div style=\"display: table-cell;\">width&nbsp;=&nbsp;600,</div></div><div class=\"1963\" style=\"display: none;\"><div style=\"display: table-cell;\"></div><div style=\"display: table-cell;\">width_policy&nbsp;=&nbsp;'auto',</div></div><div class=\"1963\" style=\"display: none;\"><div style=\"display: table-cell;\"></div><div style=\"display: table-cell;\">x_range&nbsp;=&nbsp;DataRange1d(id='1728', ...),</div></div><div class=\"1963\" style=\"display: none;\"><div style=\"display: table-cell;\"></div><div style=\"display: table-cell;\">x_scale&nbsp;=&nbsp;LinearScale(id='1732', ...),</div></div><div class=\"1963\" style=\"display: none;\"><div style=\"display: table-cell;\"></div><div style=\"display: table-cell;\">y_range&nbsp;=&nbsp;DataRange1d(id='1730', ...),</div></div><div class=\"1963\" style=\"display: none;\"><div style=\"display: table-cell;\"></div><div style=\"display: table-cell;\">y_scale&nbsp;=&nbsp;LinearScale(id='1734', ...))</div></div></div>\n",
       "<script>\n",
       "(function() {\n",
       "  var expanded = false;\n",
       "  var ellipsis = document.getElementById(\"1964\");\n",
       "  ellipsis.addEventListener(\"click\", function() {\n",
       "    var rows = document.getElementsByClassName(\"1963\");\n",
       "    for (var i = 0; i < rows.length; i++) {\n",
       "      var el = rows[i];\n",
       "      el.style.display = expanded ? \"none\" : \"table-row\";\n",
       "    }\n",
       "    ellipsis.innerHTML = expanded ? \"&hellip;)\" : \"&lsaquo;&lsaquo;&lsaquo;\";\n",
       "    expanded = !expanded;\n",
       "  });\n",
       "})();\n",
       "</script>\n"
      ],
      "text/plain": [
       "Figure(id='1725', ...)"
      ]
     },
     "execution_count": 23,
     "metadata": {},
     "output_type": "execute_result"
    }
   ],
   "source": [
    "fdf[['price_vwap','price_high','price_low']].plot_bokeh(sizing_mode=\"scale_height\")"
   ]
  },
  {
   "cell_type": "markdown",
   "metadata": {},
   "source": [
    "# JMA filter"
   ]
  },
  {
   "cell_type": "code",
   "execution_count": null,
   "metadata": {
    "scrolled": true
   },
   "outputs": [],
   "source": [
    "jma.jma_expanding_filter(fdf.price_vwap, winlen=200, power=1, phase=0)"
   ]
  },
  {
   "cell_type": "code",
   "execution_count": null,
   "metadata": {},
   "outputs": [],
   "source": [
    "jma.jma_filter_df(fdf, 'price_vwap', winlen=205, power=1)"
   ]
  },
  {
   "cell_type": "code",
   "execution_count": null,
   "metadata": {},
   "outputs": [],
   "source": [
    "jma.jma_filter_df(fdf, 'price_vwap', winlen=2000, power=1).price_vwap_jma.plot()"
   ]
  },
  {
   "cell_type": "code",
   "execution_count": null,
   "metadata": {},
   "outputs": [],
   "source": [
    "jma.jma_filter_df(fdf, 'price_vwap', winlen=1000, power=1).price_vwap_jma.diff().hist(bins=40)"
   ]
  },
  {
   "cell_type": "code",
   "execution_count": null,
   "metadata": {},
   "outputs": [],
   "source": [
    "fdf.date.value_counts().hist(bins=40)"
   ]
  },
  {
   "cell_type": "markdown",
   "metadata": {},
   "source": [
    "# Ray setup"
   ]
  },
  {
   "cell_type": "code",
   "execution_count": null,
   "metadata": {},
   "outputs": [],
   "source": [
    "ray.init(dashboard_host='0.0.0.0', dashboard_port=1111, ignore_reinit_error=True)"
   ]
  },
  {
   "cell_type": "code",
   "execution_count": null,
   "metadata": {},
   "outputs": [],
   "source": [
    "ray.shutdown()"
   ]
  },
  {
   "cell_type": "code",
   "execution_count": null,
   "metadata": {},
   "outputs": [],
   "source": [
    "all_symbols = data_access.list_sd_data(prefix='/bars/renko_v2/df', source='remote')"
   ]
  },
  {
   "cell_type": "code",
   "execution_count": null,
   "metadata": {},
   "outputs": [],
   "source": [
    "large_caps, mid_caps = syncbar_task.segment_symbols(\n",
    "    all_symbols, start_date='2019-01-01', end_date='2021-01-01'\n",
    ")"
   ]
  },
  {
   "cell_type": "code",
   "execution_count": null,
   "metadata": {},
   "outputs": [],
   "source": [
    "large_caps"
   ]
  },
  {
   "cell_type": "code",
   "execution_count": null,
   "metadata": {},
   "outputs": [],
   "source": [
    "mid_caps"
   ]
  },
  {
   "cell_type": "markdown",
   "metadata": {},
   "source": [
    "# sync bars"
   ]
  },
  {
   "cell_type": "code",
   "execution_count": null,
   "metadata": {},
   "outputs": [],
   "source": [
    "config = {\n",
    "    'config_id': 'renko_v2',\n",
    "    'start_date': '2019-01-01',\n",
    "    'end_date': '2021-01-01',\n",
    "    'source': 'remote',\n",
    "    'destination': 'both',\n",
    "    'on_ray': True,\n",
    "}"
   ]
  },
  {
   "cell_type": "code",
   "execution_count": null,
   "metadata": {},
   "outputs": [],
   "source": [
    "syncbar_flow.run(config)"
   ]
  },
  {
   "cell_type": "markdown",
   "metadata": {},
   "source": [
    "# Tick Sampler "
   ]
  },
  {
   "cell_type": "code",
   "execution_count": null,
   "metadata": {
    "scrolled": true
   },
   "outputs": [],
   "source": [
    "bds = sampler_flow.run(config)"
   ]
  },
  {
   "cell_type": "markdown",
   "metadata": {
    "execution": {
     "iopub.execute_input": "2021-06-19T05:01:49.049331Z",
     "iopub.status.busy": "2021-06-19T05:01:49.048773Z",
     "iopub.status.idle": "2021-06-19T05:01:49.172619Z",
     "shell.execute_reply": "2021-06-19T05:01:49.171495Z",
     "shell.execute_reply.started": "2021-06-19T05:01:49.049270Z"
    }
   },
   "source": [
    "# fracdiff test"
   ]
  },
  {
   "cell_type": "code",
   "execution_count": null,
   "metadata": {},
   "outputs": [],
   "source": [
    "import statsmodels.tsa.stattools as stattools\n",
    "import fracdiff\n",
    "\n",
    "X = bdf.price_close.values.reshape(-1, 1)\n",
    "\n",
    "fs = fracdiff.FracdiffStat(mode=\"valid\")\n",
    "\n",
    "Xdiff = fs.fit_transform(X)\n",
    "\n",
    "_, pvalue, _, _, _, _ = stattools.adfuller(Xdiff)\n",
    "\n",
    "corr = np.corrcoef(X[-Xdiff.size :, 0], Xdiff.reshape(-1))[0][1]\n",
    "\n",
    "print(\"* Order: {:.2f}\".format(fs.d_[0]))\n",
    "print(\"* ADF p-value: {:.2f} %\".format(100 * pvalue))\n",
    "print(\"* Correlation with the original time-series: {:.2f}\".format(corr))\n",
    "\n",
    "spx = bdf.price_close\n",
    "\n",
    "import matplotlib.pyplot as plt\n",
    "\n",
    "spx_diff = pd.Series(Xdiff.reshape(-1), index=spx.index[-Xdiff.size :])\n",
    "\n",
    "fig, ax_s = plt.subplots(figsize=(24, 6))\n",
    "plt.title(\"S&P 500 and its differentiation preserving memory\")\n",
    "ax_d = ax_s.twinx()\n",
    "\n",
    "plot_s = ax_s.plot(spx, color=\"blue\", linewidth=4, label=\"S&P 500 (left)\")\n",
    "plot_d = ax_d.plot(\n",
    "    spx_diff,\n",
    "    color=\"orange\",\n",
    "    linewidth=4,\n",
    "    label=f\"S&P 500, {fs.d_[0]:.2f} th diff (right)\",\n",
    ")\n",
    "plots = plot_s + plot_d\n",
    "\n",
    "ax_s.legend(plots, [p.get_label() for p in plots], loc=0)\n",
    "plt.show()"
   ]
  }
 ],
 "metadata": {
  "kernelspec": {
   "display_name": "Python 3 (ipykernel)",
   "language": "python",
   "name": "python3"
  },
  "language_info": {
   "codemirror_mode": {
    "name": "ipython",
    "version": 3
   },
   "file_extension": ".py",
   "mimetype": "text/x-python",
   "name": "python",
   "nbconvert_exporter": "python",
   "pygments_lexer": "ipython3",
   "version": "3.8.10"
  },
  "toc-autonumbering": true,
  "toc-showcode": false,
  "toc-showmarkdowntxt": true,
  "toc-showtags": false,
  "varInspector": {
   "cols": {
    "lenName": 16,
    "lenType": 16,
    "lenVar": 40
   },
   "kernels_config": {
    "python": {
     "delete_cmd_postfix": "",
     "delete_cmd_prefix": "del ",
     "library": "var_list.py",
     "varRefreshCmd": "print(var_dic_list())"
    },
    "r": {
     "delete_cmd_postfix": ") ",
     "delete_cmd_prefix": "rm(",
     "library": "var_list.r",
     "varRefreshCmd": "cat(var_dic_list()) "
    }
   },
   "types_to_exclude": [
    "module",
    "function",
    "builtin_function_or_method",
    "instance",
    "_Feature"
   ],
   "window_display": false
  }
 },
 "nbformat": 4,
 "nbformat_minor": 4
}
