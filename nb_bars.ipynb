{
 "cells": [
  {
   "cell_type": "code",
   "execution_count": null,
   "metadata": {},
   "outputs": [],
   "source": [
    "# import pdb; pdb.set_trace()\n",
    "# import pudb; pudb.set_trace()\n",
    "\n",
    "# df.style.background_gradient(\n",
    "#     cmap='coolwarm', \n",
    "#     axis=None, \n",
    "#     vmin=-1, \n",
    "#     vmax=1\n",
    "# )  # 'Blues', 'coolwarm', 'RdBu_r' & 'BrBG'\n",
    "\n",
    "# pd.set_option('precision', 2)\n",
    "\n",
    "# .plot_bokeh(sizing_mode=\"scale_height\")\n",
    "# .plot_bokeh(kind='hist', bins=1000, sizing_mode=\"scale_height\", xlim=[0, .1])"
   ]
  },
  {
   "cell_type": "markdown",
   "metadata": {},
   "source": [
    "# Imports"
   ]
  },
  {
   "cell_type": "code",
   "execution_count": null,
   "metadata": {},
   "outputs": [],
   "source": [
    "%load_ext autoreload\n",
    "%autoreload 2\n",
    "\n",
    "import pandas as pd\n",
    "pd.set_option('float_format', '{:f}'.format)\n",
    "pd.set_option('display.max_rows', 40)\n",
    "pd.set_option('display.max_columns', 99)\n",
    "\n",
    "import matplotlib as mpl\n",
    "from matplotlib import style\n",
    "style.use('fivethirtyeight')\n",
    "mpl.rcParams['figure.figsize'] = [20, 7]"
   ]
  },
  {
   "cell_type": "code",
   "execution_count": 1,
   "metadata": {
    "execution": {
     "iopub.execute_input": "2021-06-02T19:39:50.656520Z",
     "iopub.status.busy": "2021-06-02T19:39:50.655525Z",
     "iopub.status.idle": "2021-06-02T19:39:54.416042Z",
     "shell.execute_reply": "2021-06-02T19:39:54.414695Z",
     "shell.execute_reply.started": "2021-06-02T19:39:50.656396Z"
    }
   },
   "outputs": [],
   "source": [
    "import datetime as dt\n",
    "import pickle\n",
    "import numpy as np\n",
    "import pandas as pd\n",
    "import pandas_bokeh\n",
    "pandas_bokeh.output_file(\"/tmp/bokeh_output.html\")\n",
    "import ray\n",
    "\n",
    "from data_layer import arrow_dataset, storage_adaptor\n",
    "from tick_filter import streaming_tick_filter\n",
    "from tick_sampler import streaming_tick_sampler, daily_stats\n",
    "from workflows import sampler_task, sampler_flow\n",
    "from utilities import date_fu, project_globals as g\n",
    "from data_layer import storage_adaptor, fsspec_factory, data_access\n",
    "\n",
    "\n",
    "config = {\n",
    "    'meta': {\n",
    "        'symbol': 'AU',\n",
    "        'start_date': '2019-01-01',\n",
    "        'end_date': '2019-03-01',\n",
    "        'config_id': 'renko_v1',\n",
    "        'presist_destination': 'remote',\n",
    "    },\n",
    "    'filter': {\n",
    "        'mad_value_winlen': 22,\n",
    "        'mad_deviation_winlen': 1111,\n",
    "        'mad_k': 17,\n",
    "        'jma_winlen': 7,\n",
    "        'jma_power': 2,\n",
    "    },\n",
    "    'sampler': {\n",
    "        'renko_return': 'price_jma_return',\n",
    "        'renko_size': 0.1,  # for simple runs\n",
    "        'renko_reveral_multiple': 2,\n",
    "        'renko_range_frac': 22,\n",
    "        'renko_range_min_pct_value': 0.03,  # % of symbol value enforced as min renko size\n",
    "        'max_duration_td': dt.timedelta(minutes=33),\n",
    "        'min_duration_td': dt.timedelta(seconds=33),\n",
    "        'min_tick_count': 33,\n",
    "        'add_label': True,\n",
    "        'reward_ratios': list(np.arange(2, 11, 0.5)),\n",
    "    }\n",
    "}\n",
    "\n",
    "prefix_1 = f\"/tick_samples/{config['meta']['config_id']}/bar_date\"\n",
    "\n",
    "prefix_2 = f\"/tick_samples/{config['meta']['config_id']}/bars_df\"\n",
    "\n",
    "prefix_3 = '/data/trades'\n"
   ]
  },
  {
   "cell_type": "code",
   "execution_count": null,
   "metadata": {},
   "outputs": [],
   "source": [
    "data_access.list('AU', prefix=prefix_1)"
   ]
  },
  {
   "cell_type": "code",
   "execution_count": null,
   "metadata": {},
   "outputs": [],
   "source": [
    "data_access.list(symbol='SAND', prefix=prefix_1, source='remote', show_storage=True)"
   ]
  },
  {
   "cell_type": "markdown",
   "metadata": {},
   "source": [
    "# Sample tick dates"
   ]
  },
  {
   "cell_type": "code",
   "execution_count": 2,
   "metadata": {
    "execution": {
     "iopub.execute_input": "2021-06-02T19:39:54.418801Z",
     "iopub.status.busy": "2021-06-02T19:39:54.418230Z",
     "iopub.status.idle": "2021-06-02T19:39:59.255995Z",
     "shell.execute_reply": "2021-06-02T19:39:59.254828Z",
     "shell.execute_reply.started": "2021-06-02T19:39:54.418735Z"
    }
   },
   "outputs": [
    {
     "name": "stderr",
     "output_type": "stream",
     "text": [
      "2021-06-02 12:39:56,743\tINFO services.py:1267 -- View the Ray dashboard at \u001b[1m\u001b[32mhttp://127.0.0.1:1111\u001b[39m\u001b[22m\n"
     ]
    },
    {
     "data": {
      "text/plain": [
       "{'node_ip_address': '192.168.1.66',\n",
       " 'raylet_ip_address': '192.168.1.66',\n",
       " 'redis_address': '192.168.1.66:6379',\n",
       " 'object_store_address': '/tmp/ray/session_2021-06-02_12-39-54_441380_6379/sockets/plasma_store',\n",
       " 'raylet_socket_name': '/tmp/ray/session_2021-06-02_12-39-54_441380_6379/sockets/raylet',\n",
       " 'webui_url': '127.0.0.1:1111',\n",
       " 'session_dir': '/tmp/ray/session_2021-06-02_12-39-54_441380_6379',\n",
       " 'metrics_export_port': 65031,\n",
       " 'node_id': '08e34fc1a9fbdf75c84a646a12de3760c0714ce253957011be7056b1'}"
      ]
     },
     "execution_count": 2,
     "metadata": {},
     "output_type": "execute_result"
    }
   ],
   "source": [
    "ray.init(dashboard_port=1111, ignore_reinit_error=True)"
   ]
  },
  {
   "cell_type": "code",
   "execution_count": null,
   "metadata": {},
   "outputs": [],
   "source": [
    "ray.shutdown()"
   ]
  },
  {
   "cell_type": "code",
   "execution_count": null,
   "metadata": {
    "execution": {
     "iopub.execute_input": "2021-06-02T19:39:59.259959Z",
     "iopub.status.busy": "2021-06-02T19:39:59.259383Z"
    }
   },
   "outputs": [
    {
     "name": "stdout",
     "output_type": "stream",
     "text": [
      "41 dates scheduled\n",
      "\u001b[2m\u001b[36m(pid=6399)\u001b[0m running AU 2019-01-04\n",
      "\u001b[2m\u001b[36m(pid=6400)\u001b[0m running AU 2019-01-02\n",
      "\u001b[2m\u001b[36m(pid=6398)\u001b[0m running AU 2019-01-03\n",
      "\u001b[2m\u001b[36m(pid=6397)\u001b[0m running AU 2019-01-07\n",
      "\u001b[2m\u001b[36m(pid=6400)\u001b[0m running AU 2019-01-08\n",
      "\u001b[2m\u001b[36m(pid=6397)\u001b[0m running AU 2019-01-09\n",
      "\u001b[2m\u001b[36m(pid=6398)\u001b[0m running AU 2019-01-10\n",
      "\u001b[2m\u001b[36m(pid=6399)\u001b[0m running AU 2019-01-11\n",
      "\u001b[2m\u001b[36m(pid=6400)\u001b[0m running AU 2019-01-14\n",
      "\u001b[2m\u001b[36m(pid=6399)\u001b[0m running AU 2019-01-15\n",
      "\u001b[2m\u001b[36m(pid=6397)\u001b[0m Dropping label, only 0 trades;start at: 2019-01-09 15:59:58.321541-05:00\n",
      "\u001b[2m\u001b[36m(pid=6397)\u001b[0m running AU 2019-01-16\n",
      "\u001b[2m\u001b[36m(pid=6398)\u001b[0m running AU 2019-01-17\n",
      "\u001b[2m\u001b[36m(pid=6400)\u001b[0m running AU 2019-01-18\n",
      "\u001b[2m\u001b[36m(pid=6398)\u001b[0m running AU 2019-01-22\n",
      "\u001b[2m\u001b[36m(pid=6399)\u001b[0m running AU 2019-01-23\n",
      "\u001b[2m\u001b[36m(pid=6397)\u001b[0m running AU 2019-01-24\n"
     ]
    }
   ],
   "source": [
    "bar_dates = sampler_flow.run(config, ray_on=True)"
   ]
  },
  {
   "cell_type": "code",
   "execution_count": null,
   "metadata": {},
   "outputs": [],
   "source": [
    "n = 0\n",
    "\n",
    "# bar_dates[n]['ticks_df'][['price', 'price_jma']].plot_bokeh(sizing_mode=\"scale_height\")\n",
    "bar_dates[n]['ticks_df'][['price', 'price_jma']].plot()"
   ]
  },
  {
   "cell_type": "code",
   "execution_count": null,
   "metadata": {},
   "outputs": [],
   "source": [
    "bar_dates[n]['ticks_df'][['price_jma']].plot()"
   ]
  },
  {
   "cell_type": "code",
   "execution_count": null,
   "metadata": {},
   "outputs": [],
   "source": [
    "bar_dates[n]['ticks_df'].status.value_counts() / len(bar_dates[n]['ticks_df'])"
   ]
  },
  {
   "cell_type": "code",
   "execution_count": null,
   "metadata": {},
   "outputs": [],
   "source": [
    "bar_dates[n]['bars_df'][['price_low', 'price_high', 'price_close']].plot()"
   ]
  },
  {
   "cell_type": "code",
   "execution_count": null,
   "metadata": {},
   "outputs": [],
   "source": [
    "from sample_features import stacked\n",
    "# fill daily gaps\n",
    "stacked_df = stacked.fill_gaps_dates(bar_dates, fill_col='price_vwap')\n",
    "\n",
    "stacked_df[['price_high','price_low','price_close', 'price_vwap']].plot_bokeh(sizing_mode=\"scale_height\")\n",
    "\n",
    "# stacked stats\n",
    "stats_df = stacked.stacked_df_stats(stacked_df)\n",
    "\n",
    "stats_df.describe()"
   ]
  }
 ],
 "metadata": {
  "kernelspec": {
   "display_name": "Python 3",
   "language": "python",
   "name": "python3"
  },
  "language_info": {
   "codemirror_mode": {
    "name": "ipython",
    "version": 3
   },
   "file_extension": ".py",
   "mimetype": "text/x-python",
   "name": "python",
   "nbconvert_exporter": "python",
   "pygments_lexer": "ipython3",
   "version": "3.8.10"
  },
  "toc-autonumbering": true,
  "toc-showcode": false,
  "toc-showmarkdowntxt": false,
  "toc-showtags": false,
  "varInspector": {
   "cols": {
    "lenName": 16,
    "lenType": 16,
    "lenVar": 40
   },
   "kernels_config": {
    "python": {
     "delete_cmd_postfix": "",
     "delete_cmd_prefix": "del ",
     "library": "var_list.py",
     "varRefreshCmd": "print(var_dic_list())"
    },
    "r": {
     "delete_cmd_postfix": ") ",
     "delete_cmd_prefix": "rm(",
     "library": "var_list.r",
     "varRefreshCmd": "cat(var_dic_list()) "
    }
   },
   "types_to_exclude": [
    "module",
    "function",
    "builtin_function_or_method",
    "instance",
    "_Feature"
   ],
   "window_display": false
  }
 },
 "nbformat": 4,
 "nbformat_minor": 4
}
