{
 "cells": [
  {
   "cell_type": "code",
   "execution_count": null,
   "metadata": {},
   "outputs": [],
   "source": [
    "# import pdb; pdb.set_trace()\n",
    "# import pudb; pudb.set_trace()\n",
    "\n",
    "# df.style.background_gradient(\n",
    "#     cmap='coolwarm', \n",
    "#     axis=None, \n",
    "#     vmin=-1, \n",
    "#     vmax=1\n",
    "# )  # 'Blues', 'coolwarm', 'RdBu_r' & 'BrBG'\n",
    "\n",
    "# pd.set_option('precision', 2)\n",
    "\n",
    "# .plot_bokeh(sizing_mode=\"scale_height\")\n",
    "# .plot_bokeh(kind='hist', bins=1000, sizing_mode=\"scale_height\", xlim=[0, .1])"
   ]
  },
  {
   "cell_type": "markdown",
   "metadata": {},
   "source": [
    "# Imports"
   ]
  },
  {
   "cell_type": "code",
   "execution_count": 25,
   "metadata": {
    "execution": {
     "iopub.execute_input": "2021-05-31T16:43:50.253993Z",
     "iopub.status.busy": "2021-05-31T16:43:50.253427Z",
     "iopub.status.idle": "2021-05-31T16:43:50.586229Z",
     "shell.execute_reply": "2021-05-31T16:43:50.584292Z",
     "shell.execute_reply.started": "2021-05-31T16:43:50.253944Z"
    }
   },
   "outputs": [
    {
     "name": "stdout",
     "output_type": "stream",
     "text": [
      "The autoreload extension is already loaded. To reload it, use:\n",
      "  %reload_ext autoreload\n"
     ]
    }
   ],
   "source": [
    "%load_ext autoreload\n",
    "%autoreload 2\n",
    "\n",
    "import pandas as pd\n",
    "pd.set_option('float_format', '{:f}'.format)\n",
    "pd.set_option('display.max_rows', 40)\n",
    "pd.set_option('display.max_columns', 99)\n",
    "\n",
    "import matplotlib as mpl\n",
    "from matplotlib import style\n",
    "style.use('fivethirtyeight')\n",
    "mpl.rcParams['figure.figsize'] = [20, 7]"
   ]
  },
  {
   "cell_type": "code",
   "execution_count": 26,
   "metadata": {
    "execution": {
     "iopub.execute_input": "2021-05-31T16:43:51.403681Z",
     "iopub.status.busy": "2021-05-31T16:43:51.403165Z",
     "iopub.status.idle": "2021-05-31T16:43:51.539853Z",
     "shell.execute_reply": "2021-05-31T16:43:51.537554Z",
     "shell.execute_reply.started": "2021-05-31T16:43:51.403632Z"
    }
   },
   "outputs": [],
   "source": [
    "import datetime as dt\n",
    "import pickle\n",
    "import numpy as np\n",
    "import pandas as pd\n",
    "import pandas_bokeh\n",
    "pandas_bokeh.output_file(\"/tmp/bokeh_output.html\")\n",
    "import ray\n",
    "\n",
    "from data_layer import arrow_dataset, storage_adaptor\n",
    "from tick_filter import streaming_tick_filter\n",
    "from tick_sampler import streaming_tick_sampler, daily_stats\n",
    "from workflows import sampler_task, sampler_flow\n",
    "from utilities import date_fu, project_globals_unsafe as g\n",
    "from data_layer import storage_adaptor, fsspec_factory, data_access\n",
    "\n",
    "\n",
    "config = {\n",
    "    'meta': {\n",
    "        'symbol': 'AU',\n",
    "        'start_date': '2019-01-01',\n",
    "        'end_date': '2019-02-01',\n",
    "        'config_id': 'renko_v1',\n",
    "    },\n",
    "    'filter': {\n",
    "        'mad_value_winlen': 22,\n",
    "        'mad_deviation_winlen': 1111,\n",
    "        'mad_k': 17,\n",
    "        'jma_winlen': 7,\n",
    "        'jma_power': 2,\n",
    "    },\n",
    "    'sampler': {\n",
    "        'renko_return': 'price_jma_return',\n",
    "        'renko_size': 0.1,  # for simple runs\n",
    "        'renko_reveral_multiple': 2,\n",
    "        'renko_range_frac': 22,\n",
    "        'renko_range_min_pct_value': 0.03,  # % of symbol value enforced as min renko size\n",
    "        'max_duration_td': dt.timedelta(minutes=33),\n",
    "        'min_duration_td': dt.timedelta(seconds=33),\n",
    "        'min_tick_count': 33,\n",
    "        'add_label': True,\n",
    "        'reward_ratios': list(np.arange(2, 11, 0.5)),\n",
    "    }\n",
    "}\n",
    "\n",
    "prefix_1 = f\"/tick_samples/{config['meta']['config_id']}/bar_date\"\n",
    "\n",
    "prefix_2 = f\"/tick_samples/{config['meta']['config_id']}/bars_df\"\n",
    "\n",
    "prefix_3 = '/data/trades'"
   ]
  },
  {
   "cell_type": "code",
   "execution_count": 30,
   "metadata": {
    "execution": {
     "iopub.execute_input": "2021-05-31T16:44:26.176055Z",
     "iopub.status.busy": "2021-05-31T16:44:26.175586Z",
     "iopub.status.idle": "2021-05-31T16:44:26.477293Z",
     "shell.execute_reply": "2021-05-31T16:44:26.475909Z",
     "shell.execute_reply.started": "2021-05-31T16:44:26.176012Z"
    }
   },
   "outputs": [
    {
     "data": {
      "text/plain": [
       "{'size': {'KB': 315.3},\n",
       " 'symbols': ['2019-01-02',\n",
       "  '2019-01-03',\n",
       "  '2019-01-04',\n",
       "  '2019-01-07',\n",
       "  '2019-01-08',\n",
       "  '2019-01-09',\n",
       "  '2019-01-10',\n",
       "  '2019-01-11',\n",
       "  '2019-01-14',\n",
       "  '2019-01-15',\n",
       "  '2019-01-16',\n",
       "  '2019-01-17',\n",
       "  '2019-01-18',\n",
       "  '2019-01-22',\n",
       "  '2019-01-23',\n",
       "  '2019-01-24',\n",
       "  '2019-01-25',\n",
       "  '2019-01-28',\n",
       "  '2019-01-29',\n",
       "  '2019-01-30',\n",
       "  '2019-01-31',\n",
       "  '2019-02-01']}"
      ]
     },
     "execution_count": 30,
     "metadata": {},
     "output_type": "execute_result"
    }
   ],
   "source": [
    "data_access.list('MAG', prefix_1, show_storage=True, source='remote')"
   ]
  },
  {
   "cell_type": "code",
   "execution_count": 36,
   "metadata": {
    "execution": {
     "iopub.execute_input": "2021-05-31T16:44:49.947807Z",
     "iopub.status.busy": "2021-05-31T16:44:49.947327Z",
     "iopub.status.idle": "2021-05-31T16:44:50.132093Z",
     "shell.execute_reply": "2021-05-31T16:44:50.130280Z",
     "shell.execute_reply.started": "2021-05-31T16:44:49.947754Z"
    }
   },
   "outputs": [
    {
     "data": {
      "text/plain": [
       "{'KB': 18.1}"
      ]
     },
     "execution_count": 36,
     "metadata": {},
     "output_type": "execute_result"
    }
   ],
   "source": [
    "data_access.fs_remote.storage_fs_path(prefix_1+'/symbol=MAG/date=2019-01-28')"
   ]
  },
  {
   "cell_type": "markdown",
   "metadata": {},
   "source": [
    "# Sample tick dates"
   ]
  },
  {
   "cell_type": "code",
   "execution_count": 20,
   "metadata": {
    "execution": {
     "iopub.execute_input": "2021-05-31T16:28:01.346508Z",
     "iopub.status.busy": "2021-05-31T16:28:01.345905Z",
     "iopub.status.idle": "2021-05-31T16:28:06.378669Z",
     "shell.execute_reply": "2021-05-31T16:28:06.375775Z",
     "shell.execute_reply.started": "2021-05-31T16:28:01.346448Z"
    }
   },
   "outputs": [
    {
     "name": "stderr",
     "output_type": "stream",
     "text": [
      "2021-05-31 09:28:03,798\tINFO services.py:1267 -- View the Ray dashboard at \u001b[1m\u001b[32mhttp://127.0.0.1:1111\u001b[39m\u001b[22m\n"
     ]
    },
    {
     "data": {
      "text/plain": [
       "{'node_ip_address': '192.168.1.66',\n",
       " 'raylet_ip_address': '192.168.1.66',\n",
       " 'redis_address': '192.168.1.66:6379',\n",
       " 'object_store_address': '/tmp/ray/session_2021-05-31_09-28-01_438843_88033/sockets/plasma_store',\n",
       " 'raylet_socket_name': '/tmp/ray/session_2021-05-31_09-28-01_438843_88033/sockets/raylet',\n",
       " 'webui_url': '127.0.0.1:1111',\n",
       " 'session_dir': '/tmp/ray/session_2021-05-31_09-28-01_438843_88033',\n",
       " 'metrics_export_port': 65392,\n",
       " 'node_id': '448ca4c6f4e16243755b94ca0acbefc227a76f01abb9cbba82188b43'}"
      ]
     },
     "execution_count": 20,
     "metadata": {},
     "output_type": "execute_result"
    }
   ],
   "source": [
    "ray.init(dashboard_port=1111, ignore_reinit_error=True)"
   ]
  },
  {
   "cell_type": "code",
   "execution_count": 19,
   "metadata": {
    "execution": {
     "iopub.execute_input": "2021-05-31T16:27:59.212544Z",
     "iopub.status.busy": "2021-05-31T16:27:59.212086Z",
     "iopub.status.idle": "2021-05-31T16:27:59.333267Z",
     "shell.execute_reply": "2021-05-31T16:27:59.331887Z",
     "shell.execute_reply.started": "2021-05-31T16:27:59.212503Z"
    }
   },
   "outputs": [],
   "source": [
    "ray.shutdown()"
   ]
  },
  {
   "cell_type": "code",
   "execution_count": 23,
   "metadata": {
    "execution": {
     "iopub.execute_input": "2021-05-31T16:28:51.500108Z",
     "iopub.status.busy": "2021-05-31T16:28:51.499609Z",
     "iopub.status.idle": "2021-05-31T16:29:34.558421Z",
     "shell.execute_reply": "2021-05-31T16:29:34.557221Z",
     "shell.execute_reply.started": "2021-05-31T16:28:51.500062Z"
    }
   },
   "outputs": [
    {
     "name": "stdout",
     "output_type": "stream",
     "text": [
      "16 dates scheduled\n",
      "\u001b[2m\u001b[36m(pid=88076)\u001b[0m running MAG 2019-01-09\n",
      "\u001b[2m\u001b[36m(pid=88075)\u001b[0m running MAG 2019-01-04\n",
      "\u001b[2m\u001b[36m(pid=88077)\u001b[0m running MAG 2019-01-08\n",
      "\u001b[2m\u001b[36m(pid=88074)\u001b[0m running MAG 2019-01-07\n",
      "\u001b[2m\u001b[36m(pid=88077)\u001b[0m running MAG 2019-01-16\n",
      "\u001b[2m\u001b[36m(pid=88074)\u001b[0m running MAG 2019-01-17\n",
      "\u001b[2m\u001b[36m(pid=88075)\u001b[0m running MAG 2019-01-18\n",
      "\u001b[2m\u001b[36m(pid=88076)\u001b[0m running MAG 2019-01-22\n",
      "\u001b[2m\u001b[36m(pid=88077)\u001b[0m running MAG 2019-01-23\n",
      "\u001b[2m\u001b[36m(pid=88074)\u001b[0m running MAG 2019-01-24\n",
      "\u001b[2m\u001b[36m(pid=88075)\u001b[0m running MAG 2019-01-25\n",
      "\u001b[2m\u001b[36m(pid=88076)\u001b[0m running MAG 2019-01-28\n",
      "\u001b[2m\u001b[36m(pid=88077)\u001b[0m running MAG 2019-01-30\n",
      "\u001b[2m\u001b[36m(pid=88074)\u001b[0m running MAG 2019-01-29\n",
      "\u001b[2m\u001b[36m(pid=88075)\u001b[0m running MAG 2019-01-31\n",
      "\u001b[2m\u001b[36m(pid=88074)\u001b[0m running MAG 2019-02-01\n"
     ]
    }
   ],
   "source": [
    "bar_dates = sampler_flow.run(config, ray_on=True)"
   ]
  },
  {
   "cell_type": "code",
   "execution_count": null,
   "metadata": {},
   "outputs": [],
   "source": [
    "n = 0\n",
    "\n",
    "# bar_dates[n]['ticks_df'][['price', 'price_jma']].plot_bokeh(sizing_mode=\"scale_height\")\n",
    "bar_dates[n]['ticks_df'][['price', 'price_jma']].plot()"
   ]
  },
  {
   "cell_type": "code",
   "execution_count": null,
   "metadata": {},
   "outputs": [],
   "source": [
    "bar_dates[n]['ticks_df'][['price_jma']].plot()"
   ]
  },
  {
   "cell_type": "code",
   "execution_count": null,
   "metadata": {},
   "outputs": [],
   "source": [
    "bar_dates[n]['ticks_df'].status.value_counts() / len(bar_dates[n]['ticks_df'])"
   ]
  },
  {
   "cell_type": "code",
   "execution_count": null,
   "metadata": {},
   "outputs": [],
   "source": [
    "bar_dates[n]['bars_df'][['price_low', 'price_high', 'price_close']].plot()"
   ]
  },
  {
   "cell_type": "code",
   "execution_count": null,
   "metadata": {},
   "outputs": [],
   "source": [
    "# fill daily gaps\n",
    "stacked_df = stacked.fill_gaps_dates(bds, fill_col='price_vwap')\n",
    "\n",
    "stacked_df[['price_high','price_low','price_close', 'price_vwap']].plot_bokeh(sizing_mode=\"scale_height\")\n",
    "\n",
    "# stacked stats\n",
    "stats_df = stacked.stacked_df_stats(stacked_df)\n",
    "\n",
    "stats_df.describe()"
   ]
  }
 ],
 "metadata": {
  "kernelspec": {
   "display_name": "Python 3",
   "language": "python",
   "name": "python3"
  },
  "language_info": {
   "codemirror_mode": {
    "name": "ipython",
    "version": 3
   },
   "file_extension": ".py",
   "mimetype": "text/x-python",
   "name": "python",
   "nbconvert_exporter": "python",
   "pygments_lexer": "ipython3",
   "version": "3.8.10"
  },
  "toc-autonumbering": true,
  "toc-showcode": false,
  "toc-showmarkdowntxt": false,
  "toc-showtags": false,
  "varInspector": {
   "cols": {
    "lenName": 16,
    "lenType": 16,
    "lenVar": 40
   },
   "kernels_config": {
    "python": {
     "delete_cmd_postfix": "",
     "delete_cmd_prefix": "del ",
     "library": "var_list.py",
     "varRefreshCmd": "print(var_dic_list())"
    },
    "r": {
     "delete_cmd_postfix": ") ",
     "delete_cmd_prefix": "rm(",
     "library": "var_list.r",
     "varRefreshCmd": "cat(var_dic_list()) "
    }
   },
   "types_to_exclude": [
    "module",
    "function",
    "builtin_function_or_method",
    "instance",
    "_Feature"
   ],
   "window_display": false
  }
 },
 "nbformat": 4,
 "nbformat_minor": 4
}
