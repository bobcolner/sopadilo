{
 "cells": [
  {
   "cell_type": "code",
   "execution_count": null,
   "metadata": {},
   "outputs": [],
   "source": [
    "# import pdb; pdb.set_trace()\n",
    "# import pudb; pudb.set_trace()\n",
    "\n",
    "# df.style.background_gradient(\n",
    "#     cmap='coolwarm', \n",
    "#     axis=None, \n",
    "#     vmin=-1, \n",
    "#     vmax=1\n",
    "# )  # 'Blues', 'coolwarm', 'RdBu_r' & 'BrBG'\n",
    "\n",
    "# pd.set_option('precision', 2)\n",
    "\n",
    "# .plot_bokeh(sizing_mode=\"scale_height\")\n",
    "# .plot_bokeh(kind='hist', bins=1000, sizing_mode=\"scale_height\", xlim=[0, .1])"
   ]
  },
  {
   "cell_type": "markdown",
   "metadata": {},
   "source": [
    "# Imports"
   ]
  },
  {
   "cell_type": "code",
   "execution_count": 5,
   "metadata": {
    "execution": {
     "iopub.execute_input": "2021-06-05T05:47:59.943549Z",
     "iopub.status.busy": "2021-06-05T05:47:59.942976Z",
     "iopub.status.idle": "2021-06-05T05:48:00.066740Z",
     "shell.execute_reply": "2021-06-05T05:48:00.064403Z",
     "shell.execute_reply.started": "2021-06-05T05:47:59.943497Z"
    }
   },
   "outputs": [
    {
     "name": "stdout",
     "output_type": "stream",
     "text": [
      "The autoreload extension is already loaded. To reload it, use:\n",
      "  %reload_ext autoreload\n"
     ]
    }
   ],
   "source": [
    "%load_ext autoreload\n",
    "%autoreload 2\n",
    "\n",
    "import pandas as pd\n",
    "pd.set_option('float_format', '{:f}'.format)\n",
    "pd.set_option('display.max_rows', 40)\n",
    "pd.set_option('display.max_columns', 99)\n",
    "\n",
    "import matplotlib as mpl\n",
    "from matplotlib import style\n",
    "style.use('fivethirtyeight')\n",
    "mpl.rcParams['figure.figsize'] = [20, 7]\n",
    "\n",
    "import datetime as dt\n",
    "import pickle\n",
    "import numpy as np\n",
    "import pandas as pd\n",
    "import pandas_bokeh\n",
    "pandas_bokeh.output_file(\"tmp/bokeh_output.html\")\n",
    "import ray\n",
    "\n",
    "from data_layer import arrow_dataset, storage_adaptor\n",
    "from tick_filter import streaming_tick_filter\n",
    "from tick_sampler import streaming_tick_sampler, daily_stats\n",
    "from workflows import sampler_task, sampler_flow\n",
    "from utilities import date_fu, project_globals as g\n",
    "from data_layer import storage_adaptor, fsspec_factory, data_access, arrow_dataset"
   ]
  },
  {
   "cell_type": "code",
   "execution_count": 6,
   "metadata": {
    "execution": {
     "iopub.execute_input": "2021-06-05T05:48:00.444293Z",
     "iopub.status.busy": "2021-06-05T05:48:00.443633Z",
     "iopub.status.idle": "2021-06-05T05:48:01.986444Z",
     "shell.execute_reply": "2021-06-05T05:48:01.981263Z",
     "shell.execute_reply.started": "2021-06-05T05:48:00.444164Z"
    }
   },
   "outputs": [],
   "source": [
    "prefix_data = '/data/trades'\n",
    "\n",
    "all_syms = data_access.list_sd_data(prefix=prefix_data)\n",
    "\n",
    "config = {\n",
    "    'meta': {\n",
    "        'symbol': 'EGO',\n",
    "        'symbol_list': all_syms,\n",
    "        'start_date': '2019-01-01',\n",
    "        'end_date': '2020-01-01',\n",
    "        'config_id': 'renko_v1',\n",
    "        'presist_destination': 'both',\n",
    "        'ray_on': True,\n",
    "    },\n",
    "    'filter': {\n",
    "        'mad_value_winlen': 22,\n",
    "        'mad_deviation_winlen': 1111,\n",
    "        'mad_k': 17,\n",
    "        'jma_winlen': 7,\n",
    "        'jma_power': 2,\n",
    "    },\n",
    "    'sampler': {\n",
    "        'renko_return': 'price_jma_return',\n",
    "        'renko_size': 0.1,  # for simple runs\n",
    "        'renko_reveral_multiple': 2,\n",
    "        'renko_range_frac': 22,\n",
    "        'renko_range_min_pct_value': 0.04,  # % of symbol value enforced as min renko size\n",
    "        'max_duration_td': dt.timedelta(minutes=33),\n",
    "        'min_duration_td': dt.timedelta(seconds=33),\n",
    "        'min_tick_count': 33,\n",
    "        'add_label': True,\n",
    "        'reward_ratios': list(np.arange(2, 11, 0.5)),\n",
    "    }\n",
    "}\n",
    "\n",
    "prefix_2 = f\"/bars/{config['meta']['config_id']}/meta\"\n",
    "\n",
    "prefix_3 = f\"/bars/{config['meta']['config_id']}/df\""
   ]
  },
  {
   "cell_type": "code",
   "execution_count": 9,
   "metadata": {
    "execution": {
     "iopub.execute_input": "2021-06-05T05:48:18.730128Z",
     "iopub.status.busy": "2021-06-05T05:48:18.729654Z",
     "iopub.status.idle": "2021-06-05T05:48:20.269169Z",
     "shell.execute_reply": "2021-06-05T05:48:20.268186Z",
     "shell.execute_reply.started": "2021-06-05T05:48:18.730086Z"
    }
   },
   "outputs": [
    {
     "data": {
      "text/plain": [
       "{'MB': 135.7}"
      ]
     },
     "execution_count": 9,
     "metadata": {},
     "output_type": "execute_result"
    }
   ],
   "source": [
    "data_access.list_sd_data(prefix=prefix_2, source='local', show_storage=True)"
   ]
  },
  {
   "cell_type": "markdown",
   "metadata": {},
   "source": [
    "# Read flow"
   ]
  },
  {
   "cell_type": "code",
   "execution_count": null,
   "metadata": {},
   "outputs": [],
   "source": [
    "lp = data_access.walk_prefix(prefix_2, source='local')\n",
    "\n",
    "bdf = read_flow.run(lp, data_access.fs_local.read_df_from_fs, return_df=True)"
   ]
  },
  {
   "cell_type": "code",
   "execution_count": null,
   "metadata": {},
   "outputs": [],
   "source": [
    "ds = arrow_dataset.get_dataset(prefix_2, fs_type='local')\n",
    "\n",
    "df = ds.to_table().to_pandas()"
   ]
  },
  {
   "cell_type": "code",
   "execution_count": null,
   "metadata": {},
   "outputs": [],
   "source": [
    "df.groupby(['symbol','date']).mean().reset_index().groupby('symbol').mean().describe()"
   ]
  },
  {
   "cell_type": "code",
   "execution_count": null,
   "metadata": {},
   "outputs": [],
   "source": [
    "df.groupby(['symbol','date']).count().reset_index().groupby('symbol').mean().describe()"
   ]
  },
  {
   "cell_type": "markdown",
   "metadata": {},
   "source": [
    "# Tick Sampler "
   ]
  },
  {
   "cell_type": "code",
   "execution_count": 10,
   "metadata": {
    "execution": {
     "iopub.execute_input": "2021-06-05T05:48:27.074165Z",
     "iopub.status.busy": "2021-06-05T05:48:27.073666Z",
     "iopub.status.idle": "2021-06-05T05:48:32.764179Z",
     "shell.execute_reply": "2021-06-05T05:48:32.761766Z",
     "shell.execute_reply.started": "2021-06-05T05:48:27.074120Z"
    }
   },
   "outputs": [
    {
     "name": "stderr",
     "output_type": "stream",
     "text": [
      "2021-06-04 22:48:29,707\tINFO services.py:1267 -- View the Ray dashboard at \u001b[1m\u001b[32mhttp://0.0.0.0:1111\u001b[39m\u001b[22m\n"
     ]
    },
    {
     "data": {
      "text/plain": [
       "{'node_ip_address': '192.168.1.66',\n",
       " 'raylet_ip_address': '192.168.1.66',\n",
       " 'redis_address': '192.168.1.66:6379',\n",
       " 'object_store_address': '/tmp/ray/session_2021-06-04_22-48-27_260600_25122/sockets/plasma_store',\n",
       " 'raylet_socket_name': '/tmp/ray/session_2021-06-04_22-48-27_260600_25122/sockets/raylet',\n",
       " 'webui_url': '0.0.0.0:1111',\n",
       " 'session_dir': '/tmp/ray/session_2021-06-04_22-48-27_260600_25122',\n",
       " 'metrics_export_port': 65499,\n",
       " 'node_id': '2742754521bc710dabb309690bf1787de359db9002899421091af7fa'}"
      ]
     },
     "execution_count": 10,
     "metadata": {},
     "output_type": "execute_result"
    }
   ],
   "source": [
    "ray.init(dashboard_host='0.0.0.0', dashboard_port=1111, ignore_reinit_error=True)"
   ]
  },
  {
   "cell_type": "code",
   "execution_count": 3,
   "metadata": {
    "execution": {
     "iopub.execute_input": "2021-06-05T05:45:13.504729Z",
     "iopub.status.busy": "2021-06-05T05:45:13.502268Z",
     "iopub.status.idle": "2021-06-05T05:45:13.630251Z",
     "shell.execute_reply": "2021-06-05T05:45:13.628888Z",
     "shell.execute_reply.started": "2021-06-05T05:45:13.504633Z"
    }
   },
   "outputs": [],
   "source": [
    "ray.shutdown()"
   ]
  },
  {
   "cell_type": "code",
   "execution_count": null,
   "metadata": {
    "execution": {
     "iopub.execute_input": "2021-06-05T05:48:32.769191Z",
     "iopub.status.busy": "2021-06-05T05:48:32.768339Z"
    },
    "scrolled": true
   },
   "outputs": [
    {
     "name": "stdout",
     "output_type": "stream",
     "text": [
      "No remaining dates\n",
      "failed symbol list: AEM\n",
      "No remaining dates\n",
      "failed symbol list: AG\n",
      "No remaining dates\n",
      "failed symbol list: AGI\n",
      "No remaining dates\n",
      "failed symbol list: ASA\n",
      "No remaining dates\n",
      "failed symbol list: AU\n",
      "No remaining dates\n",
      "failed symbol list: AUY\n",
      "No remaining dates\n",
      "failed symbol list: AXU\n",
      "No remaining dates\n",
      "failed symbol list: BTG\n",
      "No remaining dates\n",
      "failed symbol list: BVN\n",
      "No remaining dates\n",
      "failed symbol list: CDE\n",
      "No remaining dates\n",
      "failed symbol list: DRD\n",
      "No remaining dates\n",
      "failed symbol list: EGO\n",
      "No remaining dates\n",
      "failed symbol list: EXK\n",
      "No remaining dates\n",
      "failed symbol list: FNV\n",
      "No remaining dates\n",
      "failed symbol list: FSM\n",
      "No remaining dates\n",
      "failed symbol list: GFI\n",
      "No remaining dates\n",
      "failed symbol list: GLD\n",
      "\u001b[2m\u001b[36m(pid=25170)\u001b[0m running GORO 2019-05-09\n",
      "\u001b[2m\u001b[36m(pid=25168)\u001b[0m running GORO 2019-05-10\n",
      "\u001b[2m\u001b[36m(pid=25171)\u001b[0m running GORO 2019-05-07\n",
      "\u001b[2m\u001b[36m(pid=25169)\u001b[0m running GORO 2019-05-08\n",
      "\u001b[2m\u001b[36m(pid=25170)\u001b[0m running GORO 2019-05-13\n",
      "\u001b[2m\u001b[36m(pid=25171)\u001b[0m running GORO 2019-05-14\n",
      "\u001b[2m\u001b[36m(pid=25168)\u001b[0m running GORO 2019-05-15\n",
      "\u001b[2m\u001b[36m(pid=25169)\u001b[0m running GORO 2019-05-16\n",
      "\u001b[2m\u001b[36m(pid=25170)\u001b[0m running GORO 2019-05-17\n",
      "\u001b[2m\u001b[36m(pid=25169)\u001b[0m running GORO 2019-05-20\n",
      "\u001b[2m\u001b[36m(pid=25171)\u001b[0m running GORO 2019-05-21\n",
      "\u001b[2m\u001b[36m(pid=25168)\u001b[0m running GORO 2019-05-22\n",
      "\u001b[2m\u001b[36m(pid=25171)\u001b[0m running GORO 2019-05-23\n",
      "\u001b[2m\u001b[36m(pid=25168)\u001b[0m running GORO 2019-05-24\n",
      "\u001b[2m\u001b[36m(pid=25169)\u001b[0m running GORO 2019-05-28\n",
      "\u001b[2m\u001b[36m(pid=25170)\u001b[0m running GORO 2019-05-29\n",
      "\u001b[2m\u001b[36m(pid=25171)\u001b[0m Dropping label, only 0 trades;start at: 2019-05-23 15:59:56.757933036-04:00\n",
      "\u001b[2m\u001b[36m(pid=25171)\u001b[0m running GORO 2019-05-30\n",
      "\u001b[2m\u001b[36m(pid=25171)\u001b[0m running GORO 2019-05-31\n",
      "\u001b[2m\u001b[36m(pid=25168)\u001b[0m running GORO 2019-06-03\n",
      "\u001b[2m\u001b[36m(pid=25170)\u001b[0m running GORO 2019-06-04\n",
      "\u001b[2m\u001b[36m(pid=25169)\u001b[0m running GORO 2019-06-05\n",
      "\u001b[2m\u001b[36m(pid=25171)\u001b[0m running GORO 2019-06-06\n",
      "\u001b[2m\u001b[36m(pid=25168)\u001b[0m Dropping label, only 0 trades;start at: 2019-06-03 15:59:56.890889231-04:00\n",
      "\u001b[2m\u001b[36m(pid=25168)\u001b[0m running GORO 2019-06-07\n",
      "\u001b[2m\u001b[36m(pid=25170)\u001b[0m running GORO 2019-06-10\n",
      "\u001b[2m\u001b[36m(pid=25171)\u001b[0m running GORO 2019-06-11\n",
      "\u001b[2m\u001b[36m(pid=25168)\u001b[0m running GORO 2019-06-12\n",
      "\u001b[2m\u001b[36m(pid=25169)\u001b[0m running GORO 2019-06-13\n",
      "\u001b[2m\u001b[36m(pid=25170)\u001b[0m running GORO 2019-06-14\n",
      "\u001b[2m\u001b[36m(pid=25169)\u001b[0m running GORO 2019-06-17\n",
      "\u001b[2m\u001b[36m(pid=25168)\u001b[0m running GORO 2019-06-18\n",
      "\u001b[2m\u001b[36m(pid=25171)\u001b[0m running GORO 2019-06-19\n",
      "\u001b[2m\u001b[36m(pid=25169)\u001b[0m running GORO 2019-06-20\n",
      "\u001b[2m\u001b[36m(pid=25170)\u001b[0m running GORO 2019-06-21\n",
      "\u001b[2m\u001b[36m(pid=25168)\u001b[0m running GORO 2019-06-24\n",
      "\u001b[2m\u001b[36m(pid=25171)\u001b[0m running GORO 2019-06-25\n",
      "\u001b[2m\u001b[36m(pid=25170)\u001b[0m Dropping label, only 0 trades;start at: 2019-06-21 15:59:59.906829578-04:00\n",
      "\u001b[2m\u001b[36m(pid=25170)\u001b[0m running GORO 2019-06-26\n",
      "\u001b[2m\u001b[36m(pid=25169)\u001b[0m running GORO 2019-06-27\n",
      "\u001b[2m\u001b[36m(pid=25171)\u001b[0m running GORO 2019-06-28\n",
      "\u001b[2m\u001b[36m(pid=25168)\u001b[0m running GORO 2019-07-01\n",
      "\u001b[2m\u001b[36m(pid=25169)\u001b[0m running GORO 2019-07-02\n",
      "\u001b[2m\u001b[36m(pid=25170)\u001b[0m running GORO 2019-07-03\n",
      "\u001b[2m\u001b[36m(pid=25170)\u001b[0m Dropping label, only 0 trades;start at: 2019-07-03 13:00:00.023234841-04:00\n",
      "\u001b[2m\u001b[36m(pid=25168)\u001b[0m running GORO 2019-07-05\n",
      "\u001b[2m\u001b[36m(pid=25170)\u001b[0m running GORO 2019-07-08\n",
      "\u001b[2m\u001b[36m(pid=25169)\u001b[0m running GORO 2019-07-09\n",
      "\u001b[2m\u001b[36m(pid=25171)\u001b[0m running GORO 2019-07-10\n",
      "\u001b[2m\u001b[36m(pid=25170)\u001b[0m running GORO 2019-07-11\n",
      "\u001b[2m\u001b[36m(pid=25169)\u001b[0m running GORO 2019-07-12\n",
      "\u001b[2m\u001b[36m(pid=25168)\u001b[0m running GORO 2019-07-15\n",
      "\u001b[2m\u001b[36m(pid=25171)\u001b[0m running GORO 2019-07-16\n",
      "\u001b[2m\u001b[36m(pid=25170)\u001b[0m running GORO 2019-07-17\n",
      "\u001b[2m\u001b[36m(pid=25168)\u001b[0m running GORO 2019-07-18\n",
      "\u001b[2m\u001b[36m(pid=25169)\u001b[0m running GORO 2019-07-19\n",
      "\u001b[2m\u001b[36m(pid=25171)\u001b[0m Dropping label, only 0 trades;start at: 2019-07-16 15:59:58.932292306-04:00\n",
      "\u001b[2m\u001b[36m(pid=25171)\u001b[0m running GORO 2019-07-22\n",
      "\u001b[2m\u001b[36m(pid=25169)\u001b[0m running GORO 2019-07-23\n",
      "\u001b[2m\u001b[36m(pid=25170)\u001b[0m running GORO 2019-07-24\n",
      "\u001b[2m\u001b[36m(pid=25171)\u001b[0m running GORO 2019-07-25\n",
      "\u001b[2m\u001b[36m(pid=25168)\u001b[0m running GORO 2019-07-26\n",
      "\u001b[2m\u001b[36m(pid=25168)\u001b[0m running GORO 2019-07-29\n",
      "\u001b[2m\u001b[36m(pid=25169)\u001b[0m running GORO 2019-07-30\n",
      "\u001b[2m\u001b[36m(pid=25171)\u001b[0m running GORO 2019-07-31\n",
      "\u001b[2m\u001b[36m(pid=25170)\u001b[0m running GORO 2019-08-01\n",
      "\u001b[2m\u001b[36m(pid=25168)\u001b[0m running GORO 2019-08-02\n",
      "\u001b[2m\u001b[36m(pid=25169)\u001b[0m running GORO 2019-08-05\n",
      "\u001b[2m\u001b[36m(pid=25171)\u001b[0m running GORO 2019-08-06\n",
      "\u001b[2m\u001b[36m(pid=25170)\u001b[0m running GORO 2019-08-07\n"
     ]
    }
   ],
   "source": [
    "bds = sampler_flow.run(config)"
   ]
  },
  {
   "cell_type": "code",
   "execution_count": null,
   "metadata": {},
   "outputs": [],
   "source": [
    "data_access.fs_remote.write_sd_data(out[0], 'test', '2020-01-01', prefix_2)"
   ]
  },
  {
   "cell_type": "code",
   "execution_count": null,
   "metadata": {},
   "outputs": [],
   "source": [
    "n = 1\n",
    "print(bds[n]['date'])\n",
    "# bds[n]['ticks_df'][['price', 'price_jma']].plot_bokeh(sizing_mode=\"scale_height\")\n",
    "bds[n]['ticks_df'][['price', 'price_jma']].plot()"
   ]
  },
  {
   "cell_type": "code",
   "execution_count": null,
   "metadata": {},
   "outputs": [],
   "source": [
    "bds[n]['ticks_df'][['price_jma']].plot()"
   ]
  },
  {
   "cell_type": "code",
   "execution_count": null,
   "metadata": {},
   "outputs": [],
   "source": [
    "bds[n]['ticks_df'].status.value_counts() / len(bds[n]['ticks_df'])"
   ]
  },
  {
   "cell_type": "code",
   "execution_count": null,
   "metadata": {},
   "outputs": [],
   "source": [
    "bds[n]['bars_df'][['price_low', 'price_high', 'price_close']].plot()"
   ]
  },
  {
   "cell_type": "markdown",
   "metadata": {},
   "source": [
    "# Price gap fill"
   ]
  },
  {
   "cell_type": "code",
   "execution_count": null,
   "metadata": {},
   "outputs": [],
   "source": [
    "from sample_features import stacked\n",
    "# fill daily gaps\n",
    "stacked_df = stacked.fill_gaps_dates(bar_dates, fill_col='price_vwap')\n",
    "\n",
    "# stacked_df[['price_high','price_low','price_close', 'price_vwap']].plot_bokeh(sizing_mode=\"scale_height\")\n",
    "\n",
    "# stacked stats\n",
    "stats_df = stacked.stacked_df_stats(stacked_df)\n"
   ]
  },
  {
   "cell_type": "code",
   "execution_count": null,
   "metadata": {},
   "outputs": [],
   "source": [
    "stats_df.describe()"
   ]
  }
 ],
 "metadata": {
  "kernelspec": {
   "display_name": "Python 3",
   "language": "python",
   "name": "python3"
  },
  "language_info": {
   "codemirror_mode": {
    "name": "ipython",
    "version": 3
   },
   "file_extension": ".py",
   "mimetype": "text/x-python",
   "name": "python",
   "nbconvert_exporter": "python",
   "pygments_lexer": "ipython3",
   "version": "3.8.10"
  },
  "toc-autonumbering": true,
  "toc-showcode": false,
  "toc-showmarkdowntxt": false,
  "toc-showtags": false,
  "varInspector": {
   "cols": {
    "lenName": 16,
    "lenType": 16,
    "lenVar": 40
   },
   "kernels_config": {
    "python": {
     "delete_cmd_postfix": "",
     "delete_cmd_prefix": "del ",
     "library": "var_list.py",
     "varRefreshCmd": "print(var_dic_list())"
    },
    "r": {
     "delete_cmd_postfix": ") ",
     "delete_cmd_prefix": "rm(",
     "library": "var_list.r",
     "varRefreshCmd": "cat(var_dic_list()) "
    }
   },
   "types_to_exclude": [
    "module",
    "function",
    "builtin_function_or_method",
    "instance",
    "_Feature"
   ],
   "window_display": false
  }
 },
 "nbformat": 4,
 "nbformat_minor": 4
}
