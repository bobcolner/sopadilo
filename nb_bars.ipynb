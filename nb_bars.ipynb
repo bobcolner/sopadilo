{
 "cells": [
  {
   "cell_type": "code",
   "execution_count": null,
   "metadata": {},
   "outputs": [],
   "source": [
    "# import pdb; pdb.set_trace()\n",
    "# import pudb; pudb.set_trace()\n",
    "\n",
    "# df.style.background_gradient(\n",
    "#     cmap='coolwarm', \n",
    "#     axis=None, \n",
    "#     vmin=-1, \n",
    "#     vmax=1\n",
    "# )  # 'Blues', 'coolwarm', 'RdBu_r' & 'BrBG'\n",
    "\n",
    "# pd.set_option('precision', 2)\n",
    "\n",
    "# .plot_bokeh(sizing_mode=\"scale_height\")\n",
    "# .plot_bokeh(kind='hist', bins=1000, sizing_mode=\"scale_height\", xlim=[0, .1])"
   ]
  },
  {
   "cell_type": "markdown",
   "metadata": {},
   "source": [
    "# Imports"
   ]
  },
  {
   "cell_type": "code",
   "execution_count": 1,
   "metadata": {
    "execution": {
     "iopub.execute_input": "2021-06-04T21:34:18.725190Z",
     "iopub.status.busy": "2021-06-04T21:34:18.724408Z",
     "iopub.status.idle": "2021-06-04T21:34:19.653055Z",
     "shell.execute_reply": "2021-06-04T21:34:19.651651Z",
     "shell.execute_reply.started": "2021-06-04T21:34:18.725082Z"
    }
   },
   "outputs": [],
   "source": [
    "%load_ext autoreload\n",
    "%autoreload 2\n",
    "\n",
    "import pandas as pd\n",
    "pd.set_option('float_format', '{:f}'.format)\n",
    "pd.set_option('display.max_rows', 40)\n",
    "pd.set_option('display.max_columns', 99)\n",
    "\n",
    "import matplotlib as mpl\n",
    "from matplotlib import style\n",
    "style.use('fivethirtyeight')\n",
    "mpl.rcParams['figure.figsize'] = [20, 7]"
   ]
  },
  {
   "cell_type": "code",
   "execution_count": 2,
   "metadata": {
    "execution": {
     "iopub.execute_input": "2021-06-04T21:34:19.656203Z",
     "iopub.status.busy": "2021-06-04T21:34:19.655125Z",
     "iopub.status.idle": "2021-06-04T21:34:22.647415Z",
     "shell.execute_reply": "2021-06-04T21:34:22.646090Z",
     "shell.execute_reply.started": "2021-06-04T21:34:19.656124Z"
    }
   },
   "outputs": [],
   "source": [
    "import datetime as dt\n",
    "import pickle\n",
    "import numpy as np\n",
    "import pandas as pd\n",
    "import pandas_bokeh\n",
    "pandas_bokeh.output_file(\"tmp/bokeh_output.html\")\n",
    "import ray\n",
    "\n",
    "from data_layer import arrow_dataset, storage_adaptor\n",
    "from tick_filter import streaming_tick_filter\n",
    "from tick_sampler import streaming_tick_sampler, daily_stats\n",
    "from workflows import sampler_task, sampler_flow\n",
    "from utilities import date_fu, project_globals as g\n",
    "from data_layer import storage_adaptor, fsspec_factory, data_access, arrow_dataset\n",
    "\n",
    "\n",
    "config = {\n",
    "    'meta': {\n",
    "        'symbol': 'EGO',\n",
    "#         'symbol_list': ['GFI','GLD','GORO','GSS'],\n",
    "        'start_date': '2020-01-01',\n",
    "        'end_date': '2020-01-04',\n",
    "        'config_id': 'renko_v1',\n",
    "        'presist_destination': 'both',\n",
    "        'ray_on': False,\n",
    "    },\n",
    "    'filter': {\n",
    "        'mad_value_winlen': 22,\n",
    "        'mad_deviation_winlen': 1111,\n",
    "        'mad_k': 17,\n",
    "        'jma_winlen': 7,\n",
    "        'jma_power': 2,\n",
    "    },\n",
    "    'sampler': {\n",
    "        'renko_return': 'price_jma_return',\n",
    "        'renko_size': 0.1,  # for simple runs\n",
    "        'renko_reveral_multiple': 2,\n",
    "        'renko_range_frac': 22,\n",
    "        'renko_range_min_pct_value': 0.04,  # % of symbol value enforced as min renko size\n",
    "        'max_duration_td': dt.timedelta(minutes=33),\n",
    "        'min_duration_td': dt.timedelta(seconds=33),\n",
    "        'min_tick_count': 33,\n",
    "        'add_label': True,\n",
    "        'reward_ratios': list(np.arange(2, 11, 0.5)),\n",
    "    }\n",
    "}\n",
    "\n",
    "prefix_1 = '/data/trades'\n",
    "\n",
    "prefix_2 = f\"/bars/{config['meta']['config_id']}/meta\"\n",
    "\n",
    "prefix_3 = f\"/bars/{config['meta']['config_id']}/df\"\n"
   ]
  },
  {
   "cell_type": "code",
   "execution_count": null,
   "metadata": {
    "execution": {
     "iopub.execute_input": "2021-06-04T21:36:13.930101Z",
     "iopub.status.busy": "2021-06-04T21:36:13.929620Z"
    }
   },
   "outputs": [],
   "source": [
    "data_access.list_sd_data(prefix=prefix_2, source='remote')"
   ]
  },
  {
   "cell_type": "markdown",
   "metadata": {},
   "source": [
    "# Tick Sampler "
   ]
  },
  {
   "cell_type": "code",
   "execution_count": null,
   "metadata": {},
   "outputs": [],
   "source": [
    "ray.init(dashboard_host='0.0.0.0', dashboard_port=1111, ignore_reinit_error=True)"
   ]
  },
  {
   "cell_type": "code",
   "execution_count": null,
   "metadata": {},
   "outputs": [],
   "source": [
    "ray.shutdown()"
   ]
  },
  {
   "cell_type": "code",
   "execution_count": 3,
   "metadata": {
    "execution": {
     "iopub.execute_input": "2021-06-04T21:34:22.650351Z",
     "iopub.status.busy": "2021-06-04T21:34:22.649582Z",
     "iopub.status.idle": "2021-06-04T21:34:50.889424Z",
     "shell.execute_reply": "2021-06-04T21:34:50.887367Z",
     "shell.execute_reply.started": "2021-06-04T21:34:22.650250Z"
    }
   },
   "outputs": [
    {
     "name": "stderr",
     "output_type": "stream",
     "text": [
      "  1%|          | 92/7398 [00:00<00:07, 916.86it/s]"
     ]
    },
    {
     "name": "stdout",
     "output_type": "stream",
     "text": [
      "running EGO 2020-01-02\n"
     ]
    },
    {
     "name": "stderr",
     "output_type": "stream",
     "text": [
      "100%|██████████| 7398/7398 [00:04<00:00, 1830.86it/s]\n",
      "  2%|▏         | 140/7892 [00:00<00:05, 1376.68it/s]"
     ]
    },
    {
     "name": "stdout",
     "output_type": "stream",
     "text": [
      "running EGO 2020-01-03\n"
     ]
    },
    {
     "name": "stderr",
     "output_type": "stream",
     "text": [
      "100%|██████████| 7892/7892 [00:04<00:00, 1590.38it/s]\n"
     ]
    }
   ],
   "source": [
    "out = sampler_flow.run(config)"
   ]
  },
  {
   "cell_type": "code",
   "execution_count": null,
   "metadata": {},
   "outputs": [],
   "source": [
    "data_access.fs_remote.write_sd_data(out[0], 'test', '2020-01-01', prefix_2)"
   ]
  },
  {
   "cell_type": "code",
   "execution_count": null,
   "metadata": {},
   "outputs": [],
   "source": [
    "prefix_2"
   ]
  },
  {
   "cell_type": "code",
   "execution_count": null,
   "metadata": {},
   "outputs": [],
   "source": [
    "n = 1\n",
    "print(bar_dates[n]['date'])\n",
    "# bar_dates[n]['ticks_df'][['price', 'price_jma']].plot_bokeh(sizing_mode=\"scale_height\")\n",
    "bar_dates[n]['ticks_df'][['price', 'price_jma']].plot()"
   ]
  },
  {
   "cell_type": "code",
   "execution_count": null,
   "metadata": {},
   "outputs": [],
   "source": [
    "bar_dates[n]['ticks_df'][['price_jma']].plot()"
   ]
  },
  {
   "cell_type": "code",
   "execution_count": null,
   "metadata": {},
   "outputs": [],
   "source": [
    "bar_dates[n]['ticks_df'].status.value_counts() / len(bar_dates[n]['ticks_df'])"
   ]
  },
  {
   "cell_type": "code",
   "execution_count": null,
   "metadata": {},
   "outputs": [],
   "source": [
    "bar_dates[n]['bars_df'][['price_low', 'price_high', 'price_close']].plot()"
   ]
  },
  {
   "cell_type": "markdown",
   "metadata": {},
   "source": [
    "# Price gap fill"
   ]
  },
  {
   "cell_type": "code",
   "execution_count": null,
   "metadata": {},
   "outputs": [],
   "source": [
    "from sample_features import stacked\n",
    "# fill daily gaps\n",
    "stacked_df = stacked.fill_gaps_dates(bar_dates, fill_col='price_vwap')\n",
    "\n",
    "# stacked_df[['price_high','price_low','price_close', 'price_vwap']].plot_bokeh(sizing_mode=\"scale_height\")\n",
    "\n",
    "# stacked stats\n",
    "stats_df = stacked.stacked_df_stats(stacked_df)\n"
   ]
  },
  {
   "cell_type": "code",
   "execution_count": null,
   "metadata": {},
   "outputs": [],
   "source": [
    "stats_df.describe()"
   ]
  }
 ],
 "metadata": {
  "kernelspec": {
   "display_name": "Python 3",
   "language": "python",
   "name": "python3"
  },
  "language_info": {
   "codemirror_mode": {
    "name": "ipython",
    "version": 3
   },
   "file_extension": ".py",
   "mimetype": "text/x-python",
   "name": "python",
   "nbconvert_exporter": "python",
   "pygments_lexer": "ipython3",
   "version": "3.8.10"
  },
  "toc-autonumbering": true,
  "toc-showcode": false,
  "toc-showmarkdowntxt": false,
  "toc-showtags": false,
  "varInspector": {
   "cols": {
    "lenName": 16,
    "lenType": 16,
    "lenVar": 40
   },
   "kernels_config": {
    "python": {
     "delete_cmd_postfix": "",
     "delete_cmd_prefix": "del ",
     "library": "var_list.py",
     "varRefreshCmd": "print(var_dic_list())"
    },
    "r": {
     "delete_cmd_postfix": ") ",
     "delete_cmd_prefix": "rm(",
     "library": "var_list.r",
     "varRefreshCmd": "cat(var_dic_list()) "
    }
   },
   "types_to_exclude": [
    "module",
    "function",
    "builtin_function_or_method",
    "instance",
    "_Feature"
   ],
   "window_display": false
  }
 },
 "nbformat": 4,
 "nbformat_minor": 4
}
