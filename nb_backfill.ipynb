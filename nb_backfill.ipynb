{
 "cells": [
  {
   "cell_type": "markdown",
   "metadata": {
    "execution": {
     "iopub.execute_input": "2020-12-30T04:32:21.398901Z",
     "iopub.status.busy": "2020-12-30T04:32:21.398455Z",
     "iopub.status.idle": "2020-12-30T04:32:21.406675Z",
     "shell.execute_reply": "2020-12-30T04:32:21.403311Z",
     "shell.execute_reply.started": "2020-12-30T04:32:21.398863Z"
    }
   },
   "source": [
    "# Imports"
   ]
  },
  {
   "cell_type": "code",
   "execution_count": 3,
   "metadata": {
    "execution": {
     "iopub.execute_input": "2021-05-15T20:43:11.571147Z",
     "iopub.status.busy": "2021-05-15T20:43:11.570295Z",
     "iopub.status.idle": "2021-05-15T20:43:11.898044Z",
     "shell.execute_reply": "2021-05-15T20:43:11.869292Z",
     "shell.execute_reply.started": "2021-05-15T20:43:11.571080Z"
    }
   },
   "outputs": [
    {
     "name": "stdout",
     "output_type": "stream",
     "text": [
      "The autoreload extension is already loaded. To reload it, use:\n",
      "  %reload_ext autoreload\n"
     ]
    }
   ],
   "source": [
    "%load_ext autoreload\n",
    "%autoreload 2\n",
    "\n",
    "import numpy as np\n",
    "import pandas as pd\n",
    "pd.set_option('float_format', '{:f}'.format)\n",
    "pd.set_option('display.max_rows', 30)\n",
    "pd.set_option('display.max_columns', 99)\n",
    "import pandas_bokeh\n",
    "pandas_bokeh.output_file(\"data/bokeh_output.html\")\n",
    "\n",
    "import data_api.ploygon_rest as papi\n",
    "import data_api.ploygon_df as pdf\n",
    "import data_model.arrow_dataset as pds\n",
    "import data_model.s3_backend as ps3\n",
    "import data_backfill.dates_backfill_flow as fb"
   ]
  },
  {
   "cell_type": "markdown",
   "metadata": {
    "execution": {
     "iopub.execute_input": "2020-12-30T04:32:10.389023Z",
     "iopub.status.busy": "2020-12-30T04:32:10.387941Z",
     "iopub.status.idle": "2020-12-30T04:32:10.398392Z",
     "shell.execute_reply": "2020-12-30T04:32:10.396173Z",
     "shell.execute_reply.started": "2020-12-30T04:32:10.388896Z"
    }
   },
   "source": [
    "# Backfill data"
   ]
  },
  {
   "cell_type": "code",
   "execution_count": 4,
   "metadata": {
    "execution": {
     "iopub.execute_input": "2021-05-15T20:57:44.580092Z",
     "iopub.status.busy": "2021-05-15T20:57:44.578795Z",
     "iopub.status.idle": "2021-05-15T20:57:44.690896Z",
     "shell.execute_reply": "2021-05-15T20:57:44.689174Z",
     "shell.execute_reply.started": "2021-05-15T20:57:44.580036Z"
    }
   },
   "outputs": [],
   "source": [
    "clust_gold = ['AEM', 'AGI', 'ASA', 'AU', 'AUY', 'BTG', 'DRD', 'EGO', 'FNV', 'GFI', 'HMY', 'IAG', 'KGC', 'KL', 'NEM', 'NG', 'OR', 'PAAS', 'RGLD', 'SA', 'SAND', 'SSRM', 'WPM']\n",
    "\n",
    "clust_silver = ['AG', 'AXU', 'BVN', 'CDE', 'EXK', 'FSM', 'GORO', 'GSS', 'HL', 'MAG', 'MUX', 'PVG', 'SVM', 'USAS']\n",
    "\n",
    "all_sym = clust_gold + clust_silver + ['VTI', 'GLD']"
   ]
  },
  {
   "cell_type": "code",
   "execution_count": 5,
   "metadata": {
    "execution": {
     "iopub.execute_input": "2021-05-15T20:57:45.158748Z",
     "iopub.status.busy": "2021-05-15T20:57:45.157753Z",
     "iopub.status.idle": "2021-05-15T20:57:45.232251Z",
     "shell.execute_reply": "2021-05-15T20:57:45.230359Z",
     "shell.execute_reply.started": "2021-05-15T20:57:45.158679Z"
    }
   },
   "outputs": [],
   "source": [
    "# set sampling params\n",
    "\n",
    "symbol = 'VTI'\n",
    "start_date = '2020-11-01'\n",
    "from datetime import date\n",
    "end_date = date.today().isoformat()\n",
    "date = '2020-11-02'"
   ]
  },
  {
   "cell_type": "code",
   "execution_count": 6,
   "metadata": {
    "execution": {
     "iopub.execute_input": "2021-05-15T20:57:45.768160Z",
     "iopub.status.busy": "2021-05-15T20:57:45.765979Z",
     "iopub.status.idle": "2021-05-15T20:57:46.619415Z",
     "shell.execute_reply": "2021-05-15T20:57:46.609456Z",
     "shell.execute_reply.started": "2021-05-15T20:57:45.768109Z"
    }
   },
   "outputs": [
    {
     "data": {
      "text/plain": [
       "0       2016-01-04\n",
       "1       2016-01-05\n",
       "2       2016-01-06\n",
       "3       2016-01-07\n",
       "4       2016-01-08\n",
       "           ...    \n",
       "1272    2021-01-22\n",
       "1273    2021-01-25\n",
       "1274    2021-01-26\n",
       "1275    2021-01-27\n",
       "1276    2021-01-28\n",
       "Length: 1277, dtype: object"
      ]
     },
     "execution_count": 6,
     "metadata": {},
     "output_type": "execute_result"
    }
   ],
   "source": [
    "# check existing data\n",
    "\n",
    "# pd.Series(ps3.list_symbol_dates(symbol='AG', tick_type='trades'))\n",
    "pd.Series(ps3.list_symbol_dates(symbol='market', tick_type='daily'))"
   ]
  },
  {
   "cell_type": "code",
   "execution_count": null,
   "metadata": {},
   "outputs": [],
   "source": [
    "df = pdf.get_market_date_df('2021-02-01')"
   ]
  },
  {
   "cell_type": "code",
   "execution_count": null,
   "metadata": {},
   "outputs": [],
   "source": [
    "df = pdf.get_date_df(symbol='GLD', date='2021-02-05', tick_type='trades')"
   ]
  },
  {
   "cell_type": "code",
   "execution_count": null,
   "metadata": {},
   "outputs": [],
   "source": [
    "# backfill market daily\n",
    "\n",
    "fb.run_flow(\n",
    "    symbols=['market'],`\n",
    "    tick_type='daily',\n",
    "    start_date='2016-01-01',\n",
    "    n_workers=4,\n",
    "    threads_per_worker=8\n",
    ")"
   ]
  },
  {
   "cell_type": "code",
   "execution_count": null,
   "metadata": {},
   "outputs": [],
   "source": [
    "# backfill trades\n",
    "\n",
    "fb.run_flow(\n",
    "    symbols=all_sym,\n",
    "    tick_type='trades', \n",
    "    start_date='2019-01-01', \n",
    "    n_workers=2, \n",
    "    threads_per_worker=4\n",
    ")"
   ]
  },
  {
   "cell_type": "code",
   "execution_count": null,
   "metadata": {},
   "outputs": [],
   "source": []
  }
 ],
 "metadata": {
  "kernelspec": {
   "display_name": "Python 3",
   "language": "python",
   "name": "python3"
  },
  "language_info": {
   "codemirror_mode": {
    "name": "ipython",
    "version": 3
   },
   "file_extension": ".py",
   "mimetype": "text/x-python",
   "name": "python",
   "nbconvert_exporter": "python",
   "pygments_lexer": "ipython3",
   "version": "3.8.6"
  }
 },
 "nbformat": 4,
 "nbformat_minor": 4
}
